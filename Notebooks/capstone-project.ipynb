{
 "cells": [
  {
   "cell_type": "code",
   "execution_count": null,
   "id": "a0612e52-43b4-434c-b857-fe81e5ec08ad",
   "metadata": {},
   "outputs": [],
   "source": [
    "import pandas as pd"
   ]
  },
  {
   "cell_type": "code",
   "execution_count": null,
   "id": "f42d7778-8513-48a4-9eac-93cba1ed65d2",
   "metadata": {},
   "outputs": [],
   "source": [
    "import numpy as np"
   ]
  },
  {
   "cell_type": "code",
   "execution_count": null,
   "id": "d8273677-f5b5-457d-94d9-7c9e1ae58b3a",
   "metadata": {},
   "outputs": [],
   "source": [
    "import matplotlib.pyplot as plt"
   ]
  },
  {
   "cell_type": "code",
   "execution_count": null,
   "id": "309d2830-171b-4917-84cd-d8a6298971ee",
   "metadata": {},
   "outputs": [],
   "source": [
    "import seaborn as sns"
   ]
  },
  {
   "cell_type": "code",
   "execution_count": null,
   "id": "f293681f-6f6a-4b20-9b50-bbaf73f82f09",
   "metadata": {},
   "outputs": [],
   "source": [
    "import requests"
   ]
  },
  {
   "cell_type": "code",
   "execution_count": null,
   "id": "338e7907-f27c-4d47-8837-e13eabbf7e78",
   "metadata": {},
   "outputs": [],
   "source": [
    "page = requests.get(\"https://liquipedia.net/dota2/The_International/2011\")\n",
    " \n",
    "# display status code\n",
    "print(page.status_code)\n",
    " \n",
    "# display scraped data\n",
    "print(page.content)"
   ]
  },
  {
   "cell_type": "code",
   "execution_count": null,
   "id": "e47c764d-e2f3-4d3a-a914-32f939576047",
   "metadata": {},
   "outputs": [],
   "source": [
    "ti2011prizepool = pd.read_csv(r'C:\\Users\\J2das\\Documents\\NSS\\PYTHON\\Projects\\dota-capstone\\data\\TI_2011\\PrizePoolFinalStandings.csv')"
   ]
  },
  {
   "cell_type": "code",
   "execution_count": null,
   "id": "c82f4b50-5286-4206-8400-c316757b27fc",
   "metadata": {},
   "outputs": [],
   "source": [
    "ti2011prizepool"
   ]
  },
  {
   "cell_type": "code",
   "execution_count": null,
   "id": "7b35d94d-ecd2-47e2-9b0a-06503822f719",
   "metadata": {},
   "outputs": [],
   "source": [
    "prizemoney2011 = pd.read_csv(r'C:\\Users\\J2das\\Documents\\NSS\\PYTHON\\Projects\\NSS-Full-Time-Data-Analytics-14-Capstone-Dota2\\data\\prizemoney2011.csv')"
   ]
  },
  {
   "cell_type": "code",
   "execution_count": null,
   "id": "07d0eb72-2d64-44cf-adf4-a57a3a3b609f",
   "metadata": {},
   "outputs": [],
   "source": [
    "prizemoney2011"
   ]
  },
  {
   "cell_type": "code",
   "execution_count": null,
   "id": "1c99b18e-742c-45dc-a452-e3fce118633b",
   "metadata": {},
   "outputs": [],
   "source": [
    "prizemoney2012 = pd.read_csv(r'C:\\Users\\J2das\\Documents\\NSS\\PYTHON\\Projects\\NSS-Full-Time-Data-Analytics-14-Capstone-Dota2\\data\\prizemoney2012.csv')"
   ]
  },
  {
   "cell_type": "code",
   "execution_count": null,
   "id": "cff7953d-4680-49aa-90f6-a83f7fe29ce9",
   "metadata": {},
   "outputs": [],
   "source": [
    "prizemoney2012"
   ]
  },
  {
   "cell_type": "code",
   "execution_count": null,
   "id": "6e591a8c-70fb-40e1-b1b7-92ee4b4ac122",
   "metadata": {},
   "outputs": [],
   "source": [
    "prizemoney2013 = pd.read_csv(r'C:\\Users\\J2das\\Documents\\NSS\\PYTHON\\Projects\\NSS-Full-Time-Data-Analytics-14-Capstone-Dota2\\data\\prizemoney2013.csv')"
   ]
  },
  {
   "cell_type": "code",
   "execution_count": null,
   "id": "f11009e5-dd33-447e-b410-ca861c4a672a",
   "metadata": {},
   "outputs": [],
   "source": [
    "prizemoney2013"
   ]
  },
  {
   "cell_type": "code",
   "execution_count": null,
   "id": "7b8927c7-0349-4bf2-884e-e54d25dfbe33",
   "metadata": {},
   "outputs": [],
   "source": [
    "prizemoney2014 = pd.read_csv(r'C:\\Users\\J2das\\Documents\\NSS\\PYTHON\\Projects\\NSS-Full-Time-Data-Analytics-14-Capstone-Dota2\\data\\prizemoney2014.csv')"
   ]
  },
  {
   "cell_type": "code",
   "execution_count": null,
   "id": "16c7eb3e-4036-4de2-b6e8-a5365d2f1d81",
   "metadata": {},
   "outputs": [],
   "source": [
    "prizemoney2014"
   ]
  },
  {
   "cell_type": "code",
   "execution_count": null,
   "id": "16b2215f-3c48-472f-8e5b-229e96150910",
   "metadata": {},
   "outputs": [],
   "source": [
    "prizemoney2015 = pd.read_csv(r'C:\\Users\\J2das\\Documents\\NSS\\PYTHON\\Projects\\NSS-Full-Time-Data-Analytics-14-Capstone-Dota2\\data\\prizemoney2015.csv')"
   ]
  },
  {
   "cell_type": "code",
   "execution_count": null,
   "id": "25306a19-8f8c-48c0-999c-800f236140bf",
   "metadata": {},
   "outputs": [],
   "source": [
    "prizemoney2015"
   ]
  },
  {
   "cell_type": "code",
   "execution_count": null,
   "id": "254034f7-4cd4-4d9f-bc42-ccf049babe05",
   "metadata": {},
   "outputs": [],
   "source": [
    "prizemoney2016 = pd.read_csv(r'C:\\Users\\J2das\\Documents\\NSS\\PYTHON\\Projects\\NSS-Full-Time-Data-Analytics-14-Capstone-Dota2\\data\\prizemoney2016.csv')"
   ]
  },
  {
   "cell_type": "code",
   "execution_count": null,
   "id": "525c8680-611a-41bc-8f92-ae10dd62fb0c",
   "metadata": {},
   "outputs": [],
   "source": [
    "prizemoney2016"
   ]
  },
  {
   "cell_type": "code",
   "execution_count": null,
   "id": "3368a1e0-1c50-40eb-b069-b1726a1bc306",
   "metadata": {},
   "outputs": [],
   "source": [
    "prizemoney2017 = pd.read_csv(r'C:\\Users\\J2das\\Documents\\NSS\\PYTHON\\Projects\\NSS-Full-Time-Data-Analytics-14-Capstone-Dota2\\data\\prizemoney2017.csv')"
   ]
  },
  {
   "cell_type": "code",
   "execution_count": null,
   "id": "17a0f7ff-bf72-4e21-9c90-5947bd61bf0b",
   "metadata": {},
   "outputs": [],
   "source": [
    "prizemoney2017"
   ]
  },
  {
   "cell_type": "code",
   "execution_count": null,
   "id": "b3bac0b3-88aa-4aec-94bb-2d68824e0d96",
   "metadata": {},
   "outputs": [],
   "source": [
    "prizemoney2018 = pd.read_csv(r'C:\\Users\\J2das\\Documents\\NSS\\PYTHON\\Projects\\NSS-Full-Time-Data-Analytics-14-Capstone-Dota2\\data\\prizemoney2018.csv')"
   ]
  },
  {
   "cell_type": "code",
   "execution_count": null,
   "id": "bafe4a6e-c0df-4e30-a7ac-5df1784ef381",
   "metadata": {},
   "outputs": [],
   "source": [
    "prizemoney2018"
   ]
  },
  {
   "cell_type": "code",
   "execution_count": null,
   "id": "16bbfb92-8ebc-434b-b8a8-867d12219122",
   "metadata": {},
   "outputs": [],
   "source": [
    "prizemoney2019 = pd.read_csv(r'C:\\Users\\J2das\\Documents\\NSS\\PYTHON\\Projects\\NSS-Full-Time-Data-Analytics-14-Capstone-Dota2\\data\\prizemoney2019.csv')"
   ]
  },
  {
   "cell_type": "code",
   "execution_count": null,
   "id": "ad43eb2b-89a6-4900-a545-784744c30268",
   "metadata": {},
   "outputs": [],
   "source": [
    "prizemoney2019"
   ]
  },
  {
   "cell_type": "code",
   "execution_count": null,
   "id": "7b86dc33-68fc-44d0-9607-984190d032f3",
   "metadata": {},
   "outputs": [],
   "source": [
    "prizemoney2021 = pd.read_csv(r'C:\\Users\\J2das\\Documents\\NSS\\PYTHON\\Projects\\NSS-Full-Time-Data-Analytics-14-Capstone-Dota2\\data\\prizemoney2021.csv')"
   ]
  },
  {
   "cell_type": "code",
   "execution_count": null,
   "id": "cecdf399-68f3-492a-8a83-1ba4533849d0",
   "metadata": {},
   "outputs": [],
   "source": [
    "prizemoney2021"
   ]
  },
  {
   "cell_type": "code",
   "execution_count": null,
   "id": "a2895ae7-eb20-439a-b080-07135bc0214a",
   "metadata": {},
   "outputs": [],
   "source": [
    "prizemoney2022 = pd.read_csv(r'C:\\Users\\J2das\\Documents\\NSS\\PYTHON\\Projects\\NSS-Full-Time-Data-Analytics-14-Capstone-Dota2\\data\\prizemoney2022.csv')"
   ]
  },
  {
   "cell_type": "code",
   "execution_count": null,
   "id": "7a6f28aa-5eeb-44bf-b0be-d395e8e57845",
   "metadata": {},
   "outputs": [],
   "source": [
    "prizemoney2022"
   ]
  },
  {
   "cell_type": "code",
   "execution_count": null,
   "id": "6dba0f6d-d5ce-4906-b93d-a761e5ca0b58",
   "metadata": {},
   "outputs": [],
   "source": [
    "prizemoney2023 = pd.read_csv(r'C:\\Users\\J2das\\Documents\\NSS\\PYTHON\\Projects\\NSS-Full-Time-Data-Analytics-14-Capstone-Dota2\\data\\prizemoney2023.csv')"
   ]
  },
  {
   "cell_type": "code",
   "execution_count": null,
   "id": "097c3b41-2d0f-4f9a-b2d5-08568f60aa80",
   "metadata": {},
   "outputs": [],
   "source": [
    "prizemoney2023"
   ]
  },
  {
   "cell_type": "code",
   "execution_count": null,
   "id": "2defb9b7-6cbf-4a63-af6b-2280ba1f745e",
   "metadata": {},
   "outputs": [],
   "source": [
    "prizemoney2024 = pd.read_csv(r'C:\\Users\\J2das\\Documents\\NSS\\PYTHON\\Projects\\NSS-Full-Time-Data-Analytics-14-Capstone-Dota2\\data\\prizemoney2024.csv')"
   ]
  },
  {
   "cell_type": "code",
   "execution_count": null,
   "id": "8d5140af-0fa7-4801-ba5e-6f36aeef664c",
   "metadata": {},
   "outputs": [],
   "source": [
    "prizemoney2024"
   ]
  },
  {
   "cell_type": "code",
   "execution_count": null,
   "id": "e0b29b25-50de-44df-a23f-1f2e55071a7f",
   "metadata": {},
   "outputs": [],
   "source": [
    "prizemoney2024 = prizemoney2024.drop(index=[16,17,18,19])"
   ]
  },
  {
   "cell_type": "code",
   "execution_count": null,
   "id": "1b85b3f7-31f2-4939-a461-23cb5d841199",
   "metadata": {},
   "outputs": [],
   "source": [
    "prizemoney2024.dtypes"
   ]
  },
  {
   "cell_type": "code",
   "execution_count": null,
   "id": "6c3c3264-5cdd-4ba8-b074-494f1e13bd15",
   "metadata": {},
   "outputs": [],
   "source": [
    "tiwinners = pd.read_csv(r'C:\\Users\\J2das\\Documents\\NSS\\PYTHON\\Projects\\NSS-Full-Time-Data-Analytics-14-Capstone-Dota2\\data\\tiwinnersandrunnerup.csv')"
   ]
  },
  {
   "cell_type": "code",
   "execution_count": null,
   "id": "e0be3a1b-3f80-4534-88ee-0e05a49cd3d0",
   "metadata": {},
   "outputs": [],
   "source": [
    "tiwinners['Prize pool'] = tiwinners['Prize pool'].astype('int64')"
   ]
  },
  {
   "cell_type": "code",
   "execution_count": null,
   "id": "4fda7574-0cfe-4de3-b457-4b1a59df4386",
   "metadata": {},
   "outputs": [],
   "source": [
    "tiwinners"
   ]
  },
  {
   "cell_type": "code",
   "execution_count": null,
   "id": "68345eb1-5caa-40c5-ad36-d5b68ddf914c",
   "metadata": {},
   "outputs": [],
   "source": [
    "\n",
    "tiwinners.plot.bar(x='Year', y='Prize pool', color='red',edgecolor='black', rot=0, legend=False)\n",
    "sns.set_theme(font_scale=1.25)\n",
    "ylabels=tiwinners['Prize pool']\n",
    "plt.plot(ylabels, marker = 'o', markerfacecolor='gold',color='black', markeredgecolor='black', label='Year')\n",
    "plt.ticklabel_format(axis='y',style='plain')\n",
    "plt.title(\"Total Prize Pool per Tournament\",fontsize=14)\n",
    "plt.xlabel(\"Tournament Year\", fontsize=14)\n",
    "plt.ylabel(\"Prize Money\", fontsize=14)\n",
    "\n",
    "plt.xticks(rotation=65)\n",
    "plt.show()"
   ]
  },
  {
   "cell_type": "code",
   "execution_count": null,
   "id": "e90ff723-0a2c-4252-9820-6eebe2a08d8c",
   "metadata": {},
   "outputs": [],
   "source": [
    "plt.plot(x, y, marker='o', markersize=10, markerfacecolor='white', markeredgecolor='blue', markeredgewidth=2)"
   ]
  },
  {
   "cell_type": "code",
   "execution_count": null,
   "id": "70a4590c-36aa-4fe1-8d58-14b8625d3f28",
   "metadata": {},
   "outputs": [],
   "source": [
    "total_players = pd.read_csv(r'C:\\Users\\J2das\\Documents\\NSS\\PYTHON\\Projects\\NSS-Full-Time-Data-Analytics-14-Capstone-Dota2\\data\\total players by country.csv')"
   ]
  },
  {
   "cell_type": "code",
   "execution_count": null,
   "id": "322823e9-14e5-4ca1-8e86-8c87cd301898",
   "metadata": {},
   "outputs": [],
   "source": [
    "total_players.dtypes"
   ]
  },
  {
   "cell_type": "code",
   "execution_count": null,
   "id": "39059985-80c6-4c44-9543-0e267793945c",
   "metadata": {},
   "outputs": [],
   "source": [
    "total_players.value_counts()"
   ]
  },
  {
   "cell_type": "code",
   "execution_count": null,
   "id": "a2154904-694b-474c-bc97-47d76bba5b0b",
   "metadata": {},
   "outputs": [],
   "source": [
    "total_players.sort_values(by ='Country')"
   ]
  },
  {
   "cell_type": "code",
   "execution_count": null,
   "id": "db239ec0-29bc-497f-a459-b4d637bea120",
   "metadata": {},
   "outputs": [],
   "source": []
  }
 ],
 "metadata": {
  "kernelspec": {
   "display_name": "Python 3 (ipykernel)",
   "language": "python",
   "name": "python3"
  },
  "language_info": {
   "codemirror_mode": {
    "name": "ipython",
    "version": 3
   },
   "file_extension": ".py",
   "mimetype": "text/x-python",
   "name": "python",
   "nbconvert_exporter": "python",
   "pygments_lexer": "ipython3",
   "version": "3.12.4"
  }
 },
 "nbformat": 4,
 "nbformat_minor": 5
}
