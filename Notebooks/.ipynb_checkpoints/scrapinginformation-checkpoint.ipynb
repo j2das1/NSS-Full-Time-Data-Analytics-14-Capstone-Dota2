{
 "cells": [
  {
   "cell_type": "code",
   "execution_count": 5,
   "id": "9a15179b-e084-449d-b0d1-28f40cf1d35a",
   "metadata": {},
   "outputs": [],
   "source": [
    "import requests\n",
    "from bs4 import BeautifulSoup"
   ]
  },
  {
   "cell_type": "code",
   "execution_count": 7,
   "id": "68ccad92-e59f-4b54-adc1-4049f0130576",
   "metadata": {},
   "outputs": [
    {
     "ename": "AttributeError",
     "evalue": "'NoneType' object has no attribute 'find_all'",
     "output_type": "error",
     "traceback": [
      "\u001b[1;31m---------------------------------------------------------------------------\u001b[0m",
      "\u001b[1;31mAttributeError\u001b[0m                            Traceback (most recent call last)",
      "Cell \u001b[1;32mIn[7], line 11\u001b[0m\n\u001b[0;32m      8\u001b[0m \u001b[38;5;28mobject\u001b[39m \u001b[38;5;241m=\u001b[39m soup\u001b[38;5;241m.\u001b[39mfind(\u001b[38;5;28mid\u001b[39m\u001b[38;5;241m=\u001b[39m\u001b[38;5;124m\"\u001b[39m\u001b[38;5;124mmp-left\u001b[39m\u001b[38;5;124m\"\u001b[39m)\n\u001b[0;32m     10\u001b[0m \u001b[38;5;66;03m# find tags\u001b[39;00m\n\u001b[1;32m---> 11\u001b[0m items \u001b[38;5;241m=\u001b[39m \u001b[38;5;28mobject\u001b[39m\u001b[38;5;241m.\u001b[39mfind_all(class_\u001b[38;5;241m=\u001b[39m\u001b[38;5;124m\"\u001b[39m\u001b[38;5;124mcsstable-widget general-collapsible prizepooltable\u001b[39m\u001b[38;5;124m\"\u001b[39m)\n\u001b[0;32m     12\u001b[0m result \u001b[38;5;241m=\u001b[39m items[\u001b[38;5;241m0\u001b[39m]\n\u001b[0;32m     14\u001b[0m \u001b[38;5;66;03m# display tags\u001b[39;00m\n",
      "\u001b[1;31mAttributeError\u001b[0m: 'NoneType' object has no attribute 'find_all'"
     ]
    }
   ],
   "source": [
    "# get URL\n",
    "page = requests.get(\"https://liquipedia.net/dota2/The_International/2011\")\n",
    " \n",
    "# scrape webpage\n",
    "soup = BeautifulSoup(page.content, 'html.parser')\n",
    " \n",
    "# create object\n",
    "object = soup.find(id=\"mp-left\")\n",
    " \n",
    "# find tags\n",
    "items = object.find_all(class_=\"csstable-widget general-collapsible prizepooltable\")\n",
    "result = items[0]\n",
    " \n",
    "# display tags\n",
    "print(result.prettify())"
   ]
  },
  {
   "cell_type": "code",
   "execution_count": null,
   "id": "6582f015-cc77-4d2b-a172-d0937a36c55f",
   "metadata": {},
   "outputs": [],
   "source": []
  }
 ],
 "metadata": {
  "kernelspec": {
   "display_name": "Python 3 (ipykernel)",
   "language": "python",
   "name": "python3"
  },
  "language_info": {
   "codemirror_mode": {
    "name": "ipython",
    "version": 3
   },
   "file_extension": ".py",
   "mimetype": "text/x-python",
   "name": "python",
   "nbconvert_exporter": "python",
   "pygments_lexer": "ipython3",
   "version": "3.12.4"
  }
 },
 "nbformat": 4,
 "nbformat_minor": 5
}
