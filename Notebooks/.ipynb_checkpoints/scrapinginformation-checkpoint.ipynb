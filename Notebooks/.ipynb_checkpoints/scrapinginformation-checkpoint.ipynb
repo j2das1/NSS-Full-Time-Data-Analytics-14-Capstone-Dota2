{
 "cells": [
  {
   "cell_type": "code",
   "execution_count": null,
   "id": "9a15179b-e084-449d-b0d1-28f40cf1d35a",
   "metadata": {},
   "outputs": [],
   "source": [
    "import requests\n",
    "import pandas as pd\n",
    "from bs4 import BeautifulSoup as BS"
   ]
  },
  {
   "cell_type": "code",
   "execution_count": null,
   "id": "68ccad92-e59f-4b54-adc1-4049f0130576",
   "metadata": {},
   "outputs": [],
   "source": [
    "url = \"https://liquipedia.net/dota2/The_International/2011\"\n",
    " \n",
    "ti2011 = requests.get(url)"
   ]
  },
  {
   "cell_type": "code",
   "execution_count": null,
   "id": "6582f015-cc77-4d2b-a172-d0937a36c55f",
   "metadata": {},
   "outputs": [],
   "source": [
    "type(ti2011)"
   ]
  },
  {
   "cell_type": "code",
   "execution_count": null,
   "id": "c591a647-9f7b-443c-a445-01111b91998e",
   "metadata": {},
   "outputs": [],
   "source": [
    "ti2011.status_code"
   ]
  },
  {
   "cell_type": "code",
   "execution_count": null,
   "id": "551080eb-cf6e-4f81-9f39-1c10ace0cdc6",
   "metadata": {},
   "outputs": [],
   "source": [
    "tables2011 = pd.read_html(url)"
   ]
  },
  {
   "cell_type": "code",
   "execution_count": null,
   "id": "690cd8d8-cce2-428b-8fd2-cdee51453090",
   "metadata": {},
   "outputs": [],
   "source": [
    "len(tables2011)"
   ]
  },
  {
   "cell_type": "code",
   "execution_count": null,
   "id": "b27ed3d4-2ffa-43a1-b6d6-00c7ba2babf8",
   "metadata": {},
   "outputs": [],
   "source": [
    "tables2011[60]"
   ]
  },
  {
   "cell_type": "code",
   "execution_count": null,
   "id": "176bd447-bccd-4c32-b0c3-3ac4880a5994",
   "metadata": {},
   "outputs": [],
   "source": [
    "ti2011country = tables2011[60]"
   ]
  },
  {
   "cell_type": "code",
   "execution_count": null,
   "id": "8a63133e-06c9-4aa9-92aa-8a7101d1b902",
   "metadata": {},
   "outputs": [],
   "source": [
    "ti2011country"
   ]
  },
  {
   "cell_type": "code",
   "execution_count": null,
   "id": "afb427d4-4bf0-4529-95e5-3a0d04a3e37f",
   "metadata": {},
   "outputs": [],
   "source": [
    "ti2011country.to_csv('ti2011country.csv')"
   ]
  },
  {
   "cell_type": "code",
   "execution_count": null,
   "id": "4e09e35b-990c-472d-a711-c2bb1d971491",
   "metadata": {},
   "outputs": [],
   "source": [
    "url2 = \"https://liquipedia.net/dota2/The_International/2012\"\n",
    " \n",
    "ti2012 = requests.get(url2)"
   ]
  },
  {
   "cell_type": "code",
   "execution_count": null,
   "id": "f27ef4bb-96b3-43f8-a0d0-b0171ccaf36e",
   "metadata": {},
   "outputs": [],
   "source": [
    "type(ti2012)"
   ]
  },
  {
   "cell_type": "code",
   "execution_count": null,
   "id": "83a29ef8-a795-4efb-9505-4b861a896007",
   "metadata": {},
   "outputs": [],
   "source": [
    "ti2012.status_code"
   ]
  },
  {
   "cell_type": "code",
   "execution_count": null,
   "id": "e89b64a5-552e-4d4a-9de6-ddca1dad6b4d",
   "metadata": {},
   "outputs": [],
   "source": [
    "tables2012 = pd.read_html(url2)"
   ]
  },
  {
   "cell_type": "code",
   "execution_count": null,
   "id": "d16c1d18-f48c-4a0a-b3e4-bda25f06c676",
   "metadata": {},
   "outputs": [],
   "source": [
    "ti2012country = tables2012[75]"
   ]
  },
  {
   "cell_type": "code",
   "execution_count": null,
   "id": "33152545-62bb-402d-8f2f-3efe679f1b50",
   "metadata": {},
   "outputs": [],
   "source": [
    "ti2012country"
   ]
  },
  {
   "cell_type": "code",
   "execution_count": null,
   "id": "d39294d2-3ca7-4148-80f7-24297dab0d21",
   "metadata": {},
   "outputs": [],
   "source": [
    "ti2012country.to_csv('ti2012country.csv')"
   ]
  },
  {
   "cell_type": "code",
   "execution_count": null,
   "id": "d5c89e95-93d2-4706-9cbd-e04e4682a150",
   "metadata": {},
   "outputs": [],
   "source": [
    "url3 = \"https://liquipedia.net/dota2/The_International/2013\"\n",
    " \n",
    "ti2013 = requests.get(url3)"
   ]
  },
  {
   "cell_type": "code",
   "execution_count": null,
   "id": "e45ea428-34d2-4613-bf1f-98adad4fc0b7",
   "metadata": {},
   "outputs": [],
   "source": [
    "ti2013.status_code"
   ]
  },
  {
   "cell_type": "code",
   "execution_count": null,
   "id": "e287f6ca-6d5c-4eab-8dd5-ad7171e793ac",
   "metadata": {},
   "outputs": [],
   "source": [
    "tables2013 = pd.read_html(url3)"
   ]
  },
  {
   "cell_type": "code",
   "execution_count": null,
   "id": "6fd6ee8b-12a7-4f6c-b876-0f88bc8d06fa",
   "metadata": {},
   "outputs": [],
   "source": [
    "len(tables2013)"
   ]
  },
  {
   "cell_type": "code",
   "execution_count": null,
   "id": "694ca75d-7fb7-485c-836e-205597e7d1a0",
   "metadata": {},
   "outputs": [],
   "source": [
    "tables2013[74]"
   ]
  },
  {
   "cell_type": "code",
   "execution_count": null,
   "id": "8fd80cbc-6ec4-43f9-bc0a-edaf53d237ba",
   "metadata": {},
   "outputs": [],
   "source": [
    "ti2013country = tables2013[74]"
   ]
  },
  {
   "cell_type": "code",
   "execution_count": null,
   "id": "c12f8f86-3bb4-4b0a-92e4-717fe8cd1f2e",
   "metadata": {},
   "outputs": [],
   "source": [
    "ti2013country"
   ]
  },
  {
   "cell_type": "code",
   "execution_count": null,
   "id": "0770ebc4-4fd2-46b7-bab9-0b98c7f1b8e6",
   "metadata": {},
   "outputs": [],
   "source": [
    "ti2013country.to_csv('ti2013country.csv')"
   ]
  },
  {
   "cell_type": "code",
   "execution_count": null,
   "id": "6abf2c7f-d75b-4acf-90ae-171a9cf2266d",
   "metadata": {},
   "outputs": [],
   "source": [
    "url4 = \"https://liquipedia.net/dota2/The_International/2014\"\n",
    " \n",
    "ti2014 = requests.get(url4)"
   ]
  },
  {
   "cell_type": "code",
   "execution_count": null,
   "id": "3a26e971-25fe-4fbe-9859-f92c36def1ea",
   "metadata": {},
   "outputs": [],
   "source": [
    "ti2014.status_code"
   ]
  },
  {
   "cell_type": "code",
   "execution_count": null,
   "id": "f4241bc9-2fe9-40ee-9fb3-74eca77a9680",
   "metadata": {},
   "outputs": [],
   "source": [
    "tables2014 = pd.read_html(url4)"
   ]
  },
  {
   "cell_type": "code",
   "execution_count": null,
   "id": "b2b4815b-89cd-4088-9d8f-3de85c82e111",
   "metadata": {},
   "outputs": [],
   "source": [
    "tables2014[77]"
   ]
  },
  {
   "cell_type": "code",
   "execution_count": null,
   "id": "1154b24d-d51c-4c37-908f-6723863553b0",
   "metadata": {},
   "outputs": [],
   "source": [
    "ti2014country = tables2014[77]"
   ]
  },
  {
   "cell_type": "code",
   "execution_count": null,
   "id": "de3b72e0-80b3-422b-b587-37593f65311a",
   "metadata": {},
   "outputs": [],
   "source": [
    "ti2014country"
   ]
  },
  {
   "cell_type": "code",
   "execution_count": null,
   "id": "cba7c484-0d96-4d12-bdff-09cd288fdd21",
   "metadata": {},
   "outputs": [],
   "source": [
    "ti2014country.to_csv('ti2014country.csv')"
   ]
  },
  {
   "cell_type": "code",
   "execution_count": null,
   "id": "7fdb7ac8-bdc1-49aa-bcda-3bb596c11eb1",
   "metadata": {},
   "outputs": [],
   "source": [
    "url5 = \"https://liquipedia.net/dota2/The_International/2015\"\n",
    " \n",
    "ti2015 = requests.get(url5)"
   ]
  },
  {
   "cell_type": "code",
   "execution_count": null,
   "id": "c646bf5a-e21a-4480-8321-29e21a73a88a",
   "metadata": {},
   "outputs": [],
   "source": [
    "ti2015.status_code"
   ]
  },
  {
   "cell_type": "code",
   "execution_count": null,
   "id": "8e95b8bf-e45c-43e5-a91c-b82afdf4e665",
   "metadata": {},
   "outputs": [],
   "source": [
    "tables2015 = pd.read_html(url5)"
   ]
  },
  {
   "cell_type": "code",
   "execution_count": null,
   "id": "07e92c85-1c51-4f51-a1bd-8d297266d3ee",
   "metadata": {},
   "outputs": [],
   "source": [
    "tables2015[74]"
   ]
  },
  {
   "cell_type": "code",
   "execution_count": null,
   "id": "e6a0d228-d452-4c35-af48-3aaff35373c3",
   "metadata": {},
   "outputs": [],
   "source": [
    "ti2015country = tables2015[74]"
   ]
  },
  {
   "cell_type": "code",
   "execution_count": null,
   "id": "83e385af-4845-4d2b-8167-7fb35c220e6b",
   "metadata": {},
   "outputs": [],
   "source": [
    "ti2015country"
   ]
  },
  {
   "cell_type": "code",
   "execution_count": null,
   "id": "42f88949-5114-4357-a2a2-184d3603eb56",
   "metadata": {},
   "outputs": [],
   "source": [
    "ti2015country.to_csv('ti2015country.csv')"
   ]
  },
  {
   "cell_type": "code",
   "execution_count": null,
   "id": "09aac1a5-ccd8-45a9-8ba8-8ccef4a884d0",
   "metadata": {},
   "outputs": [],
   "source": [
    "url6 = \"https://liquipedia.net/dota2/The_International/2016\"\n",
    " \n",
    "ti2016 = requests.get(url6)"
   ]
  },
  {
   "cell_type": "code",
   "execution_count": null,
   "id": "6a873bde-9cdb-443f-bf3d-d94df9f07e87",
   "metadata": {},
   "outputs": [],
   "source": [
    "tables2016 = pd.read_html(url6)"
   ]
  },
  {
   "cell_type": "code",
   "execution_count": null,
   "id": "a00d5573-2ba5-489d-bf6a-40f6040b3703",
   "metadata": {},
   "outputs": [],
   "source": [
    "len(tables2016)"
   ]
  },
  {
   "cell_type": "code",
   "execution_count": null,
   "id": "c4c61873-14ac-46c6-9a57-40e9e3d16cc0",
   "metadata": {},
   "outputs": [],
   "source": [
    "tables2016"
   ]
  },
  {
   "cell_type": "code",
   "execution_count": null,
   "id": "00bcd79e-f1c4-483e-87b9-26a4b1b59c7e",
   "metadata": {},
   "outputs": [],
   "source": [
    "tables2016[74]"
   ]
  },
  {
   "cell_type": "code",
   "execution_count": null,
   "id": "ab529ea8-82a8-4042-b4e4-92e075cac4a7",
   "metadata": {},
   "outputs": [],
   "source": [
    "ti2016country = tables2016[74]"
   ]
  },
  {
   "cell_type": "code",
   "execution_count": null,
   "id": "8cb20a7d-6eba-4be4-af5a-e6456a69d625",
   "metadata": {},
   "outputs": [],
   "source": [
    "ti2016country"
   ]
  },
  {
   "cell_type": "code",
   "execution_count": null,
   "id": "5de07b41-cec6-49ab-8609-8fe6df3286d1",
   "metadata": {},
   "outputs": [],
   "source": [
    "ti2016country.to_csv('ti2016country.csv')"
   ]
  },
  {
   "cell_type": "code",
   "execution_count": null,
   "id": "c4b86fe1-fc7b-4029-b5fb-abaaabdcfacf",
   "metadata": {},
   "outputs": [],
   "source": [
    "url7 = \"https://liquipedia.net/dota2/The_International/2017\"\n",
    " \n",
    "ti2017 = requests.get(url7)"
   ]
  },
  {
   "cell_type": "code",
   "execution_count": null,
   "id": "6928b02c-2c21-485b-83d6-690043833ad2",
   "metadata": {},
   "outputs": [],
   "source": [
    "ti2017.status_code"
   ]
  },
  {
   "cell_type": "code",
   "execution_count": null,
   "id": "a7ee2fff-5311-4afd-b8a9-799843f22e89",
   "metadata": {},
   "outputs": [],
   "source": [
    "tables2017 = pd.read_html(url7)"
   ]
  },
  {
   "cell_type": "code",
   "execution_count": null,
   "id": "16540214-5df7-415a-b6aa-81ea81c9504f",
   "metadata": {},
   "outputs": [],
   "source": [
    "tables2017"
   ]
  },
  {
   "cell_type": "code",
   "execution_count": null,
   "id": "f05fc38a-5df8-4271-95da-dc42375a7a1e",
   "metadata": {},
   "outputs": [],
   "source": [
    "len(tables2017)"
   ]
  },
  {
   "cell_type": "code",
   "execution_count": null,
   "id": "dd09293b-a6d4-447c-b8eb-96c3542e56e8",
   "metadata": {},
   "outputs": [],
   "source": [
    "tables2017[79]"
   ]
  },
  {
   "cell_type": "code",
   "execution_count": null,
   "id": "44a54394-608e-4716-86a0-62b40bd213c3",
   "metadata": {},
   "outputs": [],
   "source": [
    "ti2017country = tables2017[79]"
   ]
  },
  {
   "cell_type": "code",
   "execution_count": null,
   "id": "f4df4f3b-efc5-4057-9bd8-b54bf88f5e6d",
   "metadata": {},
   "outputs": [],
   "source": [
    "ti2017country"
   ]
  },
  {
   "cell_type": "code",
   "execution_count": null,
   "id": "d1099847-cee3-4983-b6c7-cb6e7f0232fe",
   "metadata": {},
   "outputs": [],
   "source": [
    "ti2017country.to_csv('ti2017country.csv')"
   ]
  },
  {
   "cell_type": "code",
   "execution_count": null,
   "id": "7d23a214-6f31-4e4d-b68a-96825429c197",
   "metadata": {},
   "outputs": [],
   "source": [
    "url8 = \"https://liquipedia.net/dota2/The_International/2018\"\n",
    " \n",
    "ti2018 = requests.get(url8)"
   ]
  },
  {
   "cell_type": "code",
   "execution_count": null,
   "id": "f3098b01-7768-4016-8309-374e7891f246",
   "metadata": {},
   "outputs": [],
   "source": [
    "ti2018.status_code"
   ]
  },
  {
   "cell_type": "code",
   "execution_count": null,
   "id": "56fd0e0e-75b2-4f04-b087-6c58715c77d3",
   "metadata": {},
   "outputs": [],
   "source": [
    "tables2018 = pd.read_html(url8)"
   ]
  },
  {
   "cell_type": "code",
   "execution_count": null,
   "id": "d992969c-aa85-4afb-9e8e-a0c2c6269a69",
   "metadata": {},
   "outputs": [],
   "source": [
    "tables2018"
   ]
  },
  {
   "cell_type": "code",
   "execution_count": null,
   "id": "e53d5e1d-244f-4c0d-b1f2-0752ad8444cd",
   "metadata": {},
   "outputs": [],
   "source": [
    "len(tables2018)"
   ]
  },
  {
   "cell_type": "code",
   "execution_count": null,
   "id": "1897e445-054f-48b6-8776-37dc78bf493c",
   "metadata": {},
   "outputs": [],
   "source": [
    "tables2018[81]"
   ]
  },
  {
   "cell_type": "code",
   "execution_count": null,
   "id": "bf991f9b-3942-46f5-8149-97ef8e5a2b79",
   "metadata": {},
   "outputs": [],
   "source": [
    "ti2018country = tables2018[81]"
   ]
  },
  {
   "cell_type": "code",
   "execution_count": null,
   "id": "409418b1-570b-45bd-b739-a279ec819f71",
   "metadata": {},
   "outputs": [],
   "source": [
    "ti2018country"
   ]
  },
  {
   "cell_type": "code",
   "execution_count": null,
   "id": "326fe954-ded5-4ccc-94c1-22fc39430edd",
   "metadata": {},
   "outputs": [],
   "source": [
    "ti2018country.to_csv('ti2018country.csv')"
   ]
  },
  {
   "cell_type": "code",
   "execution_count": null,
   "id": "f107a5eb-1f17-4c3b-8d15-18f8b028c6ed",
   "metadata": {},
   "outputs": [],
   "source": [
    "url9 = \"https://liquipedia.net/dota2/The_International/2019\"\n",
    " \n",
    "ti2019 = requests.get(url9)"
   ]
  },
  {
   "cell_type": "code",
   "execution_count": null,
   "id": "ccc541f1-429a-4b23-a05e-0915c0361e27",
   "metadata": {},
   "outputs": [],
   "source": [
    "ti2019.status_code"
   ]
  },
  {
   "cell_type": "code",
   "execution_count": null,
   "id": "41b9c928-522a-4830-9873-2b20f4f06dbd",
   "metadata": {},
   "outputs": [],
   "source": [
    "tables2019 = pd.read_html(url9)"
   ]
  },
  {
   "cell_type": "code",
   "execution_count": null,
   "id": "047182a4-d2d2-4b75-8d72-9cbbabc1a7f2",
   "metadata": {},
   "outputs": [],
   "source": [
    "tables2019"
   ]
  },
  {
   "cell_type": "code",
   "execution_count": null,
   "id": "b313c2be-36ba-4aa5-86c7-078c18e4e577",
   "metadata": {},
   "outputs": [],
   "source": [
    "len(tables2019)"
   ]
  },
  {
   "cell_type": "code",
   "execution_count": null,
   "id": "2466b0fb-5538-4826-8abf-86ad1b06fbed",
   "metadata": {},
   "outputs": [],
   "source": [
    "tables2019[80]"
   ]
  },
  {
   "cell_type": "code",
   "execution_count": null,
   "id": "a6a0f486-d9eb-4beb-8bc3-332964325e3c",
   "metadata": {},
   "outputs": [],
   "source": [
    "ti2019country = tables2019[80]"
   ]
  },
  {
   "cell_type": "code",
   "execution_count": null,
   "id": "4a9904db-b6d9-45b5-be93-8563e09419b2",
   "metadata": {},
   "outputs": [],
   "source": [
    "ti2019country"
   ]
  },
  {
   "cell_type": "code",
   "execution_count": null,
   "id": "02084791-2e04-42a5-8c77-830ad7877fe4",
   "metadata": {},
   "outputs": [],
   "source": [
    "ti2019country.to_csv('ti2019country.csv')"
   ]
  },
  {
   "cell_type": "code",
   "execution_count": null,
   "id": "ef6c4185-7083-4550-a7b9-1069019e5e36",
   "metadata": {},
   "outputs": [],
   "source": [
    "url10 = \"https://liquipedia.net/dota2/The_International/2021\"\n",
    " \n",
    "ti2021 = requests.get(url10)"
   ]
  },
  {
   "cell_type": "code",
   "execution_count": null,
   "id": "087d6f82-7b7c-48d6-bd40-8079441b232c",
   "metadata": {},
   "outputs": [],
   "source": [
    "ti2021.status_code"
   ]
  },
  {
   "cell_type": "code",
   "execution_count": null,
   "id": "785b770c-b8db-46ac-b2dc-8aabeff3dc52",
   "metadata": {},
   "outputs": [],
   "source": [
    "tables2021 = pd.read_html(url10)"
   ]
  },
  {
   "cell_type": "code",
   "execution_count": null,
   "id": "62d10c3c-fd3c-4c6a-b9b5-8d4e7360e521",
   "metadata": {},
   "outputs": [],
   "source": [
    "tables2021"
   ]
  },
  {
   "cell_type": "code",
   "execution_count": null,
   "id": "303283a9-1fcc-4420-a38b-ccff588e0281",
   "metadata": {},
   "outputs": [],
   "source": [
    "len(tables2021)"
   ]
  },
  {
   "cell_type": "code",
   "execution_count": null,
   "id": "e8cd9305-0308-4fcb-92f5-9c3ea7837bf1",
   "metadata": {},
   "outputs": [],
   "source": [
    "tables2021[85]"
   ]
  },
  {
   "cell_type": "code",
   "execution_count": null,
   "id": "be226de1-bfb9-49d8-ae50-cff47b553c9d",
   "metadata": {},
   "outputs": [],
   "source": [
    "ti2021country = tables2021[85]"
   ]
  },
  {
   "cell_type": "code",
   "execution_count": null,
   "id": "27033e79-9626-4a61-9c6f-337f4b353a01",
   "metadata": {},
   "outputs": [],
   "source": [
    "ti2021country"
   ]
  },
  {
   "cell_type": "code",
   "execution_count": null,
   "id": "9b828b0c-1eee-4f6c-9d87-c2fc486b2fad",
   "metadata": {},
   "outputs": [],
   "source": [
    "ti2021country.to_csv('ti2021country.csv')"
   ]
  },
  {
   "cell_type": "code",
   "execution_count": null,
   "id": "dbbcf9df-f18a-4af4-b766-eaed5b90bcf7",
   "metadata": {},
   "outputs": [],
   "source": [
    "url11 = \"https://liquipedia.net/dota2/The_International/2022\"\n",
    " \n",
    "ti2022 = requests.get(url11)"
   ]
  },
  {
   "cell_type": "code",
   "execution_count": null,
   "id": "6d70c239-7b52-4f1e-8919-c38826a86a4f",
   "metadata": {},
   "outputs": [],
   "source": [
    "ti2022.status_code"
   ]
  },
  {
   "cell_type": "code",
   "execution_count": null,
   "id": "f39905b6-db69-4d6d-a4e4-8e27c40b386f",
   "metadata": {},
   "outputs": [],
   "source": [
    "tables2022 = pd.read_html(url11)"
   ]
  },
  {
   "cell_type": "code",
   "execution_count": null,
   "id": "85433ccd-af19-4a8e-b229-087a7fa63b4d",
   "metadata": {},
   "outputs": [],
   "source": [
    "tables2022"
   ]
  },
  {
   "cell_type": "code",
   "execution_count": null,
   "id": "f329d940-6e64-47ee-a6c5-9a48b0b335a2",
   "metadata": {},
   "outputs": [],
   "source": [
    "len(tables2022)"
   ]
  },
  {
   "cell_type": "code",
   "execution_count": null,
   "id": "f47c2e44-13a9-41a8-9051-747ce6eeadb5",
   "metadata": {},
   "outputs": [],
   "source": [
    "tables2022[94]"
   ]
  },
  {
   "cell_type": "code",
   "execution_count": null,
   "id": "afd852d0-11d6-4c72-bdc4-7bbf035d312c",
   "metadata": {},
   "outputs": [],
   "source": [
    "ti2022country = tables2022[94]"
   ]
  },
  {
   "cell_type": "code",
   "execution_count": null,
   "id": "57f605de-3dee-4700-a51d-b64155968837",
   "metadata": {},
   "outputs": [],
   "source": [
    "ti2022country"
   ]
  },
  {
   "cell_type": "code",
   "execution_count": null,
   "id": "4ba52a9c-26c6-48e5-aa26-8452dc489fe1",
   "metadata": {},
   "outputs": [],
   "source": [
    "ti2022country.to_csv('ti2022country.csv')"
   ]
  },
  {
   "cell_type": "code",
   "execution_count": null,
   "id": "74b9c47e-ac4c-4cda-b0bc-0fb9a1628a39",
   "metadata": {},
   "outputs": [],
   "source": [
    "url12 = \"https://liquipedia.net/dota2/The_International/2023\"\n",
    " \n",
    "ti2023 = requests.get(url12)"
   ]
  },
  {
   "cell_type": "code",
   "execution_count": null,
   "id": "92cd41fe-6131-4d9e-9cc8-cdb092c408f8",
   "metadata": {},
   "outputs": [],
   "source": [
    "ti2023.status_code"
   ]
  },
  {
   "cell_type": "code",
   "execution_count": null,
   "id": "08c80e94-d606-45a1-9772-7dcb6625c2e6",
   "metadata": {},
   "outputs": [],
   "source": [
    "tables2023 = pd.read_html(url12)"
   ]
  },
  {
   "cell_type": "code",
   "execution_count": null,
   "id": "483537f4-513e-488b-848b-a352fc19c1c7",
   "metadata": {},
   "outputs": [],
   "source": [
    "tables2023"
   ]
  },
  {
   "cell_type": "code",
   "execution_count": null,
   "id": "d39f9e8b-c978-42a1-b8a5-36ce40062b58",
   "metadata": {},
   "outputs": [],
   "source": [
    "len(tables2023)"
   ]
  },
  {
   "cell_type": "code",
   "execution_count": null,
   "id": "8f33f5ea-9767-46a3-a31e-28ca35c28dfa",
   "metadata": {},
   "outputs": [],
   "source": [
    "tables2023[101]"
   ]
  },
  {
   "cell_type": "code",
   "execution_count": null,
   "id": "af36a4cf-58ed-4b41-a7dc-491bf0ac2952",
   "metadata": {},
   "outputs": [],
   "source": [
    "ti2023country = tables2023[101]"
   ]
  },
  {
   "cell_type": "code",
   "execution_count": null,
   "id": "d5e2cf45-4d5e-49a6-89ff-9bb273793fed",
   "metadata": {},
   "outputs": [],
   "source": [
    "ti2023country"
   ]
  },
  {
   "cell_type": "code",
   "execution_count": null,
   "id": "bdb6296b-e422-455f-b574-dbb00299776b",
   "metadata": {},
   "outputs": [],
   "source": [
    "ti2023country.to_csv('ti2023country.csv')"
   ]
  },
  {
   "cell_type": "code",
   "execution_count": null,
   "id": "58055a85-966b-44fe-8ea7-0235fa818e45",
   "metadata": {},
   "outputs": [],
   "source": [
    "url13 = \"https://liquipedia.net/dota2/The_International/2024\"\n",
    " \n",
    "ti2024 = requests.get(url13)"
   ]
  },
  {
   "cell_type": "code",
   "execution_count": null,
   "id": "55a90449-50a0-45d9-a6b2-7d04d08dceca",
   "metadata": {},
   "outputs": [],
   "source": [
    "ti2024.status_code"
   ]
  },
  {
   "cell_type": "code",
   "execution_count": null,
   "id": "6edd37be-62c5-45ca-b107-273658206a96",
   "metadata": {},
   "outputs": [],
   "source": [
    "tables2024 = pd.read_html(url13)"
   ]
  },
  {
   "cell_type": "code",
   "execution_count": null,
   "id": "71963698-972f-4ddf-859c-fd0878e29e5f",
   "metadata": {},
   "outputs": [],
   "source": [
    "tables2024"
   ]
  },
  {
   "cell_type": "code",
   "execution_count": null,
   "id": "2c4149d6-17d0-4d19-8ff1-1e5b5d69bccc",
   "metadata": {},
   "outputs": [],
   "source": [
    "len(tables2024)"
   ]
  },
  {
   "cell_type": "code",
   "execution_count": null,
   "id": "939a76a1-b588-4751-a057-e8092ef90725",
   "metadata": {},
   "outputs": [],
   "source": [
    "tables2024[90]"
   ]
  },
  {
   "cell_type": "code",
   "execution_count": null,
   "id": "6e3093cd-3107-4cbb-a49f-d28bb4de4b33",
   "metadata": {},
   "outputs": [],
   "source": [
    "ti2024country = tables2024[90]"
   ]
  },
  {
   "cell_type": "code",
   "execution_count": null,
   "id": "5f181dc7-ceef-4319-b562-73bd0a305a64",
   "metadata": {},
   "outputs": [],
   "source": [
    "ti2024country"
   ]
  },
  {
   "cell_type": "code",
   "execution_count": null,
   "id": "7e6d9951-99c9-4c06-b403-f0e1df9fdc08",
   "metadata": {},
   "outputs": [],
   "source": [
    "ti2024country.to_csv('ti2024country.csv')"
   ]
  },
  {
   "cell_type": "code",
   "execution_count": null,
   "id": "29c48491-9ba5-4e96-9973-9c7d1c26ec71",
   "metadata": {},
   "outputs": [],
   "source": [
    "ti2011"
   ]
  },
  {
   "cell_type": "code",
   "execution_count": null,
   "id": "0fa1a655-ab0e-4b50-b5f0-b688409a9cd8",
   "metadata": {},
   "outputs": [],
   "source": [
    "ti2011 = ti2011.content"
   ]
  },
  {
   "cell_type": "code",
   "execution_count": null,
   "id": "ab0b1a21-796e-40d7-8bb2-565f719d80be",
   "metadata": {},
   "outputs": [],
   "source": [
    "ti2011"
   ]
  },
  {
   "cell_type": "code",
   "execution_count": null,
   "id": "8881e1ed-08bf-4ba7-b730-a537f22ee653",
   "metadata": {},
   "outputs": [],
   "source": [
    "soupti2011 = BS(ti2011, 'html.parser')"
   ]
  },
  {
   "cell_type": "code",
   "execution_count": null,
   "id": "a69a739c-bfb1-4006-9e53-0e62d05b189a",
   "metadata": {},
   "outputs": [],
   "source": [
    "soupti2011"
   ]
  },
  {
   "cell_type": "code",
   "execution_count": null,
   "id": "6932c1ea-3861-417e-bdad-19511e276a5a",
   "metadata": {},
   "outputs": [],
   "source": [
    "print(soupti2011.prettify())"
   ]
  },
  {
   "cell_type": "code",
   "execution_count": null,
   "id": "e4c0c4ca-f89d-4211-bbb0-2d0ee3498dfa",
   "metadata": {},
   "outputs": [],
   "source": [
    "soupti2011.findAll('div', class_='csstable-widget-cell')"
   ]
  },
  {
   "cell_type": "code",
   "execution_count": null,
   "id": "d3ef36b6-71e6-46cd-b43e-51601c99957c",
   "metadata": {},
   "outputs": [],
   "source": [
    "test = soupti2011.findAll('div', attrs = {'class' : 'csstable-widget-cell'})"
   ]
  },
  {
   "cell_type": "code",
   "execution_count": null,
   "id": "2c0cfe86-674b-4bd4-a5e4-96246baee245",
   "metadata": {},
   "outputs": [],
   "source": [
    "test"
   ]
  },
  {
   "cell_type": "code",
   "execution_count": null,
   "id": "0b5b6fd6-223c-4b26-8a51-43665ba9e005",
   "metadata": {},
   "outputs": [],
   "source": [
    "money_list = [tag.text for tag in test]"
   ]
  },
  {
   "cell_type": "code",
   "execution_count": null,
   "id": "9d26da5d-fc05-4a8d-8d89-e256abc113c7",
   "metadata": {},
   "outputs": [],
   "source": [
    "money_list"
   ]
  },
  {
   "cell_type": "code",
   "execution_count": null,
   "id": "924b18e5-7356-48ed-ad1d-243af1c98014",
   "metadata": {},
   "outputs": [],
   "source": [
    "div = soupti2011.find('div')"
   ]
  },
  {
   "cell_type": "code",
   "execution_count": null,
   "id": "af8188df-5c4b-454f-a85f-54d32f76b192",
   "metadata": {},
   "outputs": [],
   "source": [
    "div"
   ]
  },
  {
   "cell_type": "code",
   "execution_count": null,
   "id": "f8427baa-6f28-4a31-a3d2-26c58b36d894",
   "metadata": {},
   "outputs": [],
   "source": [
    "test = div.find_all('div',class_='csstable-widget-cell')"
   ]
  },
  {
   "cell_type": "code",
   "execution_count": null,
   "id": "8492fd94-baa4-4d24-b2eb-a8bb9b029cf4",
   "metadata": {},
   "outputs": [],
   "source": [
    "test"
   ]
  },
  {
   "cell_type": "code",
   "execution_count": null,
   "id": "967f7047-9bfb-49f7-9fe5-963a9f1897b2",
   "metadata": {},
   "outputs": [],
   "source": [
    "type(money_list)"
   ]
  },
  {
   "cell_type": "code",
   "execution_count": null,
   "id": "eda9d074-a97f-42b0-a282-0cee85a3eaff",
   "metadata": {},
   "outputs": [],
   "source": [
    "moneytest = pd.DataFrame(money_list)"
   ]
  },
  {
   "cell_type": "code",
   "execution_count": null,
   "id": "6a6c293a-6619-4b29-830e-d000a2233672",
   "metadata": {},
   "outputs": [],
   "source": [
    "money_test = moneytest.transpose()"
   ]
  },
  {
   "cell_type": "code",
   "execution_count": null,
   "id": "0fc429f8-fd64-4128-b239-d596ec7e0538",
   "metadata": {},
   "outputs": [],
   "source": [
    "money_test"
   ]
  },
  {
   "cell_type": "code",
   "execution_count": null,
   "id": "a23e6255-85c0-43bc-a787-4f9e22218a04",
   "metadata": {},
   "outputs": [],
   "source": [
    "money_test"
   ]
  },
  {
   "cell_type": "code",
   "execution_count": null,
   "id": "5df975f7-7b27-47f6-8d23-d728c49c8fbd",
   "metadata": {},
   "outputs": [],
   "source": [
    "money_test"
   ]
  },
  {
   "cell_type": "code",
   "execution_count": null,
   "id": "27655176-6acf-4554-b43b-f8ddcae6625f",
   "metadata": {},
   "outputs": [],
   "source": [
    "money_test"
   ]
  },
  {
   "cell_type": "code",
   "execution_count": null,
   "id": "f8f69bb0-6ab8-4690-b3ee-4724792bd49a",
   "metadata": {},
   "outputs": [],
   "source": [
    "money_test = money_test.rename(columns ={0:'Place',1:'Prize Money',2:'Percent',3:'Team'})"
   ]
  },
  {
   "cell_type": "code",
   "execution_count": null,
   "id": "4af731f9-5dda-4788-b065-18ba45b66f33",
   "metadata": {},
   "outputs": [],
   "source": [
    "money_test"
   ]
  },
  {
   "cell_type": "code",
   "execution_count": null,
   "id": "9c97405a-354e-4afe-a666-4be11accf3bc",
   "metadata": {},
   "outputs": [],
   "source": [
    "money_test"
   ]
  },
  {
   "cell_type": "code",
   "execution_count": null,
   "id": "cb0a9a71-2ec1-45ca-86d3-b39d3b86589e",
   "metadata": {},
   "outputs": [],
   "source": [
    "url14 = 'https://en.wikipedia.org/wiki/The_International_(esports)'\n",
    "\n",
    "titotals = requests.get(url14)"
   ]
  },
  {
   "cell_type": "code",
   "execution_count": null,
   "id": "429f61f1-1802-4e45-822b-ed2f18630065",
   "metadata": {},
   "outputs": [],
   "source": [
    "titotals.status_code"
   ]
  },
  {
   "cell_type": "code",
   "execution_count": null,
   "id": "0fd29485-1995-4a11-8e86-9e0905d9c8f2",
   "metadata": {},
   "outputs": [],
   "source": [
    "tablestitotals = pd.read_html(url14)"
   ]
  },
  {
   "cell_type": "code",
   "execution_count": null,
   "id": "ffee81db-7386-426f-9923-a4328893d105",
   "metadata": {},
   "outputs": [],
   "source": [
    "tiwinners = tablestitotals[1]"
   ]
  },
  {
   "cell_type": "code",
   "execution_count": null,
   "id": "e69eef8a-2714-4feb-8f5b-990df6ccd9be",
   "metadata": {},
   "outputs": [],
   "source": [
    "tiwinners"
   ]
  },
  {
   "cell_type": "code",
   "execution_count": null,
   "id": "3d50852b-c1b7-4f34-aa5f-2caa0d31174c",
   "metadata": {},
   "outputs": [],
   "source": []
  },
  {
   "cell_type": "code",
   "execution_count": null,
   "id": "c015ec3c-d3cf-4cb9-8417-2ee32aec784c",
   "metadata": {},
   "outputs": [],
   "source": [
    "tiwinners.to_csv('winnersofti.csv')"
   ]
  },
  {
   "cell_type": "code",
   "execution_count": null,
   "id": "854d8a50-3414-4554-b3de-173991cf42c9",
   "metadata": {},
   "outputs": [],
   "source": [
    "url15 = 'https://en.wikipedia.org/wiki/The_International_2014'\n",
    "\n",
    "ti2014money = requests.get(url15)"
   ]
  },
  {
   "cell_type": "code",
   "execution_count": null,
   "id": "771ac577-b507-473c-bb0c-843d57ef27a0",
   "metadata": {},
   "outputs": [],
   "source": [
    "ti2014winnerstable = pd.read_html(url15)"
   ]
  },
  {
   "cell_type": "code",
   "execution_count": null,
   "id": "89bf7ae9-ebe1-4283-92b2-0b629d72dc46",
   "metadata": {},
   "outputs": [],
   "source": [
    "ti2014winnerstable[2]"
   ]
  },
  {
   "cell_type": "code",
   "execution_count": null,
   "id": "fe9b6d86-b8dc-4de1-8492-913e55e106ac",
   "metadata": {},
   "outputs": [],
   "source": [
    "ti2014winners = ti2014winnerstable[2]"
   ]
  },
  {
   "cell_type": "code",
   "execution_count": null,
   "id": "6eb69648-42c3-4cf9-9f5d-83a77ee1ec24",
   "metadata": {},
   "outputs": [],
   "source": [
    "ti2014winners"
   ]
  },
  {
   "cell_type": "code",
   "execution_count": null,
   "id": "f42e26ee-f9ac-4ffc-b75f-72aee190c3ec",
   "metadata": {},
   "outputs": [],
   "source": [
    "ti2014winners.to_csv('ti2014winners.csv')"
   ]
  },
  {
   "cell_type": "code",
   "execution_count": null,
   "id": "344a92bb-22cf-4d2e-a624-bfc13699b08a",
   "metadata": {},
   "outputs": [],
   "source": [
    "url16 = 'https://en.wikipedia.org/wiki/The_International_2015'\n",
    "\n",
    "ti2015money = requests.get(url16)"
   ]
  },
  {
   "cell_type": "code",
   "execution_count": null,
   "id": "aeb17f4c-92be-4741-9f4c-914b1361807f",
   "metadata": {
    "scrolled": true
   },
   "outputs": [],
   "source": [
    "ti2015money"
   ]
  },
  {
   "cell_type": "code",
   "execution_count": null,
   "id": "95953fd5-e982-439e-8ba8-ad50cd867e4d",
   "metadata": {},
   "outputs": [],
   "source": [
    "ti2015winnerstable = pd.read_html(url16)"
   ]
  },
  {
   "cell_type": "code",
   "execution_count": null,
   "id": "7106d2a2-d032-42ec-8443-7b0ffbb7dff1",
   "metadata": {},
   "outputs": [],
   "source": [
    "ti2015winnerstable[6]"
   ]
  },
  {
   "cell_type": "code",
   "execution_count": null,
   "id": "7914bee7-92c0-4295-80ba-1211e6e98a92",
   "metadata": {},
   "outputs": [],
   "source": [
    "ti2015winners = ti2015winnerstable[6]"
   ]
  },
  {
   "cell_type": "code",
   "execution_count": null,
   "id": "f80eae02-db29-4d0a-abad-eaa8b5175348",
   "metadata": {},
   "outputs": [],
   "source": [
    "ti2015winners"
   ]
  },
  {
   "cell_type": "code",
   "execution_count": null,
   "id": "cf39a715-5f42-41f2-986f-1f45e0857c69",
   "metadata": {},
   "outputs": [],
   "source": [
    "ti2015winners.to_csv('ti2015winners.csv')"
   ]
  },
  {
   "cell_type": "code",
   "execution_count": null,
   "id": "65acbbbf-1fda-47e5-ac7e-68f3e4118fec",
   "metadata": {},
   "outputs": [],
   "source": [
    "url17 = 'https://en.wikipedia.org/wiki/The_International_2016'\n",
    "\n",
    "ti2016money = requests.get(url17)"
   ]
  },
  {
   "cell_type": "code",
   "execution_count": null,
   "id": "ff1b0149-df79-4c46-8227-e5620e966fdd",
   "metadata": {},
   "outputs": [],
   "source": [
    "ti2016winnerstable = pd.read_html(url17)"
   ]
  },
  {
   "cell_type": "code",
   "execution_count": null,
   "id": "c687807b-122b-4aeb-a224-0ac4bea64aa3",
   "metadata": {},
   "outputs": [],
   "source": [
    "ti2016winnerstable[6]"
   ]
  },
  {
   "cell_type": "code",
   "execution_count": null,
   "id": "7718de7c-2cd6-4630-8c89-c77962791089",
   "metadata": {},
   "outputs": [],
   "source": [
    "ti2016winners = ti2016winnerstable[6]"
   ]
  },
  {
   "cell_type": "code",
   "execution_count": null,
   "id": "9f017c6e-bdc7-46cd-9ed7-4a27c80e1bd3",
   "metadata": {},
   "outputs": [],
   "source": [
    "ti2016winners.to_csv('ti2016winners.csv')"
   ]
  },
  {
   "cell_type": "code",
   "execution_count": null,
   "id": "4c9e52ed-8378-4833-a018-7b7a291d60cd",
   "metadata": {},
   "outputs": [],
   "source": [
    "url18 = 'https://en.wikipedia.org/wiki/The_International_2017'\n",
    "\n",
    "ti2017money = requests.get(url18)"
   ]
  },
  {
   "cell_type": "code",
   "execution_count": null,
   "id": "a92a90d8-f93d-4449-9bcf-32aa9dfec8f0",
   "metadata": {},
   "outputs": [],
   "source": [
    "ti2017winnerstable = pd.read_html(url18)"
   ]
  },
  {
   "cell_type": "code",
   "execution_count": null,
   "id": "db05f917-f062-4cdc-ab0d-73efa53770ea",
   "metadata": {},
   "outputs": [],
   "source": [
    "ti2017winnerstable[5]"
   ]
  },
  {
   "cell_type": "code",
   "execution_count": null,
   "id": "407308c9-0364-4a84-9ff7-aaea3e9020ae",
   "metadata": {},
   "outputs": [],
   "source": [
    "ti2017winners = ti2017winnerstable[5]"
   ]
  },
  {
   "cell_type": "code",
   "execution_count": null,
   "id": "72f0121f-2464-4e16-be11-5a08a371ea54",
   "metadata": {},
   "outputs": [],
   "source": [
    "ti2017winners.to_csv('ti2017winners.csv')"
   ]
  },
  {
   "cell_type": "code",
   "execution_count": null,
   "id": "060d1afb-6341-449b-87ac-004505d7867d",
   "metadata": {},
   "outputs": [],
   "source": [
    "url19 = 'https://en.wikipedia.org/wiki/The_International_2018'\n",
    "\n",
    "ti2018money = requests.get(url19)"
   ]
  },
  {
   "cell_type": "code",
   "execution_count": null,
   "id": "a73a7a33-f8cf-4430-a77c-f00dc54655ca",
   "metadata": {},
   "outputs": [],
   "source": [
    "ti2018winnerstable = pd.read_html(url19)"
   ]
  },
  {
   "cell_type": "code",
   "execution_count": null,
   "id": "2a9f46dd-4e13-4b4c-ac69-7f8b1ce14dbb",
   "metadata": {},
   "outputs": [],
   "source": [
    "ti2018winnerstable[5]"
   ]
  },
  {
   "cell_type": "code",
   "execution_count": null,
   "id": "ff056330-3ae7-4fcf-bb7b-0908e185157d",
   "metadata": {},
   "outputs": [],
   "source": [
    "ti2018winners = ti2018winnerstable[5]"
   ]
  },
  {
   "cell_type": "code",
   "execution_count": null,
   "id": "3178fb22-bd0d-42c7-aea9-99046d4db4a4",
   "metadata": {},
   "outputs": [],
   "source": [
    "ti2018winners"
   ]
  },
  {
   "cell_type": "code",
   "execution_count": null,
   "id": "1ba172cd-9931-4624-9fd1-dcb297a5b5ae",
   "metadata": {},
   "outputs": [],
   "source": [
    "ti2018winners.to_csv('ti2018winners.csv')"
   ]
  },
  {
   "cell_type": "code",
   "execution_count": null,
   "id": "e10f92f7-55da-4f9b-83a4-37811d7b0ad3",
   "metadata": {},
   "outputs": [],
   "source": [
    "url20 = 'https://en.wikipedia.org/wiki/The_International_2019'\n",
    "\n",
    "ti2019money = requests.get(url20)"
   ]
  },
  {
   "cell_type": "code",
   "execution_count": null,
   "id": "72440f35-1df5-492a-a5ee-548f028ffdb5",
   "metadata": {},
   "outputs": [],
   "source": [
    "ti2019winnerstable = pd.read_html(url20)"
   ]
  },
  {
   "cell_type": "code",
   "execution_count": null,
   "id": "987e317a-4b1d-48de-aab1-94f7f41472d9",
   "metadata": {},
   "outputs": [],
   "source": [
    "ti2019winnerstable[5]"
   ]
  },
  {
   "cell_type": "code",
   "execution_count": null,
   "id": "91b07149-0553-453b-80a3-6550e885e051",
   "metadata": {},
   "outputs": [],
   "source": [
    "ti2019winners = ti2019winnerstable[5]"
   ]
  },
  {
   "cell_type": "code",
   "execution_count": null,
   "id": "55649c99-db4f-472a-96ed-f99ff58ce990",
   "metadata": {},
   "outputs": [],
   "source": [
    "ti2019winners"
   ]
  },
  {
   "cell_type": "code",
   "execution_count": null,
   "id": "e2cc0041-0633-4e3f-b403-613eae3ba4ae",
   "metadata": {},
   "outputs": [],
   "source": [
    "ti2019winners.to_csv('ti2019winners.csv')"
   ]
  },
  {
   "cell_type": "code",
   "execution_count": null,
   "id": "127b5cfb-1cc8-48ee-8a0b-ce8e5e48f977",
   "metadata": {},
   "outputs": [],
   "source": [
    "url21 = 'https://en.wikipedia.org/wiki/The_International_2021'\n",
    "\n",
    "ti2021money = requests.get(url21)"
   ]
  },
  {
   "cell_type": "code",
   "execution_count": null,
   "id": "44462e9a-e77f-4e4c-862d-d862ef4ea440",
   "metadata": {},
   "outputs": [],
   "source": [
    "ti2021winnerstable = pd.read_html(url21)"
   ]
  },
  {
   "cell_type": "code",
   "execution_count": null,
   "id": "a6d21824-4c5c-4fe1-b91f-84ed691e0e87",
   "metadata": {},
   "outputs": [],
   "source": [
    "ti2021winnerstable[5]"
   ]
  },
  {
   "cell_type": "code",
   "execution_count": null,
   "id": "3dba50e4-4ce2-4736-9545-4aca11f66ed3",
   "metadata": {},
   "outputs": [],
   "source": [
    "ti2021winners = ti2021winnerstable[5]"
   ]
  },
  {
   "cell_type": "code",
   "execution_count": null,
   "id": "5c156745-1007-4401-988b-c9b4de795019",
   "metadata": {},
   "outputs": [],
   "source": [
    "ti2021winners"
   ]
  },
  {
   "cell_type": "code",
   "execution_count": null,
   "id": "0f22542c-8808-4fe2-b6d0-cd082eaefbc4",
   "metadata": {},
   "outputs": [],
   "source": [
    "ti2021winners.to_csv('ti2021winners.csv')"
   ]
  },
  {
   "cell_type": "code",
   "execution_count": null,
   "id": "9738c764-9004-4104-8479-a6f9a076c586",
   "metadata": {},
   "outputs": [],
   "source": [
    "url22 = 'https://en.wikipedia.org/wiki/The_International_2022'\n",
    "\n",
    "ti2022money = requests.get(url22)"
   ]
  },
  {
   "cell_type": "code",
   "execution_count": null,
   "id": "e016364d-b66d-45a4-a202-6c065cea3916",
   "metadata": {},
   "outputs": [],
   "source": [
    "ti2022winnerstable = pd.read_html(url22)"
   ]
  },
  {
   "cell_type": "code",
   "execution_count": null,
   "id": "df2dbf41-eb6d-4491-ae82-c345c20c50cf",
   "metadata": {},
   "outputs": [],
   "source": [
    "ti2022winnerstable[7]"
   ]
  },
  {
   "cell_type": "code",
   "execution_count": null,
   "id": "91325783-bb19-428b-8e89-c988fe7aad9d",
   "metadata": {},
   "outputs": [],
   "source": [
    "ti2022winners = ti2022winnerstable[7]"
   ]
  },
  {
   "cell_type": "code",
   "execution_count": null,
   "id": "cbed5e85-304b-4016-9e6a-964536a2290d",
   "metadata": {},
   "outputs": [],
   "source": [
    "ti2022winners"
   ]
  },
  {
   "cell_type": "code",
   "execution_count": null,
   "id": "343d8ccf-6fcf-4d43-ab1a-80061f7f483f",
   "metadata": {},
   "outputs": [],
   "source": [
    "ti2022winners.to_csv('ti2022winners.csv')"
   ]
  },
  {
   "cell_type": "code",
   "execution_count": null,
   "id": "e1cf852f-7f10-49f0-ba7a-5a5d411820e6",
   "metadata": {},
   "outputs": [],
   "source": [
    "url23 = 'https://en.wikipedia.org/wiki/The_International_2023'\n",
    "\n",
    "ti2023money = requests.get(url23)"
   ]
  },
  {
   "cell_type": "code",
   "execution_count": null,
   "id": "a7c5b199-c366-48ab-acdf-4985bbc8ad28",
   "metadata": {},
   "outputs": [],
   "source": [
    "ti2023winnerstable = pd.read_html(url23)"
   ]
  },
  {
   "cell_type": "code",
   "execution_count": null,
   "id": "a7aecac6-4d19-4690-b557-389cd47abc0e",
   "metadata": {},
   "outputs": [],
   "source": [
    "ti2023winnerstable[10]"
   ]
  },
  {
   "cell_type": "code",
   "execution_count": null,
   "id": "dee0d2e9-3380-41bc-8a7f-1cc1ca706c40",
   "metadata": {},
   "outputs": [],
   "source": [
    "ti2023winners = ti2023winnerstable[10]"
   ]
  },
  {
   "cell_type": "code",
   "execution_count": null,
   "id": "1de3c535-9ab1-41bc-86ec-8275e3e6cbb9",
   "metadata": {},
   "outputs": [],
   "source": [
    "ti2023winners"
   ]
  },
  {
   "cell_type": "code",
   "execution_count": null,
   "id": "f830dade-8300-4df3-b6b0-17b9812bb6ee",
   "metadata": {},
   "outputs": [],
   "source": [
    "ti2023winners.to_csv('ti2023winners.csv')"
   ]
  },
  {
   "cell_type": "code",
   "execution_count": null,
   "id": "72bef4ea-71fb-4ccc-abc1-4f6eacd37a9b",
   "metadata": {},
   "outputs": [],
   "source": [
    "url24 = 'https://en.wikipedia.org/wiki/The_International_2024'\n",
    "\n",
    "ti2024money = requests.get(url24)"
   ]
  },
  {
   "cell_type": "code",
   "execution_count": null,
   "id": "5924d3fe-e017-44da-afa5-a05f66aac951",
   "metadata": {},
   "outputs": [],
   "source": [
    "ti2024winnerstable = pd.read_html(url24)"
   ]
  },
  {
   "cell_type": "code",
   "execution_count": null,
   "id": "91b7a6e1-b479-4b18-ac63-c8359da89f76",
   "metadata": {},
   "outputs": [],
   "source": [
    "len(ti2024winnerstable)"
   ]
  },
  {
   "cell_type": "code",
   "execution_count": null,
   "id": "857b7ea0-bce9-49f6-a9ae-9017a987ac89",
   "metadata": {},
   "outputs": [],
   "source": [
    "url25 = 'https://starcraft.fandom.com/wiki/Aeon_of_Strife_(map)'\n",
    "aeonstrife = requests.get(url25)"
   ]
  },
  {
   "cell_type": "code",
   "execution_count": null,
   "id": "2af41847-7013-4692-b134-95e3a84f5a6c",
   "metadata": {},
   "outputs": [],
   "source": [
    "aeonstrife.text"
   ]
  },
  {
   "cell_type": "code",
   "execution_count": null,
   "id": "7fd2a1ea-f247-453e-bf3d-9441a91528dd",
   "metadata": {},
   "outputs": [],
   "source": [
    "BS(aeonstrife.text)"
   ]
  },
  {
   "cell_type": "code",
   "execution_count": null,
   "id": "aca54e70-4919-4ba5-b9dc-9a20f4c17d63",
   "metadata": {},
   "outputs": [],
   "source": [
    "soup = BS(aeonstrife.text)"
   ]
  },
  {
   "cell_type": "code",
   "execution_count": null,
   "id": "c05af1e1-b911-4eea-ad2b-dcb9f2e16046",
   "metadata": {},
   "outputs": [],
   "source": [
    "soup"
   ]
  },
  {
   "cell_type": "code",
   "execution_count": null,
   "id": "223280e8-e926-435d-b45c-0f3b62bb39d1",
   "metadata": {},
   "outputs": [],
   "source": [
    "print(soup.prettify())"
   ]
  },
  {
   "cell_type": "code",
   "execution_count": null,
   "id": "8cf06659-bb82-4948-95f6-4c4ada43d0bf",
   "metadata": {},
   "outputs": [],
   "source": [
    "soup.find('p').text"
   ]
  },
  {
   "cell_type": "code",
   "execution_count": null,
   "id": "3c73a192-bfad-4966-8d16-471fe619759f",
   "metadata": {},
   "outputs": [],
   "source": [
    "url25 = 'https://starcraft.fandom.com/wiki/Aeon_of_Strife_(map)'\n",
    "aeonstrife = requests.get(url25)"
   ]
  },
  {
   "cell_type": "code",
   "execution_count": null,
   "id": "a4f0c90f-86f3-446a-a4a4-4962ca259e59",
   "metadata": {},
   "outputs": [],
   "source": [
    "url26 = 'https://wowpedia.fandom.com/wiki/Defense_of_the_Ancients:_Allstars'\n",
    "warcraft3dota = requests.get(url26)"
   ]
  },
  {
   "cell_type": "code",
   "execution_count": null,
   "id": "6da2e17c-53ff-4cd8-a46c-192238713d35",
   "metadata": {},
   "outputs": [],
   "source": [
    "warcraft3dota.status_code"
   ]
  },
  {
   "cell_type": "code",
   "execution_count": null,
   "id": "ecff3f10-5bdd-462b-b1ed-2952582308d7",
   "metadata": {},
   "outputs": [],
   "source": [
    "BS(warcraft3dota.text)"
   ]
  },
  {
   "cell_type": "code",
   "execution_count": null,
   "id": "7335682c-699b-41fc-adaa-4d95a233f4db",
   "metadata": {},
   "outputs": [],
   "source": [
    "soup2 = BS(warcraft3dota.text)"
   ]
  },
  {
   "cell_type": "code",
   "execution_count": null,
   "id": "bc71c011-fe47-4c37-a7e2-055027a62da2",
   "metadata": {},
   "outputs": [],
   "source": [
    "print(soup2.prettify())"
   ]
  },
  {
   "cell_type": "code",
   "execution_count": null,
   "id": "79197605-fbdc-4b72-bf10-2e6bb59b8be0",
   "metadata": {},
   "outputs": [],
   "source": [
    "soup2.findAll('p')"
   ]
  },
  {
   "cell_type": "code",
   "execution_count": null,
   "id": "21d9eb3e-4dbd-4c8e-a514-e8b157cc5c99",
   "metadata": {},
   "outputs": [],
   "source": [
    "soup2.findAll('p')[2].text"
   ]
  },
  {
   "cell_type": "code",
   "execution_count": null,
   "id": "c11b46c1-15c8-4e35-8093-97afc24773aa",
   "metadata": {},
   "outputs": [],
   "source": [
    "soup2.findAll('p')[3].text"
   ]
  },
  {
   "cell_type": "code",
   "execution_count": null,
   "id": "45f01137-abc0-42c3-9ff9-8a84bd53ecf7",
   "metadata": {},
   "outputs": [],
   "source": [
    "soup2.findAll('p')[4].text"
   ]
  },
  {
   "cell_type": "code",
   "execution_count": null,
   "id": "65c5b415-6f1e-4599-91da-90f88be6678b",
   "metadata": {},
   "outputs": [],
   "source": [
    "soup2.findAll('p')[5].text\n"
   ]
  },
  {
   "cell_type": "code",
   "execution_count": null,
   "id": "a122387e-2c08-47f4-85f2-66c018e859bc",
   "metadata": {},
   "outputs": [],
   "source": [
    "soup2.findAll('p')[6].text"
   ]
  },
  {
   "cell_type": "code",
   "execution_count": null,
   "id": "32653d02-deec-454a-a557-ab1b38757b58",
   "metadata": {},
   "outputs": [],
   "source": [
    "soup2.findAll('p')[7].text"
   ]
  },
  {
   "cell_type": "code",
   "execution_count": null,
   "id": "39cfa839-68f0-41db-8ffe-24a363e42790",
   "metadata": {},
   "outputs": [],
   "source": [
    "url27 = 'https://liquipedia.net/dota2/The_International'\n",
    "theinternational = requests.get(url27)"
   ]
  },
  {
   "cell_type": "code",
   "execution_count": null,
   "id": "f47c644f-e25e-4e6e-b24f-b3eabd43dcfa",
   "metadata": {},
   "outputs": [],
   "source": [
    "theinternational.status_code"
   ]
  },
  {
   "cell_type": "code",
   "execution_count": null,
   "id": "dbc2d4b6-d0b6-4e26-81f2-e86f1fdef104",
   "metadata": {},
   "outputs": [],
   "source": [
    "soup3 = BS(theinternational.text)"
   ]
  },
  {
   "cell_type": "code",
   "execution_count": null,
   "id": "6a85c304-ae8b-487b-8c88-24d8adfd8f0f",
   "metadata": {},
   "outputs": [],
   "source": [
    "print(soup3.prettify())"
   ]
  },
  {
   "cell_type": "code",
   "execution_count": null,
   "id": "97e15f7a-f690-439c-aa1b-5bc43793ff64",
   "metadata": {},
   "outputs": [],
   "source": [
    "soup3.findAll('p')"
   ]
  },
  {
   "cell_type": "code",
   "execution_count": null,
   "id": "ba7ef1b1-4eab-43dd-bc9e-21a513462a4d",
   "metadata": {},
   "outputs": [],
   "source": [
    "soup3.findAll('p')[0].text"
   ]
  },
  {
   "cell_type": "code",
   "execution_count": null,
   "id": "301a195c-11ed-45a9-9655-0365feba410c",
   "metadata": {},
   "outputs": [],
   "source": [
    "soup3.findAll('p')[1].text"
   ]
  },
  {
   "cell_type": "code",
   "execution_count": null,
   "id": "9114fb31-e59a-49d1-8191-85b9544a6869",
   "metadata": {},
   "outputs": [],
   "source": [
    "soup3.findAll('p')[2].text"
   ]
  },
  {
   "cell_type": "code",
   "execution_count": null,
   "id": "631c1a50-4e90-46da-ab55-f68ab6bd6e2e",
   "metadata": {},
   "outputs": [],
   "source": [
    "soup3.findAll('p')[5].text"
   ]
  },
  {
   "cell_type": "code",
   "execution_count": null,
   "id": "de4fcfb6-9050-4a99-a91e-6530110e5682",
   "metadata": {},
   "outputs": [],
   "source": [
    "url28 = 'https://liquipedia.net/dota2/The_International/Player_Statistics'\n",
    " \n",
    "totalcountries = requests.get(url28)"
   ]
  },
  {
   "cell_type": "code",
   "execution_count": null,
   "id": "35a65edf-12c0-4ae3-b7dc-b0a3a1e06f74",
   "metadata": {},
   "outputs": [],
   "source": [
    "totalcountries.status_code"
   ]
  },
  {
   "cell_type": "code",
   "execution_count": null,
   "id": "9bb69fb2-8bf1-4ce3-9a8d-67fb21ad7e2c",
   "metadata": {},
   "outputs": [],
   "source": [
    "totalcountriestable =  pd.read_html(url28)"
   ]
  },
  {
   "cell_type": "code",
   "execution_count": null,
   "id": "068695f2-0c15-419a-a113-6d9278787767",
   "metadata": {},
   "outputs": [],
   "source": [
    "totalbycountry = totalcountriestable[2]"
   ]
  },
  {
   "cell_type": "code",
   "execution_count": null,
   "id": "78a848f2-74f4-46f7-8c0b-e880e00900e9",
   "metadata": {},
   "outputs": [],
   "source": [
    "totalbycountry.to_csv('totalbycountry.csv')"
   ]
  },
  {
   "cell_type": "code",
   "execution_count": null,
   "id": "7a712561-e462-43b7-983a-faa26d7c5f54",
   "metadata": {},
   "outputs": [],
   "source": [
    "url29 ='https://en.wikipedia.org/wiki/Multiplayer_online_battle_arena'\n",
    "mobadef = requests.get(url29)"
   ]
  },
  {
   "cell_type": "code",
   "execution_count": null,
   "id": "28511381-9739-4f3e-9816-51747ab9ee6e",
   "metadata": {},
   "outputs": [],
   "source": [
    "mobadef"
   ]
  },
  {
   "cell_type": "code",
   "execution_count": null,
   "id": "23de8e1e-c636-42f1-84c0-9aeb32e0e0f9",
   "metadata": {},
   "outputs": [],
   "source": [
    "soup4 = BS(mobadef.text)"
   ]
  },
  {
   "cell_type": "code",
   "execution_count": null,
   "id": "c392720e-0ff4-49b1-be31-1f79a9a0d1b3",
   "metadata": {},
   "outputs": [],
   "source": [
    "print(soup4.prettify())"
   ]
  },
  {
   "cell_type": "code",
   "execution_count": null,
   "id": "a56bcc59-5eb9-4c20-91e7-5324bee489be",
   "metadata": {},
   "outputs": [],
   "source": [
    "soup4.findAll('p')"
   ]
  },
  {
   "cell_type": "code",
   "execution_count": null,
   "id": "33b2abfd-3788-4347-af77-1ac0ecccb186",
   "metadata": {},
   "outputs": [],
   "source": [
    "soup4.findAll('p')[0].text"
   ]
  },
  {
   "cell_type": "code",
   "execution_count": null,
   "id": "92541474-f874-4fc1-8d4e-bc6d7a9d21e3",
   "metadata": {},
   "outputs": [],
   "source": [
    "soup4.findAll('p')[1].text"
   ]
  },
  {
   "cell_type": "code",
   "execution_count": null,
   "id": "fd7c28b9-54e2-453a-b9e5-f53321408398",
   "metadata": {},
   "outputs": [],
   "source": [
    "url30 = 'https://liquipedia.net/dota2/Topson'\n",
    "topson = requests.get(url30)"
   ]
  },
  {
   "cell_type": "code",
   "execution_count": null,
   "id": "c49eb06a-bb41-4e5c-8985-c9c398ef6f61",
   "metadata": {},
   "outputs": [],
   "source": [
    "topson.status_code"
   ]
  },
  {
   "cell_type": "code",
   "execution_count": null,
   "id": "76b9bb9f-e2b0-43d3-843b-2e8e061592f5",
   "metadata": {},
   "outputs": [],
   "source": [
    "topson"
   ]
  },
  {
   "cell_type": "code",
   "execution_count": null,
   "id": "16b355b9-e111-40bd-91d5-7f431012dde5",
   "metadata": {},
   "outputs": [],
   "source": [
    "soup5 = BS(topson.text)"
   ]
  },
  {
   "cell_type": "code",
   "execution_count": null,
   "id": "a72f214a-da2e-45e7-9dff-9830b8af1258",
   "metadata": {},
   "outputs": [],
   "source": [
    "soup5.findAll('div')[302].text"
   ]
  },
  {
   "cell_type": "code",
   "execution_count": null,
   "id": "2dda2934-7b7e-42e0-aa86-d45bc5e878cf",
   "metadata": {},
   "outputs": [],
   "source": [
    "url31 = 'https://liquipedia.net/dota2/Ana'\n",
    "ana = requests.get(url31)"
   ]
  },
  {
   "cell_type": "code",
   "execution_count": null,
   "id": "b60c7b8b-21eb-4c06-a2bb-3269b57c4044",
   "metadata": {},
   "outputs": [],
   "source": [
    "soup6 = BS(ana.text)"
   ]
  },
  {
   "cell_type": "code",
   "execution_count": null,
   "id": "2d22c42e-7a94-42a5-a133-8fa38fe64b23",
   "metadata": {},
   "outputs": [],
   "source": [
    "soup6.findAll('div')[305].text"
   ]
  },
  {
   "cell_type": "code",
   "execution_count": null,
   "id": "d3a0794f-3ff8-429a-b422-7f7bf48c0c8a",
   "metadata": {},
   "outputs": [],
   "source": [
    "url32 = 'https://liquipedia.net/dota2/Ceb'\n",
    "ceb = requests.get(url32)"
   ]
  },
  {
   "cell_type": "code",
   "execution_count": null,
   "id": "94f79218-c937-4a90-9c90-f61edc5737cf",
   "metadata": {},
   "outputs": [],
   "source": [
    "soup7 = BS(ceb.text)"
   ]
  },
  {
   "cell_type": "code",
   "execution_count": null,
   "id": "3b89cc71-f8b0-456f-9149-b0dc63f114ab",
   "metadata": {},
   "outputs": [],
   "source": [
    "soup7.findAll('div')[308].text"
   ]
  },
  {
   "cell_type": "code",
   "execution_count": null,
   "id": "3beed90e-1f7a-4831-ba9d-c0d11a74a815",
   "metadata": {},
   "outputs": [],
   "source": [
    "url33 = 'https://liquipedia.net/dota2/JerAx'\n",
    "jerax = requests.get(url33)"
   ]
  },
  {
   "cell_type": "code",
   "execution_count": null,
   "id": "bef38c70-8b83-46c8-a3ec-d1ef39c5d45b",
   "metadata": {},
   "outputs": [],
   "source": [
    "soup8 = BS(jerax.text)"
   ]
  },
  {
   "cell_type": "code",
   "execution_count": null,
   "id": "82d4f111-2eb0-453e-98f3-4877ab4bde47",
   "metadata": {},
   "outputs": [],
   "source": [
    "soup8.findAll('div')[307].text"
   ]
  },
  {
   "cell_type": "code",
   "execution_count": null,
   "id": "08b3fd11-a2e9-469e-bd9b-fcb667b920ae",
   "metadata": {},
   "outputs": [],
   "source": [
    "url34 = 'https://liquipedia.net/dota2/N0tail'\n",
    "notail = requests.get(url34)"
   ]
  },
  {
   "cell_type": "code",
   "execution_count": null,
   "id": "c0acf389-50ff-45ea-ad1d-a7ed3b166cd9",
   "metadata": {},
   "outputs": [],
   "source": [
    "soup9 = BS(notail.text)"
   ]
  },
  {
   "cell_type": "code",
   "execution_count": null,
   "id": "b6316bc1-7ba2-4754-94a5-b646a9ebcab0",
   "metadata": {},
   "outputs": [],
   "source": [
    "soup9.findAll('div')[308].text"
   ]
  },
  {
   "cell_type": "code",
   "execution_count": null,
   "id": "d1b52df7-3b36-4a27-9428-092c72a543be",
   "metadata": {},
   "outputs": [],
   "source": [
    "url35 = 'https://liquipedia.net/dota2/Yatoro'\n",
    "yatoro = requests.get(url35)"
   ]
  },
  {
   "cell_type": "code",
   "execution_count": null,
   "id": "2d83dde4-e47d-4702-8b87-e7ca057edcb2",
   "metadata": {},
   "outputs": [],
   "source": [
    "soup10 = BS(yatoro.text)"
   ]
  },
  {
   "cell_type": "code",
   "execution_count": null,
   "id": "aefd0d75-c5a4-49a1-b97f-375019ece555",
   "metadata": {},
   "outputs": [],
   "source": [
    "soup10.findAll('div')[313].text"
   ]
  },
  {
   "cell_type": "code",
   "execution_count": null,
   "id": "a9322076-8463-482b-812b-007ff1f38094",
   "metadata": {},
   "outputs": [],
   "source": [
    "url36 = 'https://liquipedia.net/dota2/Collapse'\n",
    "collapse = requests.get(url36)"
   ]
  },
  {
   "cell_type": "code",
   "execution_count": null,
   "id": "d11c32bf-8215-4628-90c2-0f895a0f3f3d",
   "metadata": {},
   "outputs": [],
   "source": [
    "soup11 = BS(collapse.text)"
   ]
  },
  {
   "cell_type": "code",
   "execution_count": null,
   "id": "1f97314d-c10f-4869-8517-25ffef71e7bb",
   "metadata": {},
   "outputs": [],
   "source": [
    "soup11.findAll('div')[313].text"
   ]
  },
  {
   "cell_type": "code",
   "execution_count": null,
   "id": "d711cc31-982c-4c3b-80fd-205922558d1c",
   "metadata": {},
   "outputs": [],
   "source": [
    "url37 = 'https://liquipedia.net/dota2/Mira'\n",
    "mira = requests.get(url37)"
   ]
  },
  {
   "cell_type": "code",
   "execution_count": null,
   "id": "4497157c-cafc-4779-81cf-a8ac94cd34dd",
   "metadata": {},
   "outputs": [],
   "source": [
    "soup12 = BS(mira.text)"
   ]
  },
  {
   "cell_type": "code",
   "execution_count": null,
   "id": "0b42feb4-5018-4109-8a19-7642ced9d822",
   "metadata": {},
   "outputs": [],
   "source": [
    "soup12.findAll('div')[313].text"
   ]
  },
  {
   "cell_type": "code",
   "execution_count": null,
   "id": "baf6b346-2ca4-4f0a-9c4f-9bb781544935",
   "metadata": {},
   "outputs": [],
   "source": [
    "url38 = 'https://liquipedia.net/dota2/Miposhka'\n",
    "miposhka = requests.get(url38)"
   ]
  },
  {
   "cell_type": "code",
   "execution_count": null,
   "id": "e3ae04ed-a85a-4b06-a64f-ff7b70236fa8",
   "metadata": {},
   "outputs": [],
   "source": [
    "soup12 = BS(miposhka.text)"
   ]
  },
  {
   "cell_type": "code",
   "execution_count": null,
   "id": "83a31826-9320-4194-ba7a-bb694d67bc7f",
   "metadata": {},
   "outputs": [],
   "source": [
    "soup12.findAll('div')[308].text"
   ]
  },
  {
   "cell_type": "code",
   "execution_count": null,
   "id": "939bd272-3154-4ef9-8a82-e13314b03d79",
   "metadata": {},
   "outputs": [],
   "source": [
    "url39 = 'https://liquipedia.net/dota2/Puppey'\n",
    "puppey = requests.get(url39)"
   ]
  },
  {
   "cell_type": "code",
   "execution_count": null,
   "id": "e53b7c0a-3271-44af-9618-c30aeae8c3be",
   "metadata": {},
   "outputs": [],
   "source": [
    "soup13 = BS(puppey.text)"
   ]
  },
  {
   "cell_type": "code",
   "execution_count": null,
   "id": "d21899a5-a730-46b2-bd47-cf1889a7296d",
   "metadata": {},
   "outputs": [],
   "source": [
    "soup12.findAll('div')[308].text"
   ]
  },
  {
   "cell_type": "code",
   "execution_count": null,
   "id": "97c2cef8-ca04-400c-a6de-bf9d6166509c",
   "metadata": {},
   "outputs": [],
   "source": [
    "url40 = 'https://dota2.fandom.com/wiki/The_International_2013_Interactive_Compendium'\n",
    "compendium = requests.get(url40)"
   ]
  },
  {
   "cell_type": "code",
   "execution_count": null,
   "id": "19d6d8a7-7e58-48de-a0ea-46992ea8f98f",
   "metadata": {},
   "outputs": [],
   "source": [
    "compendium.status_code"
   ]
  },
  {
   "cell_type": "code",
   "execution_count": null,
   "id": "74d9ce6b-6848-4ec0-9dd2-560b55baa5a9",
   "metadata": {},
   "outputs": [],
   "source": [
    "soup14 = BS(compendium.text)"
   ]
  },
  {
   "cell_type": "code",
   "execution_count": null,
   "id": "aa866010-ca3a-4c46-accc-107c7025b4c7",
   "metadata": {},
   "outputs": [],
   "source": [
    "soup14.findAll('p')[0].text"
   ]
  },
  {
   "cell_type": "code",
   "execution_count": null,
   "id": "fffcb14e-b79f-4691-b637-05bc67e75e1a",
   "metadata": {},
   "outputs": [],
   "source": [
    "soup14.findAll('p')[1].text"
   ]
  },
  {
   "cell_type": "code",
   "execution_count": null,
   "id": "9dc7b246-ca55-472a-aa40-4eef551183aa",
   "metadata": {},
   "outputs": [],
   "source": [
    "imgdata = []\n",
    "for i in soup14.find_all('img'):\n",
    "    imgdata.append(i['src'])"
   ]
  },
  {
   "cell_type": "code",
   "execution_count": null,
   "id": "750b8502-12de-42b9-96fa-ff0092c5d46f",
   "metadata": {},
   "outputs": [],
   "source": [
    "imgdata"
   ]
  },
  {
   "cell_type": "code",
   "execution_count": null,
   "id": "8750cce9-1e67-4c40-9737-454aece61ed8",
   "metadata": {},
   "outputs": [],
   "source": [
    "url41 = 'https://dota2.fandom.com/wiki/The_International_2016_Battle_Pass'\n",
    "battlepass = requests.get(url41)"
   ]
  },
  {
   "cell_type": "code",
   "execution_count": null,
   "id": "639e8cd2-2dc7-4547-aa99-dc6428dc7538",
   "metadata": {},
   "outputs": [],
   "source": [
    "battlepass"
   ]
  },
  {
   "cell_type": "code",
   "execution_count": null,
   "id": "820aee53-6fb8-4893-9866-3f15b3829e19",
   "metadata": {},
   "outputs": [],
   "source": [
    "soup15 = BS(battlepass.text)"
   ]
  },
  {
   "cell_type": "code",
   "execution_count": null,
   "id": "25e8777f-c615-45a7-aa1e-cc48aa5df619",
   "metadata": {},
   "outputs": [],
   "source": [
    "soup15.findAll('p')[0].text"
   ]
  },
  {
   "cell_type": "code",
   "execution_count": null,
   "id": "97b65db1-2118-46f9-a96c-2e38ec324aaa",
   "metadata": {},
   "outputs": [],
   "source": [
    "url42 = 'https://dota2.fandom.com/wiki/The_International_2017_Battle_Pass'\n",
    "battlepass2017 = requests.get(url42)"
   ]
  },
  {
   "cell_type": "code",
   "execution_count": null,
   "id": "c42843fd-db05-4ace-b239-49fbe9ccf7d7",
   "metadata": {},
   "outputs": [],
   "source": [
    "battlepass2017"
   ]
  },
  {
   "cell_type": "code",
   "execution_count": null,
   "id": "2194c9c1-5506-4d9e-98e6-208dcbbb1138",
   "metadata": {},
   "outputs": [],
   "source": [
    "soup16 = BS(battlepass2017.text)"
   ]
  },
  {
   "cell_type": "code",
   "execution_count": null,
   "id": "4a982ec3-2881-4842-8ed4-a2861e2037b7",
   "metadata": {},
   "outputs": [],
   "source": [
    "soup16.findAll('p')[0].text"
   ]
  },
  {
   "cell_type": "code",
   "execution_count": null,
   "id": "688042cc-7007-4945-b646-591cbe13b6ba",
   "metadata": {},
   "outputs": [],
   "source": [
    "url43 = 'https://www.reddit.com/r/DotA2/comments/gwdoj7/a_comparison_of_battle_pass_rewards_from_2015_to/'\n",
    "battlepassgraph = requests.get(url43)"
   ]
  },
  {
   "cell_type": "code",
   "execution_count": null,
   "id": "0c5b8a7c-3910-4ce3-bb43-b74998dbcd54",
   "metadata": {},
   "outputs": [],
   "source": [
    "battlepassgraph.status_code"
   ]
  },
  {
   "cell_type": "code",
   "execution_count": null,
   "id": "8f34847e-561a-4084-aabc-3267fbfe93bc",
   "metadata": {},
   "outputs": [],
   "source": [
    "soup17 = BS(battlepassgraph.text)"
   ]
  },
  {
   "cell_type": "code",
   "execution_count": null,
   "id": "8bffab6e-eb85-4848-8067-1f9f4ca097bc",
   "metadata": {},
   "outputs": [],
   "source": [
    "def getdata(url43):  \n",
    "    r = requests.get(url43)  \n",
    "    return r.text  \n",
    "    \n",
    "htmldata = getdata('https://www.reddit.com/r/DotA2/comments/gwdoj7/a_comparison_of_battle_pass_rewards_from_2015_to/')  \n",
    "soup = BS(htmldata, 'html.parser')  \n",
    "for item in soup.find_all('img'): \n",
    "    print(item['src'])"
   ]
  },
  {
   "cell_type": "code",
   "execution_count": null,
   "id": "b7cd1f93-d56e-45da-8f6a-15769f75faac",
   "metadata": {},
   "outputs": [],
   "source": []
  }
 ],
 "metadata": {
  "kernelspec": {
   "display_name": "Python 3 (ipykernel)",
   "language": "python",
   "name": "python3"
  },
  "language_info": {
   "codemirror_mode": {
    "name": "ipython",
    "version": 3
   },
   "file_extension": ".py",
   "mimetype": "text/x-python",
   "name": "python",
   "nbconvert_exporter": "python",
   "pygments_lexer": "ipython3",
   "version": "3.12.4"
  }
 },
 "nbformat": 4,
 "nbformat_minor": 5
}
