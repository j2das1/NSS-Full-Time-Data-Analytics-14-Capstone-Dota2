{
 "cells": [
  {
   "cell_type": "code",
   "execution_count": null,
   "id": "9a15179b-e084-449d-b0d1-28f40cf1d35a",
   "metadata": {},
   "outputs": [],
   "source": [
    "import requests\n",
    "import pandas as pd\n",
    "from bs4 import BeautifulSoup as BS"
   ]
  },
  {
   "cell_type": "code",
   "execution_count": null,
   "id": "68ccad92-e59f-4b54-adc1-4049f0130576",
   "metadata": {},
   "outputs": [],
   "source": [
    "url = \"https://liquipedia.net/dota2/The_International/2011\"\n",
    " \n",
    "ti2011 = requests.get(url)"
   ]
  },
  {
   "cell_type": "code",
   "execution_count": null,
   "id": "6582f015-cc77-4d2b-a172-d0937a36c55f",
   "metadata": {},
   "outputs": [],
   "source": [
    "type(ti2011)"
   ]
  },
  {
   "cell_type": "code",
   "execution_count": null,
   "id": "c591a647-9f7b-443c-a445-01111b91998e",
   "metadata": {},
   "outputs": [],
   "source": [
    "ti2011.status_code"
   ]
  },
  {
   "cell_type": "code",
   "execution_count": null,
   "id": "551080eb-cf6e-4f81-9f39-1c10ace0cdc6",
   "metadata": {},
   "outputs": [],
   "source": [
    "tables2011 = pd.read_html(url)"
   ]
  },
  {
   "cell_type": "code",
   "execution_count": null,
   "id": "690cd8d8-cce2-428b-8fd2-cdee51453090",
   "metadata": {},
   "outputs": [],
   "source": [
    "len(tables2011)"
   ]
  },
  {
   "cell_type": "code",
   "execution_count": null,
   "id": "b27ed3d4-2ffa-43a1-b6d6-00c7ba2babf8",
   "metadata": {},
   "outputs": [],
   "source": [
    "tables2011[60]"
   ]
  },
  {
   "cell_type": "code",
   "execution_count": null,
   "id": "176bd447-bccd-4c32-b0c3-3ac4880a5994",
   "metadata": {},
   "outputs": [],
   "source": [
    "ti2011country = tables2011[60]"
   ]
  },
  {
   "cell_type": "code",
   "execution_count": null,
   "id": "8a63133e-06c9-4aa9-92aa-8a7101d1b902",
   "metadata": {},
   "outputs": [],
   "source": [
    "ti2011country"
   ]
  },
  {
   "cell_type": "code",
   "execution_count": null,
   "id": "afb427d4-4bf0-4529-95e5-3a0d04a3e37f",
   "metadata": {},
   "outputs": [],
   "source": [
    "ti2011country.to_csv('ti2011country.csv')"
   ]
  },
  {
   "cell_type": "code",
   "execution_count": null,
   "id": "4e09e35b-990c-472d-a711-c2bb1d971491",
   "metadata": {},
   "outputs": [],
   "source": [
    "url2 = \"https://liquipedia.net/dota2/The_International/2012\"\n",
    " \n",
    "ti2012 = requests.get(url2)"
   ]
  },
  {
   "cell_type": "code",
   "execution_count": null,
   "id": "f27ef4bb-96b3-43f8-a0d0-b0171ccaf36e",
   "metadata": {},
   "outputs": [],
   "source": [
    "type(ti2012)"
   ]
  },
  {
   "cell_type": "code",
   "execution_count": null,
   "id": "83a29ef8-a795-4efb-9505-4b861a896007",
   "metadata": {},
   "outputs": [],
   "source": [
    "ti2012.status_code"
   ]
  },
  {
   "cell_type": "code",
   "execution_count": null,
   "id": "e89b64a5-552e-4d4a-9de6-ddca1dad6b4d",
   "metadata": {},
   "outputs": [],
   "source": [
    "tables2012 = pd.read_html(url2)"
   ]
  },
  {
   "cell_type": "code",
   "execution_count": null,
   "id": "d16c1d18-f48c-4a0a-b3e4-bda25f06c676",
   "metadata": {},
   "outputs": [],
   "source": [
    "ti2012country = tables2012[75]"
   ]
  },
  {
   "cell_type": "code",
   "execution_count": null,
   "id": "33152545-62bb-402d-8f2f-3efe679f1b50",
   "metadata": {},
   "outputs": [],
   "source": [
    "ti2012country"
   ]
  },
  {
   "cell_type": "code",
   "execution_count": null,
   "id": "d39294d2-3ca7-4148-80f7-24297dab0d21",
   "metadata": {},
   "outputs": [],
   "source": [
    "ti2012country.to_csv('ti2012country.csv')"
   ]
  },
  {
   "cell_type": "code",
   "execution_count": null,
   "id": "d5c89e95-93d2-4706-9cbd-e04e4682a150",
   "metadata": {},
   "outputs": [],
   "source": [
    "url3 = \"https://liquipedia.net/dota2/The_International/2013\"\n",
    " \n",
    "ti2013 = requests.get(url3)"
   ]
  },
  {
   "cell_type": "code",
   "execution_count": null,
   "id": "e45ea428-34d2-4613-bf1f-98adad4fc0b7",
   "metadata": {},
   "outputs": [],
   "source": [
    "ti2013.status_code"
   ]
  },
  {
   "cell_type": "code",
   "execution_count": null,
   "id": "e287f6ca-6d5c-4eab-8dd5-ad7171e793ac",
   "metadata": {},
   "outputs": [],
   "source": [
    "tables2013 = pd.read_html(url3)"
   ]
  },
  {
   "cell_type": "code",
   "execution_count": null,
   "id": "6fd6ee8b-12a7-4f6c-b876-0f88bc8d06fa",
   "metadata": {},
   "outputs": [],
   "source": [
    "len(tables2013)"
   ]
  },
  {
   "cell_type": "code",
   "execution_count": null,
   "id": "694ca75d-7fb7-485c-836e-205597e7d1a0",
   "metadata": {},
   "outputs": [],
   "source": [
    "tables2013[74]"
   ]
  },
  {
   "cell_type": "code",
   "execution_count": null,
   "id": "8fd80cbc-6ec4-43f9-bc0a-edaf53d237ba",
   "metadata": {},
   "outputs": [],
   "source": [
    "ti2013country = tables2013[74]"
   ]
  },
  {
   "cell_type": "code",
   "execution_count": null,
   "id": "c12f8f86-3bb4-4b0a-92e4-717fe8cd1f2e",
   "metadata": {},
   "outputs": [],
   "source": [
    "ti2013country"
   ]
  },
  {
   "cell_type": "code",
   "execution_count": null,
   "id": "0770ebc4-4fd2-46b7-bab9-0b98c7f1b8e6",
   "metadata": {},
   "outputs": [],
   "source": [
    "ti2013country.to_csv('ti2013country.csv')"
   ]
  },
  {
   "cell_type": "code",
   "execution_count": null,
   "id": "6abf2c7f-d75b-4acf-90ae-171a9cf2266d",
   "metadata": {},
   "outputs": [],
   "source": [
    "url4 = \"https://liquipedia.net/dota2/The_International/2014\"\n",
    " \n",
    "ti2014 = requests.get(url4)"
   ]
  },
  {
   "cell_type": "code",
   "execution_count": null,
   "id": "3a26e971-25fe-4fbe-9859-f92c36def1ea",
   "metadata": {},
   "outputs": [],
   "source": [
    "ti2014.status_code"
   ]
  },
  {
   "cell_type": "code",
   "execution_count": null,
   "id": "f4241bc9-2fe9-40ee-9fb3-74eca77a9680",
   "metadata": {},
   "outputs": [],
   "source": [
    "tables2014 = pd.read_html(url4)"
   ]
  },
  {
   "cell_type": "code",
   "execution_count": null,
   "id": "b2b4815b-89cd-4088-9d8f-3de85c82e111",
   "metadata": {},
   "outputs": [],
   "source": [
    "tables2014[77]"
   ]
  },
  {
   "cell_type": "code",
   "execution_count": null,
   "id": "1154b24d-d51c-4c37-908f-6723863553b0",
   "metadata": {},
   "outputs": [],
   "source": [
    "ti2014country = tables2014[77]"
   ]
  },
  {
   "cell_type": "code",
   "execution_count": null,
   "id": "de3b72e0-80b3-422b-b587-37593f65311a",
   "metadata": {},
   "outputs": [],
   "source": [
    "ti2014country"
   ]
  },
  {
   "cell_type": "code",
   "execution_count": null,
   "id": "cba7c484-0d96-4d12-bdff-09cd288fdd21",
   "metadata": {},
   "outputs": [],
   "source": [
    "ti2014country.to_csv('ti2014country.csv')"
   ]
  },
  {
   "cell_type": "code",
   "execution_count": null,
   "id": "7fdb7ac8-bdc1-49aa-bcda-3bb596c11eb1",
   "metadata": {},
   "outputs": [],
   "source": [
    "url5 = \"https://liquipedia.net/dota2/The_International/2015\"\n",
    " \n",
    "ti2015 = requests.get(url5)"
   ]
  },
  {
   "cell_type": "code",
   "execution_count": null,
   "id": "c646bf5a-e21a-4480-8321-29e21a73a88a",
   "metadata": {},
   "outputs": [],
   "source": [
    "ti2015.status_code"
   ]
  },
  {
   "cell_type": "code",
   "execution_count": null,
   "id": "8e95b8bf-e45c-43e5-a91c-b82afdf4e665",
   "metadata": {},
   "outputs": [],
   "source": [
    "tables2015 = pd.read_html(url5)"
   ]
  },
  {
   "cell_type": "code",
   "execution_count": null,
   "id": "07e92c85-1c51-4f51-a1bd-8d297266d3ee",
   "metadata": {},
   "outputs": [],
   "source": [
    "tables2015[74]"
   ]
  },
  {
   "cell_type": "code",
   "execution_count": null,
   "id": "e6a0d228-d452-4c35-af48-3aaff35373c3",
   "metadata": {},
   "outputs": [],
   "source": [
    "ti2015country = tables2015[74]"
   ]
  },
  {
   "cell_type": "code",
   "execution_count": null,
   "id": "83e385af-4845-4d2b-8167-7fb35c220e6b",
   "metadata": {},
   "outputs": [],
   "source": [
    "ti2015country"
   ]
  },
  {
   "cell_type": "code",
   "execution_count": null,
   "id": "42f88949-5114-4357-a2a2-184d3603eb56",
   "metadata": {},
   "outputs": [],
   "source": [
    "ti2015country.to_csv('ti2015country.csv')"
   ]
  },
  {
   "cell_type": "code",
   "execution_count": null,
   "id": "09aac1a5-ccd8-45a9-8ba8-8ccef4a884d0",
   "metadata": {},
   "outputs": [],
   "source": [
    "url6 = \"https://liquipedia.net/dota2/The_International/2016\"\n",
    " \n",
    "ti2016 = requests.get(url6)"
   ]
  },
  {
   "cell_type": "code",
   "execution_count": null,
   "id": "6a873bde-9cdb-443f-bf3d-d94df9f07e87",
   "metadata": {},
   "outputs": [],
   "source": [
    "tables2016 = pd.read_html(url6)"
   ]
  },
  {
   "cell_type": "code",
   "execution_count": null,
   "id": "a00d5573-2ba5-489d-bf6a-40f6040b3703",
   "metadata": {},
   "outputs": [],
   "source": [
    "len(tables2016)"
   ]
  },
  {
   "cell_type": "code",
   "execution_count": null,
   "id": "c4c61873-14ac-46c6-9a57-40e9e3d16cc0",
   "metadata": {},
   "outputs": [],
   "source": [
    "tables2016"
   ]
  },
  {
   "cell_type": "code",
   "execution_count": null,
   "id": "00bcd79e-f1c4-483e-87b9-26a4b1b59c7e",
   "metadata": {},
   "outputs": [],
   "source": [
    "tables2016[74]"
   ]
  },
  {
   "cell_type": "code",
   "execution_count": null,
   "id": "ab529ea8-82a8-4042-b4e4-92e075cac4a7",
   "metadata": {},
   "outputs": [],
   "source": [
    "ti2016country = tables2016[74]"
   ]
  },
  {
   "cell_type": "code",
   "execution_count": null,
   "id": "8cb20a7d-6eba-4be4-af5a-e6456a69d625",
   "metadata": {},
   "outputs": [],
   "source": [
    "ti2016country"
   ]
  },
  {
   "cell_type": "code",
   "execution_count": null,
   "id": "5de07b41-cec6-49ab-8609-8fe6df3286d1",
   "metadata": {},
   "outputs": [],
   "source": [
    "ti2016country.to_csv('ti2016country.csv')"
   ]
  },
  {
   "cell_type": "code",
   "execution_count": null,
   "id": "c4b86fe1-fc7b-4029-b5fb-abaaabdcfacf",
   "metadata": {},
   "outputs": [],
   "source": [
    "url7 = \"https://liquipedia.net/dota2/The_International/2017\"\n",
    " \n",
    "ti2017 = requests.get(url7)"
   ]
  },
  {
   "cell_type": "code",
   "execution_count": null,
   "id": "6928b02c-2c21-485b-83d6-690043833ad2",
   "metadata": {},
   "outputs": [],
   "source": [
    "ti2017.status_code"
   ]
  },
  {
   "cell_type": "code",
   "execution_count": null,
   "id": "a7ee2fff-5311-4afd-b8a9-799843f22e89",
   "metadata": {},
   "outputs": [],
   "source": [
    "tables2017 = pd.read_html(url7)"
   ]
  },
  {
   "cell_type": "code",
   "execution_count": null,
   "id": "16540214-5df7-415a-b6aa-81ea81c9504f",
   "metadata": {},
   "outputs": [],
   "source": [
    "tables2017"
   ]
  },
  {
   "cell_type": "code",
   "execution_count": null,
   "id": "f05fc38a-5df8-4271-95da-dc42375a7a1e",
   "metadata": {},
   "outputs": [],
   "source": [
    "len(tables2017)"
   ]
  },
  {
   "cell_type": "code",
   "execution_count": null,
   "id": "dd09293b-a6d4-447c-b8eb-96c3542e56e8",
   "metadata": {},
   "outputs": [],
   "source": [
    "tables2017[79]"
   ]
  },
  {
   "cell_type": "code",
   "execution_count": null,
   "id": "44a54394-608e-4716-86a0-62b40bd213c3",
   "metadata": {},
   "outputs": [],
   "source": [
    "ti2017country = tables2017[79]"
   ]
  },
  {
   "cell_type": "code",
   "execution_count": null,
   "id": "f4df4f3b-efc5-4057-9bd8-b54bf88f5e6d",
   "metadata": {},
   "outputs": [],
   "source": [
    "ti2017country"
   ]
  },
  {
   "cell_type": "code",
   "execution_count": null,
   "id": "d1099847-cee3-4983-b6c7-cb6e7f0232fe",
   "metadata": {},
   "outputs": [],
   "source": [
    "ti2017country.to_csv('ti2017country.csv')"
   ]
  },
  {
   "cell_type": "code",
   "execution_count": null,
   "id": "7d23a214-6f31-4e4d-b68a-96825429c197",
   "metadata": {},
   "outputs": [],
   "source": [
    "url8 = \"https://liquipedia.net/dota2/The_International/2018\"\n",
    " \n",
    "ti2018 = requests.get(url8)"
   ]
  },
  {
   "cell_type": "code",
   "execution_count": null,
   "id": "f3098b01-7768-4016-8309-374e7891f246",
   "metadata": {},
   "outputs": [],
   "source": [
    "ti2018.status_code"
   ]
  },
  {
   "cell_type": "code",
   "execution_count": null,
   "id": "56fd0e0e-75b2-4f04-b087-6c58715c77d3",
   "metadata": {},
   "outputs": [],
   "source": [
    "tables2018 = pd.read_html(url8)"
   ]
  },
  {
   "cell_type": "code",
   "execution_count": null,
   "id": "d992969c-aa85-4afb-9e8e-a0c2c6269a69",
   "metadata": {},
   "outputs": [],
   "source": [
    "tables2018"
   ]
  },
  {
   "cell_type": "code",
   "execution_count": null,
   "id": "e53d5e1d-244f-4c0d-b1f2-0752ad8444cd",
   "metadata": {},
   "outputs": [],
   "source": [
    "len(tables2018)"
   ]
  },
  {
   "cell_type": "code",
   "execution_count": null,
   "id": "1897e445-054f-48b6-8776-37dc78bf493c",
   "metadata": {},
   "outputs": [],
   "source": [
    "tables2018[81]"
   ]
  },
  {
   "cell_type": "code",
   "execution_count": null,
   "id": "bf991f9b-3942-46f5-8149-97ef8e5a2b79",
   "metadata": {},
   "outputs": [],
   "source": [
    "ti2018country = tables2018[81]"
   ]
  },
  {
   "cell_type": "code",
   "execution_count": null,
   "id": "409418b1-570b-45bd-b739-a279ec819f71",
   "metadata": {},
   "outputs": [],
   "source": [
    "ti2018country"
   ]
  },
  {
   "cell_type": "code",
   "execution_count": null,
   "id": "326fe954-ded5-4ccc-94c1-22fc39430edd",
   "metadata": {},
   "outputs": [],
   "source": [
    "ti2018country.to_csv('ti2018country.csv')"
   ]
  },
  {
   "cell_type": "code",
   "execution_count": null,
   "id": "f107a5eb-1f17-4c3b-8d15-18f8b028c6ed",
   "metadata": {},
   "outputs": [],
   "source": [
    "url9 = \"https://liquipedia.net/dota2/The_International/2019\"\n",
    " \n",
    "ti2019 = requests.get(url9)"
   ]
  },
  {
   "cell_type": "code",
   "execution_count": null,
   "id": "ccc541f1-429a-4b23-a05e-0915c0361e27",
   "metadata": {},
   "outputs": [],
   "source": [
    "ti2019.status_code"
   ]
  },
  {
   "cell_type": "code",
   "execution_count": null,
   "id": "41b9c928-522a-4830-9873-2b20f4f06dbd",
   "metadata": {},
   "outputs": [],
   "source": [
    "tables2019 = pd.read_html(url9)"
   ]
  },
  {
   "cell_type": "code",
   "execution_count": null,
   "id": "047182a4-d2d2-4b75-8d72-9cbbabc1a7f2",
   "metadata": {},
   "outputs": [],
   "source": [
    "tables2019"
   ]
  },
  {
   "cell_type": "code",
   "execution_count": null,
   "id": "b313c2be-36ba-4aa5-86c7-078c18e4e577",
   "metadata": {},
   "outputs": [],
   "source": [
    "len(tables2019)"
   ]
  },
  {
   "cell_type": "code",
   "execution_count": null,
   "id": "2466b0fb-5538-4826-8abf-86ad1b06fbed",
   "metadata": {},
   "outputs": [],
   "source": [
    "tables2019[80]"
   ]
  },
  {
   "cell_type": "code",
   "execution_count": null,
   "id": "a6a0f486-d9eb-4beb-8bc3-332964325e3c",
   "metadata": {},
   "outputs": [],
   "source": [
    "ti2019country = tables2019[80]"
   ]
  },
  {
   "cell_type": "code",
   "execution_count": null,
   "id": "4a9904db-b6d9-45b5-be93-8563e09419b2",
   "metadata": {},
   "outputs": [],
   "source": [
    "ti2019country"
   ]
  },
  {
   "cell_type": "code",
   "execution_count": null,
   "id": "02084791-2e04-42a5-8c77-830ad7877fe4",
   "metadata": {},
   "outputs": [],
   "source": [
    "ti2019country.to_csv('ti2019country.csv')"
   ]
  },
  {
   "cell_type": "code",
   "execution_count": null,
   "id": "ef6c4185-7083-4550-a7b9-1069019e5e36",
   "metadata": {},
   "outputs": [],
   "source": [
    "url10 = \"https://liquipedia.net/dota2/The_International/2021\"\n",
    " \n",
    "ti2021 = requests.get(url10)"
   ]
  },
  {
   "cell_type": "code",
   "execution_count": null,
   "id": "087d6f82-7b7c-48d6-bd40-8079441b232c",
   "metadata": {},
   "outputs": [],
   "source": [
    "ti2021.status_code"
   ]
  },
  {
   "cell_type": "code",
   "execution_count": null,
   "id": "785b770c-b8db-46ac-b2dc-8aabeff3dc52",
   "metadata": {},
   "outputs": [],
   "source": [
    "tables2021 = pd.read_html(url10)"
   ]
  },
  {
   "cell_type": "code",
   "execution_count": null,
   "id": "62d10c3c-fd3c-4c6a-b9b5-8d4e7360e521",
   "metadata": {},
   "outputs": [],
   "source": [
    "tables2021"
   ]
  },
  {
   "cell_type": "code",
   "execution_count": null,
   "id": "303283a9-1fcc-4420-a38b-ccff588e0281",
   "metadata": {},
   "outputs": [],
   "source": [
    "len(tables2021)"
   ]
  },
  {
   "cell_type": "code",
   "execution_count": null,
   "id": "e8cd9305-0308-4fcb-92f5-9c3ea7837bf1",
   "metadata": {},
   "outputs": [],
   "source": [
    "tables2021[85]"
   ]
  },
  {
   "cell_type": "code",
   "execution_count": null,
   "id": "be226de1-bfb9-49d8-ae50-cff47b553c9d",
   "metadata": {},
   "outputs": [],
   "source": [
    "ti2021country = tables2021[85]"
   ]
  },
  {
   "cell_type": "code",
   "execution_count": null,
   "id": "27033e79-9626-4a61-9c6f-337f4b353a01",
   "metadata": {},
   "outputs": [],
   "source": [
    "ti2021country"
   ]
  },
  {
   "cell_type": "code",
   "execution_count": null,
   "id": "9b828b0c-1eee-4f6c-9d87-c2fc486b2fad",
   "metadata": {},
   "outputs": [],
   "source": [
    "ti2021country.to_csv('ti2021country.csv')"
   ]
  },
  {
   "cell_type": "code",
   "execution_count": null,
   "id": "dbbcf9df-f18a-4af4-b766-eaed5b90bcf7",
   "metadata": {},
   "outputs": [],
   "source": [
    "url11 = \"https://liquipedia.net/dota2/The_International/2022\"\n",
    " \n",
    "ti2022 = requests.get(url11)"
   ]
  },
  {
   "cell_type": "code",
   "execution_count": null,
   "id": "6d70c239-7b52-4f1e-8919-c38826a86a4f",
   "metadata": {},
   "outputs": [],
   "source": [
    "ti2022.status_code"
   ]
  },
  {
   "cell_type": "code",
   "execution_count": null,
   "id": "f39905b6-db69-4d6d-a4e4-8e27c40b386f",
   "metadata": {},
   "outputs": [],
   "source": [
    "tables2022 = pd.read_html(url11)"
   ]
  },
  {
   "cell_type": "code",
   "execution_count": null,
   "id": "85433ccd-af19-4a8e-b229-087a7fa63b4d",
   "metadata": {},
   "outputs": [],
   "source": [
    "tables2022"
   ]
  },
  {
   "cell_type": "code",
   "execution_count": null,
   "id": "f329d940-6e64-47ee-a6c5-9a48b0b335a2",
   "metadata": {},
   "outputs": [],
   "source": [
    "len(tables2022)"
   ]
  },
  {
   "cell_type": "code",
   "execution_count": null,
   "id": "f47c2e44-13a9-41a8-9051-747ce6eeadb5",
   "metadata": {},
   "outputs": [],
   "source": [
    "tables2022[94]"
   ]
  },
  {
   "cell_type": "code",
   "execution_count": null,
   "id": "afd852d0-11d6-4c72-bdc4-7bbf035d312c",
   "metadata": {},
   "outputs": [],
   "source": [
    "ti2022country = tables2022[94]"
   ]
  },
  {
   "cell_type": "code",
   "execution_count": null,
   "id": "57f605de-3dee-4700-a51d-b64155968837",
   "metadata": {},
   "outputs": [],
   "source": [
    "ti2022country"
   ]
  },
  {
   "cell_type": "code",
   "execution_count": null,
   "id": "4ba52a9c-26c6-48e5-aa26-8452dc489fe1",
   "metadata": {},
   "outputs": [],
   "source": [
    "ti2022country.to_csv('ti2022country.csv')"
   ]
  },
  {
   "cell_type": "code",
   "execution_count": null,
   "id": "74b9c47e-ac4c-4cda-b0bc-0fb9a1628a39",
   "metadata": {},
   "outputs": [],
   "source": [
    "url12 = \"https://liquipedia.net/dota2/The_International/2023\"\n",
    " \n",
    "ti2023 = requests.get(url12)"
   ]
  },
  {
   "cell_type": "code",
   "execution_count": null,
   "id": "92cd41fe-6131-4d9e-9cc8-cdb092c408f8",
   "metadata": {},
   "outputs": [],
   "source": [
    "ti2023.status_code"
   ]
  },
  {
   "cell_type": "code",
   "execution_count": null,
   "id": "08c80e94-d606-45a1-9772-7dcb6625c2e6",
   "metadata": {},
   "outputs": [],
   "source": [
    "tables2023 = pd.read_html(url12)"
   ]
  },
  {
   "cell_type": "code",
   "execution_count": null,
   "id": "483537f4-513e-488b-848b-a352fc19c1c7",
   "metadata": {},
   "outputs": [],
   "source": [
    "tables2023"
   ]
  },
  {
   "cell_type": "code",
   "execution_count": null,
   "id": "d39f9e8b-c978-42a1-b8a5-36ce40062b58",
   "metadata": {},
   "outputs": [],
   "source": [
    "len(tables2023)"
   ]
  },
  {
   "cell_type": "code",
   "execution_count": null,
   "id": "8f33f5ea-9767-46a3-a31e-28ca35c28dfa",
   "metadata": {},
   "outputs": [],
   "source": [
    "tables2023[101]"
   ]
  },
  {
   "cell_type": "code",
   "execution_count": null,
   "id": "af36a4cf-58ed-4b41-a7dc-491bf0ac2952",
   "metadata": {},
   "outputs": [],
   "source": [
    "ti2023country = tables2023[101]"
   ]
  },
  {
   "cell_type": "code",
   "execution_count": null,
   "id": "d5e2cf45-4d5e-49a6-89ff-9bb273793fed",
   "metadata": {},
   "outputs": [],
   "source": [
    "ti2023country"
   ]
  },
  {
   "cell_type": "code",
   "execution_count": null,
   "id": "bdb6296b-e422-455f-b574-dbb00299776b",
   "metadata": {},
   "outputs": [],
   "source": [
    "ti2023country.to_csv('ti2023country.csv')"
   ]
  },
  {
   "cell_type": "code",
   "execution_count": null,
   "id": "58055a85-966b-44fe-8ea7-0235fa818e45",
   "metadata": {},
   "outputs": [],
   "source": [
    "url13 = \"https://liquipedia.net/dota2/The_International/2024\"\n",
    " \n",
    "ti2024 = requests.get(url13)"
   ]
  },
  {
   "cell_type": "code",
   "execution_count": null,
   "id": "55a90449-50a0-45d9-a6b2-7d04d08dceca",
   "metadata": {},
   "outputs": [],
   "source": [
    "ti2024.status_code"
   ]
  },
  {
   "cell_type": "code",
   "execution_count": null,
   "id": "6edd37be-62c5-45ca-b107-273658206a96",
   "metadata": {},
   "outputs": [],
   "source": [
    "tables2024 = pd.read_html(url13)"
   ]
  },
  {
   "cell_type": "code",
   "execution_count": null,
   "id": "71963698-972f-4ddf-859c-fd0878e29e5f",
   "metadata": {},
   "outputs": [],
   "source": [
    "tables2024"
   ]
  },
  {
   "cell_type": "code",
   "execution_count": null,
   "id": "2c4149d6-17d0-4d19-8ff1-1e5b5d69bccc",
   "metadata": {},
   "outputs": [],
   "source": [
    "len(tables2024)"
   ]
  },
  {
   "cell_type": "code",
   "execution_count": null,
   "id": "939a76a1-b588-4751-a057-e8092ef90725",
   "metadata": {},
   "outputs": [],
   "source": [
    "tables2024[90]"
   ]
  },
  {
   "cell_type": "code",
   "execution_count": null,
   "id": "6e3093cd-3107-4cbb-a49f-d28bb4de4b33",
   "metadata": {},
   "outputs": [],
   "source": [
    "ti2024country = tables2024[90]"
   ]
  },
  {
   "cell_type": "code",
   "execution_count": null,
   "id": "5f181dc7-ceef-4319-b562-73bd0a305a64",
   "metadata": {},
   "outputs": [],
   "source": [
    "ti2024country"
   ]
  },
  {
   "cell_type": "code",
   "execution_count": null,
   "id": "7e6d9951-99c9-4c06-b403-f0e1df9fdc08",
   "metadata": {},
   "outputs": [],
   "source": [
    "ti2024country.to_csv('ti2024country.csv')"
   ]
  },
  {
   "cell_type": "code",
   "execution_count": null,
   "id": "29c48491-9ba5-4e96-9973-9c7d1c26ec71",
   "metadata": {},
   "outputs": [],
   "source": []
  }
 ],
 "metadata": {
  "kernelspec": {
   "display_name": "Python 3 (ipykernel)",
   "language": "python",
   "name": "python3"
  },
  "language_info": {
   "codemirror_mode": {
    "name": "ipython",
    "version": 3
   },
   "file_extension": ".py",
   "mimetype": "text/x-python",
   "name": "python",
   "nbconvert_exporter": "python",
   "pygments_lexer": "ipython3",
   "version": "3.12.4"
  }
 },
 "nbformat": 4,
 "nbformat_minor": 5
}
