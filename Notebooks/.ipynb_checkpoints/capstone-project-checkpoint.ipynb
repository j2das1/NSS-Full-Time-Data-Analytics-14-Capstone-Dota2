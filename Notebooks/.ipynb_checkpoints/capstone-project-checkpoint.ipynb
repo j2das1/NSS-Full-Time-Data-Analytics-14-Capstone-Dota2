{
 "cells": [
  {
   "cell_type": "code",
   "execution_count": null,
   "id": "a0612e52-43b4-434c-b857-fe81e5ec08ad",
   "metadata": {},
   "outputs": [],
   "source": [
    "import pandas as pd"
   ]
  },
  {
   "cell_type": "code",
   "execution_count": null,
   "id": "f42d7778-8513-48a4-9eac-93cba1ed65d2",
   "metadata": {},
   "outputs": [],
   "source": [
    "import numpy as np"
   ]
  },
  {
   "cell_type": "code",
   "execution_count": null,
   "id": "d8273677-f5b5-457d-94d9-7c9e1ae58b3a",
   "metadata": {},
   "outputs": [],
   "source": [
    "import matplotlib.pyplot as plt"
   ]
  },
  {
   "cell_type": "code",
   "execution_count": null,
   "id": "309d2830-171b-4917-84cd-d8a6298971ee",
   "metadata": {},
   "outputs": [],
   "source": [
    "import seaborn as sns"
   ]
  },
  {
   "cell_type": "code",
   "execution_count": null,
   "id": "f293681f-6f6a-4b20-9b50-bbaf73f82f09",
   "metadata": {},
   "outputs": [],
   "source": [
    "import requests"
   ]
  },
  {
   "cell_type": "code",
   "execution_count": null,
   "id": "e0be3a1b-3f80-4534-88ee-0e05a49cd3d0",
   "metadata": {},
   "outputs": [],
   "source": [
    "tiwinners['Prize pool'] = tiwinners['Prize pool'].astype('int64')"
   ]
  },
  {
   "cell_type": "code",
   "execution_count": null,
   "id": "4fda7574-0cfe-4de3-b457-4b1a59df4386",
   "metadata": {},
   "outputs": [],
   "source": [
    "tiwinners"
   ]
  },
  {
   "cell_type": "code",
   "execution_count": null,
   "id": "68345eb1-5caa-40c5-ad36-d5b68ddf914c",
   "metadata": {},
   "outputs": [],
   "source": [
    "\n",
    "tiwinners.plot.bar(x='Year', y='Prize pool', color='red',edgecolor='black', rot=0, legend=False)\n",
    "sns.set_theme(font_scale=1.25)\n",
    "ylabels=tiwinners['Prize pool']\n",
    "plt.plot(ylabels, marker = 'o', markerfacecolor='gold',color='black', markeredgecolor='black', label='Year')\n",
    "plt.ticklabel_format(axis='y',style='plain')\n",
    "plt.title(\"Total Prize Pool per Tournament\",fontsize=14)\n",
    "plt.xlabel(\"Tournament Year\", fontsize=14)\n",
    "plt.ylabel(\"Prize Money\", fontsize=14)\n",
    "\n",
    "plt.xticks(rotation=65)\n",
    "plt.show()"
   ]
  },
  {
   "cell_type": "code",
   "execution_count": null,
   "id": "a2154904-694b-474c-bc97-47d76bba5b0b",
   "metadata": {},
   "outputs": [],
   "source": [
    "ti2011country = pd.read_csv(r'C:\\Users\\J2das\\Documents\\NSS\\PYTHON\\Projects\\NSS-Full-Time-Data-Analytics-14-Capstone-Dota2\\data\\ti2011country(cleaned).csv')"
   ]
  },
  {
   "cell_type": "code",
   "execution_count": null,
   "id": "b4f6be04-49aa-4a15-826a-8210256362e8",
   "metadata": {},
   "outputs": [],
   "source": [
    "ti2011count = ti2011country[['Country or Region','Representation']]"
   ]
  },
  {
   "cell_type": "code",
   "execution_count": null,
   "id": "688b4e25-b93f-44ba-ba3d-8db85b0934bf",
   "metadata": {},
   "outputs": [],
   "source": [
    "ti2011count = ti2011count.rename(columns ={'Country or Region':'Country 2011','Representation':'2011'})"
   ]
  },
  {
   "cell_type": "code",
   "execution_count": null,
   "id": "eb653eb5-9b21-4f48-9797-c46f3b5905f5",
   "metadata": {},
   "outputs": [],
   "source": [
    "ti2011count"
   ]
  },
  {
   "cell_type": "code",
   "execution_count": null,
   "id": "965e2d32-0cd3-4d0d-a60e-dec7e19c4782",
   "metadata": {},
   "outputs": [],
   "source": [
    "ti2012country = pd.read_csv(r'C:\\Users\\J2das\\Documents\\NSS\\PYTHON\\Projects\\NSS-Full-Time-Data-Analytics-14-Capstone-Dota2\\data\\ti2012country(cleaned).csv')"
   ]
  },
  {
   "cell_type": "code",
   "execution_count": null,
   "id": "f35f7b3a-0cc9-4f8f-853c-30eaead91979",
   "metadata": {},
   "outputs": [],
   "source": [
    "ti2012count = ti2012country[['Country or Region','Representation']]"
   ]
  },
  {
   "cell_type": "code",
   "execution_count": null,
   "id": "51afd312-e6a6-4393-b0ef-1a895482482e",
   "metadata": {},
   "outputs": [],
   "source": []
  },
  {
   "cell_type": "code",
   "execution_count": null,
   "id": "59c38ca7-96fe-42d1-8c2e-eba7831d7ff5",
   "metadata": {},
   "outputs": [],
   "source": [
    "ti2013country = pd.read_csv(r'C:\\Users\\J2das\\Documents\\NSS\\PYTHON\\Projects\\NSS-Full-Time-Data-Analytics-14-Capstone-Dota2\\data\\ti2013country(cleaned).csv')"
   ]
  },
  {
   "cell_type": "code",
   "execution_count": null,
   "id": "36447557-354a-42f3-804c-d4278e04857a",
   "metadata": {},
   "outputs": [],
   "source": [
    "ti2013count = ti2013country[['Country or Region','Representation']]"
   ]
  },
  {
   "cell_type": "code",
   "execution_count": null,
   "id": "a55650c6-d723-49e7-af2d-00273773e6fc",
   "metadata": {},
   "outputs": [],
   "source": [
    "ti2014country = pd.read_csv(r'C:\\Users\\J2das\\Documents\\NSS\\PYTHON\\Projects\\NSS-Full-Time-Data-Analytics-14-Capstone-Dota2\\data\\ti2014country(cleaned).csv')"
   ]
  },
  {
   "cell_type": "code",
   "execution_count": null,
   "id": "7f4e8353-a942-4647-9fa1-f61e41c808ea",
   "metadata": {},
   "outputs": [],
   "source": [
    "ti2014count = ti2014country[['Country or Region','Representation']]"
   ]
  },
  {
   "cell_type": "code",
   "execution_count": null,
   "id": "4f7024ce-fdcb-46d0-8975-2929db0799cb",
   "metadata": {},
   "outputs": [],
   "source": [
    "ti2015country = pd.read_csv(r'C:\\Users\\J2das\\Documents\\NSS\\PYTHON\\Projects\\NSS-Full-Time-Data-Analytics-14-Capstone-Dota2\\data\\ti2015country(cleaned).csv')"
   ]
  },
  {
   "cell_type": "code",
   "execution_count": null,
   "id": "3f9fec44-5da1-4a55-9d38-0d95c40de4d4",
   "metadata": {},
   "outputs": [],
   "source": [
    "ti2015count = ti2015country[['Country or Region','Representation']]"
   ]
  },
  {
   "cell_type": "code",
   "execution_count": null,
   "id": "870f87b4-17f5-4d3c-9a9b-74485aeec905",
   "metadata": {},
   "outputs": [],
   "source": [
    "ti2016country = pd.read_csv(r'C:\\Users\\J2das\\Documents\\NSS\\PYTHON\\Projects\\NSS-Full-Time-Data-Analytics-14-Capstone-Dota2\\data\\ti2016country(cleaned).csv')"
   ]
  },
  {
   "cell_type": "code",
   "execution_count": null,
   "id": "b41744ab-c4fc-49cf-b8b4-86c2a9352f02",
   "metadata": {},
   "outputs": [],
   "source": [
    "ti2016count = ti2016country[['Country or Region','Representation']]"
   ]
  },
  {
   "cell_type": "code",
   "execution_count": null,
   "id": "1ac6e432-d9bf-4809-86a0-63fafefa602b",
   "metadata": {},
   "outputs": [],
   "source": [
    "ti2017country = pd.read_csv(r'C:\\Users\\J2das\\Documents\\NSS\\PYTHON\\Projects\\NSS-Full-Time-Data-Analytics-14-Capstone-Dota2\\data\\ti2017country(cleaned).csv')"
   ]
  },
  {
   "cell_type": "code",
   "execution_count": null,
   "id": "b8d09de8-4f1f-4dbe-8045-0081d50c23e7",
   "metadata": {},
   "outputs": [],
   "source": [
    "ti2017count = ti2017country[['Country or Region','Representation']]"
   ]
  },
  {
   "cell_type": "code",
   "execution_count": null,
   "id": "6e1ee414-9459-4421-b4d7-5fa15505f29c",
   "metadata": {},
   "outputs": [],
   "source": [
    "ti2018country = pd.read_csv(r'C:\\Users\\J2das\\Documents\\NSS\\PYTHON\\Projects\\NSS-Full-Time-Data-Analytics-14-Capstone-Dota2\\data\\ti2018country(cleaned).csv')"
   ]
  },
  {
   "cell_type": "code",
   "execution_count": null,
   "id": "75f14f28-5b6a-4463-8eda-36b62f39e73a",
   "metadata": {},
   "outputs": [],
   "source": [
    "ti2018count = ti2018country[['Country or Region','Representation']]"
   ]
  },
  {
   "cell_type": "code",
   "execution_count": null,
   "id": "c8916805-1923-4596-a8d3-b458ad8729cc",
   "metadata": {},
   "outputs": [],
   "source": [
    "ti2019country = pd.read_csv(r'C:\\Users\\J2das\\Documents\\NSS\\PYTHON\\Projects\\NSS-Full-Time-Data-Analytics-14-Capstone-Dota2\\data\\ti2019country(cleaned).csv')"
   ]
  },
  {
   "cell_type": "code",
   "execution_count": null,
   "id": "9cfcfbc7-6945-4289-af7a-af73df8862d0",
   "metadata": {},
   "outputs": [],
   "source": [
    "ti2019count = ti2019country[['Country or Region','Representation']]"
   ]
  },
  {
   "cell_type": "code",
   "execution_count": null,
   "id": "63d686c8-669b-462c-88d6-bff02dfb2d80",
   "metadata": {},
   "outputs": [],
   "source": [
    "ti2021country = pd.read_csv(r'C:\\Users\\J2das\\Documents\\NSS\\PYTHON\\Projects\\NSS-Full-Time-Data-Analytics-14-Capstone-Dota2\\data\\ti2021country(cleaned).csv')"
   ]
  },
  {
   "cell_type": "code",
   "execution_count": null,
   "id": "4b8eb9ef-10b7-4061-b54b-1a3c979fc4d1",
   "metadata": {},
   "outputs": [],
   "source": [
    "ti2021count = ti2021country[['Country or Region','Representation']]"
   ]
  },
  {
   "cell_type": "code",
   "execution_count": null,
   "id": "14d2f30b-ee3a-49e5-a1ec-c40041448f96",
   "metadata": {},
   "outputs": [],
   "source": [
    "ti2022country = pd.read_csv(r'C:\\Users\\J2das\\Documents\\NSS\\PYTHON\\Projects\\NSS-Full-Time-Data-Analytics-14-Capstone-Dota2\\data\\ti2022country(cleaned).csv')"
   ]
  },
  {
   "cell_type": "code",
   "execution_count": null,
   "id": "7021e51d-7040-4ec6-aac5-8d222aa0030e",
   "metadata": {},
   "outputs": [],
   "source": [
    "ti2022count = ti2022country[['Country or Region','Representation']]"
   ]
  },
  {
   "cell_type": "code",
   "execution_count": null,
   "id": "15e7c6fc-bb90-4be9-a37b-e03cd9222414",
   "metadata": {},
   "outputs": [],
   "source": [
    "ti2023country = pd.read_csv(r'C:\\Users\\J2das\\Documents\\NSS\\PYTHON\\Projects\\NSS-Full-Time-Data-Analytics-14-Capstone-Dota2\\data\\ti2023country(cleaned).csv')"
   ]
  },
  {
   "cell_type": "code",
   "execution_count": null,
   "id": "2357de77-6a85-41b8-8f4b-c240afb34813",
   "metadata": {},
   "outputs": [],
   "source": [
    "ti2023count = ti2023country[['Country or Region','Representation']]"
   ]
  },
  {
   "cell_type": "code",
   "execution_count": null,
   "id": "a01f7bc5-b015-4dd7-aece-c303a240a5fa",
   "metadata": {},
   "outputs": [],
   "source": [
    "ti2024country = pd.read_csv(r'C:\\Users\\J2das\\Documents\\NSS\\PYTHON\\Projects\\NSS-Full-Time-Data-Analytics-14-Capstone-Dota2\\data\\ti2024country(cleaned).csv')"
   ]
  },
  {
   "cell_type": "code",
   "execution_count": null,
   "id": "b367282a-bc7f-4ef6-8ab0-9ff2887a94b3",
   "metadata": {},
   "outputs": [],
   "source": [
    "ti2024count = ti2024country[['Country or Region','Representation']]"
   ]
  },
  {
   "cell_type": "code",
   "execution_count": null,
   "id": "2cc6017c-8e72-4cd9-ae47-56916e617027",
   "metadata": {},
   "outputs": [],
   "source": [
    "ti2024count"
   ]
  },
  {
   "cell_type": "code",
   "execution_count": null,
   "id": "75f4d0bc-cce4-4164-9ab2-130c4b325260",
   "metadata": {},
   "outputs": [],
   "source": [
    "test1 = pd.concat([ti2011count, ti2012count,ti2013count,ti2014count,ti2015count], axis=\"columns\")"
   ]
  },
  {
   "cell_type": "code",
   "execution_count": null,
   "id": "5490e877-fe51-46e5-8e27-81d9bf2a4aed",
   "metadata": {},
   "outputs": [],
   "source": [
    "test1"
   ]
  },
  {
   "cell_type": "code",
   "execution_count": null,
   "id": "2c22fea3-086d-4454-a3eb-9a2c820dfd1c",
   "metadata": {},
   "outputs": [],
   "source": [
    "test2.sort_values(by = 'Country or Region')"
   ]
  },
  {
   "cell_type": "code",
   "execution_count": null,
   "id": "ee688396-c378-41a2-8dc2-2a6a7dd25e8f",
   "metadata": {},
   "outputs": [],
   "source": [
    "joined_test = ti2011count.join(ti2012count, how='cross')"
   ]
  },
  {
   "cell_type": "code",
   "execution_count": null,
   "id": "dd103390-8919-45f5-b6a2-bd22853a8068",
   "metadata": {},
   "outputs": [],
   "source": []
  }
 ],
 "metadata": {
  "kernelspec": {
   "display_name": "Python 3 (ipykernel)",
   "language": "python",
   "name": "python3"
  },
  "language_info": {
   "codemirror_mode": {
    "name": "ipython",
    "version": 3
   },
   "file_extension": ".py",
   "mimetype": "text/x-python",
   "name": "python",
   "nbconvert_exporter": "python",
   "pygments_lexer": "ipython3",
   "version": "3.12.4"
  }
 },
 "nbformat": 4,
 "nbformat_minor": 5
}
