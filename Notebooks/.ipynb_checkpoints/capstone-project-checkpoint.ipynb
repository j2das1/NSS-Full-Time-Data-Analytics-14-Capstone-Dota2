{
 "cells": [
  {
   "cell_type": "code",
   "execution_count": null,
   "id": "a0612e52-43b4-434c-b857-fe81e5ec08ad",
   "metadata": {},
   "outputs": [],
   "source": [
    "import pandas as pd"
   ]
  },
  {
   "cell_type": "code",
   "execution_count": null,
   "id": "f42d7778-8513-48a4-9eac-93cba1ed65d2",
   "metadata": {},
   "outputs": [],
   "source": [
    "import numpy as np"
   ]
  },
  {
   "cell_type": "code",
   "execution_count": null,
   "id": "d8273677-f5b5-457d-94d9-7c9e1ae58b3a",
   "metadata": {},
   "outputs": [],
   "source": [
    "import matplotlib.pyplot as plt\n",
    "from matplotlib.lines import Line2D\n",
    "import matplotlib.patches as mpatches"
   ]
  },
  {
   "cell_type": "code",
   "execution_count": null,
   "id": "309d2830-171b-4917-84cd-d8a6298971ee",
   "metadata": {},
   "outputs": [],
   "source": [
    "import seaborn as sns"
   ]
  },
  {
   "cell_type": "code",
   "execution_count": null,
   "id": "f293681f-6f6a-4b20-9b50-bbaf73f82f09",
   "metadata": {},
   "outputs": [],
   "source": [
    "import requests"
   ]
  },
  {
   "cell_type": "markdown",
   "id": "389fcb1a-2d87-445d-893e-be745e0e7ca6",
   "metadata": {},
   "source": [
    "\n",
    "tiwinners.plot.bar(x='Year', y='Prize pool', color='red',edgecolor='black', rot=0, legend=False)\n",
    "sns.set_theme(font_scale=1.25)\n",
    "ylabels=tiwinners['Prize pool']\n",
    "plt.plot(ylabels, marker = 'o', markerfacecolor='gold',color='black', markeredgecolor='black', label='Year')\n",
    "plt.ticklabel_format(axis='y',style='plain')\n",
    "plt.title(\"Total Prize Pool per Tournament\",fontsize=14)\n",
    "plt.xlabel(\"Tournament Year\", fontsize=14)\n",
    "plt.ylabel(\"Prize Money\", fontsize=14)\n",
    "\n",
    "plt.xticks(rotation=65)\n",
    "plt.show()"
   ]
  },
  {
   "cell_type": "code",
   "execution_count": null,
   "id": "a2154904-694b-474c-bc97-47d76bba5b0b",
   "metadata": {},
   "outputs": [],
   "source": [
    "ti2011country = pd.read_csv(r'C:\\Users\\J2das\\Documents\\NSS\\PYTHON\\Projects\\NSS-Full-Time-Data-Analytics-14-Capstone-Dota2\\data\\ti2011country(cleaned).csv')"
   ]
  },
  {
   "cell_type": "code",
   "execution_count": null,
   "id": "b4f6be04-49aa-4a15-826a-8210256362e8",
   "metadata": {},
   "outputs": [],
   "source": [
    "ti2011count = ti2011country[['Country or Region','Representation']]"
   ]
  },
  {
   "cell_type": "code",
   "execution_count": null,
   "id": "688b4e25-b93f-44ba-ba3d-8db85b0934bf",
   "metadata": {},
   "outputs": [],
   "source": [
    "ti2011count = ti2011count.rename(columns ={'Country or Region':'Country 2011','Representation':'2011'})"
   ]
  },
  {
   "cell_type": "code",
   "execution_count": null,
   "id": "eb653eb5-9b21-4f48-9797-c46f3b5905f5",
   "metadata": {},
   "outputs": [],
   "source": [
    "ti2011count"
   ]
  },
  {
   "cell_type": "code",
   "execution_count": null,
   "id": "965e2d32-0cd3-4d0d-a60e-dec7e19c4782",
   "metadata": {},
   "outputs": [],
   "source": [
    "ti2012country = pd.read_csv(r'C:\\Users\\J2das\\Documents\\NSS\\PYTHON\\Projects\\NSS-Full-Time-Data-Analytics-14-Capstone-Dota2\\data\\ti2012country(cleaned).csv')"
   ]
  },
  {
   "cell_type": "code",
   "execution_count": null,
   "id": "f35f7b3a-0cc9-4f8f-853c-30eaead91979",
   "metadata": {},
   "outputs": [],
   "source": [
    "ti2012count = ti2012country[['Country or Region','Representation']]"
   ]
  },
  {
   "cell_type": "code",
   "execution_count": null,
   "id": "51afd312-e6a6-4393-b0ef-1a895482482e",
   "metadata": {},
   "outputs": [],
   "source": [
    "ti2012count = ti2012count.rename(columns ={'Country or Region':'Country 2012','Representation':'2012'})"
   ]
  },
  {
   "cell_type": "code",
   "execution_count": null,
   "id": "4cb04ac9-caff-4d97-a480-f4e6bbdeb00e",
   "metadata": {},
   "outputs": [],
   "source": [
    "ti2012count"
   ]
  },
  {
   "cell_type": "code",
   "execution_count": null,
   "id": "59c38ca7-96fe-42d1-8c2e-eba7831d7ff5",
   "metadata": {},
   "outputs": [],
   "source": [
    "ti2013country = pd.read_csv(r'C:\\Users\\J2das\\Documents\\NSS\\PYTHON\\Projects\\NSS-Full-Time-Data-Analytics-14-Capstone-Dota2\\data\\ti2013country(cleaned).csv')"
   ]
  },
  {
   "cell_type": "code",
   "execution_count": null,
   "id": "36447557-354a-42f3-804c-d4278e04857a",
   "metadata": {},
   "outputs": [],
   "source": [
    "ti2013count = ti2013country[['Country or Region','Representation']]"
   ]
  },
  {
   "cell_type": "code",
   "execution_count": null,
   "id": "3add2fe5-b37f-4cec-bf30-f40b40efc04b",
   "metadata": {},
   "outputs": [],
   "source": [
    "ti2013count = ti2013count.rename(columns ={'Country or Region':'Country 2013','Representation':'2013'})"
   ]
  },
  {
   "cell_type": "code",
   "execution_count": null,
   "id": "a55650c6-d723-49e7-af2d-00273773e6fc",
   "metadata": {},
   "outputs": [],
   "source": [
    "ti2014country = pd.read_csv(r'C:\\Users\\J2das\\Documents\\NSS\\PYTHON\\Projects\\NSS-Full-Time-Data-Analytics-14-Capstone-Dota2\\data\\ti2014country(cleaned).csv')"
   ]
  },
  {
   "cell_type": "code",
   "execution_count": null,
   "id": "7f4e8353-a942-4647-9fa1-f61e41c808ea",
   "metadata": {},
   "outputs": [],
   "source": [
    "ti2014count = ti2014country[['Country or Region','Representation']]"
   ]
  },
  {
   "cell_type": "code",
   "execution_count": null,
   "id": "cdb7048c-8252-4c81-a9de-88d861b3ca89",
   "metadata": {},
   "outputs": [],
   "source": [
    "ti2014count = ti2014count.rename(columns ={'Country or Region':'Country 2014','Representation':'2014'})"
   ]
  },
  {
   "cell_type": "code",
   "execution_count": null,
   "id": "5c25efa0-0dc3-4f76-9271-38b94a8a2c07",
   "metadata": {},
   "outputs": [],
   "source": [
    "ti2014count"
   ]
  },
  {
   "cell_type": "code",
   "execution_count": null,
   "id": "4f7024ce-fdcb-46d0-8975-2929db0799cb",
   "metadata": {},
   "outputs": [],
   "source": [
    "ti2015country = pd.read_csv(r'C:\\Users\\J2das\\Documents\\NSS\\PYTHON\\Projects\\NSS-Full-Time-Data-Analytics-14-Capstone-Dota2\\data\\ti2015country(cleaned).csv')"
   ]
  },
  {
   "cell_type": "code",
   "execution_count": null,
   "id": "3f9fec44-5da1-4a55-9d38-0d95c40de4d4",
   "metadata": {},
   "outputs": [],
   "source": [
    "ti2015count = ti2015country[['Country or Region','Representation']]"
   ]
  },
  {
   "cell_type": "code",
   "execution_count": null,
   "id": "3fb81f95-6147-4e71-8442-1a4a23e52246",
   "metadata": {},
   "outputs": [],
   "source": [
    "ti2015count = ti2015count.rename(columns ={'Country or Region':'Country 2015','Representation':'2015'})"
   ]
  },
  {
   "cell_type": "code",
   "execution_count": null,
   "id": "2814b54d-f6f0-4889-bb63-c0dc98f9d454",
   "metadata": {},
   "outputs": [],
   "source": [
    "ti2015count"
   ]
  },
  {
   "cell_type": "code",
   "execution_count": null,
   "id": "870f87b4-17f5-4d3c-9a9b-74485aeec905",
   "metadata": {},
   "outputs": [],
   "source": [
    "ti2016country = pd.read_csv(r'C:\\Users\\J2das\\Documents\\NSS\\PYTHON\\Projects\\NSS-Full-Time-Data-Analytics-14-Capstone-Dota2\\data\\ti2016country(cleaned).csv')"
   ]
  },
  {
   "cell_type": "code",
   "execution_count": null,
   "id": "b41744ab-c4fc-49cf-b8b4-86c2a9352f02",
   "metadata": {},
   "outputs": [],
   "source": [
    "ti2016count = ti2016country[['Country or Region','Representation']]"
   ]
  },
  {
   "cell_type": "code",
   "execution_count": null,
   "id": "dc534979-d7b7-467f-bf48-8aa55994bceb",
   "metadata": {},
   "outputs": [],
   "source": [
    "ti2016count = ti2016count.rename(columns ={'Country or Region':'Country 2016','Representation':'2016'})"
   ]
  },
  {
   "cell_type": "code",
   "execution_count": null,
   "id": "a62676eb-93b9-43be-9d89-ce8d0d293115",
   "metadata": {},
   "outputs": [],
   "source": [
    "ti2016count"
   ]
  },
  {
   "cell_type": "code",
   "execution_count": null,
   "id": "1ac6e432-d9bf-4809-86a0-63fafefa602b",
   "metadata": {},
   "outputs": [],
   "source": [
    "ti2017country = pd.read_csv(r'C:\\Users\\J2das\\Documents\\NSS\\PYTHON\\Projects\\NSS-Full-Time-Data-Analytics-14-Capstone-Dota2\\data\\ti2017country(cleaned).csv')"
   ]
  },
  {
   "cell_type": "code",
   "execution_count": null,
   "id": "b8d09de8-4f1f-4dbe-8045-0081d50c23e7",
   "metadata": {},
   "outputs": [],
   "source": [
    "ti2017count = ti2017country[['Country or Region','Representation']]"
   ]
  },
  {
   "cell_type": "code",
   "execution_count": null,
   "id": "b5ee39d8-1dcb-460e-8746-ae1255deb903",
   "metadata": {},
   "outputs": [],
   "source": [
    "ti2017count = ti2017count.rename(columns ={'Country or Region':'Country 2017','Representation':'2017'})"
   ]
  },
  {
   "cell_type": "code",
   "execution_count": null,
   "id": "80d066f4-c0e9-4acd-b64e-d6fc0d49abb8",
   "metadata": {},
   "outputs": [],
   "source": [
    "ti2017count"
   ]
  },
  {
   "cell_type": "code",
   "execution_count": null,
   "id": "6e1ee414-9459-4421-b4d7-5fa15505f29c",
   "metadata": {},
   "outputs": [],
   "source": [
    "ti2018country = pd.read_csv(r'C:\\Users\\J2das\\Documents\\NSS\\PYTHON\\Projects\\NSS-Full-Time-Data-Analytics-14-Capstone-Dota2\\data\\ti2018country(cleaned).csv')"
   ]
  },
  {
   "cell_type": "code",
   "execution_count": null,
   "id": "75f14f28-5b6a-4463-8eda-36b62f39e73a",
   "metadata": {},
   "outputs": [],
   "source": [
    "ti2018count = ti2018country[['Country or Region','Representation']]"
   ]
  },
  {
   "cell_type": "code",
   "execution_count": null,
   "id": "c451662e-a695-4a27-95e1-298deb8d0db6",
   "metadata": {},
   "outputs": [],
   "source": [
    "ti2018count = ti2018count.rename(columns ={'Country or Region':'Country 2018','Representation':'2018'})"
   ]
  },
  {
   "cell_type": "code",
   "execution_count": null,
   "id": "c8916805-1923-4596-a8d3-b458ad8729cc",
   "metadata": {},
   "outputs": [],
   "source": [
    "ti2019country = pd.read_csv(r'C:\\Users\\J2das\\Documents\\NSS\\PYTHON\\Projects\\NSS-Full-Time-Data-Analytics-14-Capstone-Dota2\\data\\ti2019country(cleaned).csv')"
   ]
  },
  {
   "cell_type": "code",
   "execution_count": null,
   "id": "9cfcfbc7-6945-4289-af7a-af73df8862d0",
   "metadata": {},
   "outputs": [],
   "source": [
    "ti2019count = ti2019country[['Country or Region','Representation']]"
   ]
  },
  {
   "cell_type": "code",
   "execution_count": null,
   "id": "341c5e62-c4e8-47f0-b43d-e93a7fe71307",
   "metadata": {},
   "outputs": [],
   "source": [
    "ti2019count = ti2019count.rename(columns ={'Country or Region':'Country 2019','Representation':'2019'})"
   ]
  },
  {
   "cell_type": "code",
   "execution_count": null,
   "id": "c55abaec-90fb-46b5-8387-81311a4da198",
   "metadata": {},
   "outputs": [],
   "source": [
    "ti2019count"
   ]
  },
  {
   "cell_type": "code",
   "execution_count": null,
   "id": "63d686c8-669b-462c-88d6-bff02dfb2d80",
   "metadata": {},
   "outputs": [],
   "source": [
    "ti2021country = pd.read_csv(r'C:\\Users\\J2das\\Documents\\NSS\\PYTHON\\Projects\\NSS-Full-Time-Data-Analytics-14-Capstone-Dota2\\data\\ti2021country(cleaned).csv')"
   ]
  },
  {
   "cell_type": "code",
   "execution_count": null,
   "id": "4b8eb9ef-10b7-4061-b54b-1a3c979fc4d1",
   "metadata": {},
   "outputs": [],
   "source": [
    "ti2021count = ti2021country[['Country or Region','Representation']]"
   ]
  },
  {
   "cell_type": "code",
   "execution_count": null,
   "id": "6c4d9552-7328-46cb-9bbc-6bb7a6b48e70",
   "metadata": {},
   "outputs": [],
   "source": [
    "ti2021count = ti2021count.rename(columns ={'Country or Region':'Country 2021','Representation':'2021'})"
   ]
  },
  {
   "cell_type": "code",
   "execution_count": null,
   "id": "961586c1-10c8-4e77-9bb0-605e134d8b40",
   "metadata": {},
   "outputs": [],
   "source": [
    "ti2021count"
   ]
  },
  {
   "cell_type": "code",
   "execution_count": null,
   "id": "14d2f30b-ee3a-49e5-a1ec-c40041448f96",
   "metadata": {},
   "outputs": [],
   "source": [
    "ti2022country = pd.read_csv(r'C:\\Users\\J2das\\Documents\\NSS\\PYTHON\\Projects\\NSS-Full-Time-Data-Analytics-14-Capstone-Dota2\\data\\ti2022country(cleaned).csv')"
   ]
  },
  {
   "cell_type": "code",
   "execution_count": null,
   "id": "70245a10-3cb6-42f3-838e-e2c9f2c7516f",
   "metadata": {},
   "outputs": [],
   "source": [
    "ti2022count = ti2022country[['Country or Region','Representation']]"
   ]
  },
  {
   "cell_type": "code",
   "execution_count": null,
   "id": "d337550c-fe23-44f2-b57b-5c7cd508e15b",
   "metadata": {},
   "outputs": [],
   "source": [
    "ti2022count = ti2022count.rename(columns ={'Country or Region':'Country 2022','Representation':'2022'})"
   ]
  },
  {
   "cell_type": "code",
   "execution_count": null,
   "id": "04ef75dc-e946-4cd2-98ef-d0e550cb2516",
   "metadata": {},
   "outputs": [],
   "source": [
    "ti2022count"
   ]
  },
  {
   "cell_type": "code",
   "execution_count": null,
   "id": "15e7c6fc-bb90-4be9-a37b-e03cd9222414",
   "metadata": {},
   "outputs": [],
   "source": [
    "ti2023country = pd.read_csv(r'C:\\Users\\J2das\\Documents\\NSS\\PYTHON\\Projects\\NSS-Full-Time-Data-Analytics-14-Capstone-Dota2\\data\\ti2023country(cleaned).csv')"
   ]
  },
  {
   "cell_type": "code",
   "execution_count": null,
   "id": "2357de77-6a85-41b8-8f4b-c240afb34813",
   "metadata": {},
   "outputs": [],
   "source": [
    "ti2023count = ti2023country[['Country or Region','Representation']]"
   ]
  },
  {
   "cell_type": "code",
   "execution_count": null,
   "id": "599025f1-3777-4a41-b425-97b1a1c821b0",
   "metadata": {},
   "outputs": [],
   "source": [
    "ti2023count = ti2023count.rename(columns ={'Country or Region':'Country 2023','Representation':'2023'})"
   ]
  },
  {
   "cell_type": "code",
   "execution_count": null,
   "id": "d978131a-d4d8-4a96-b5b2-1364ad5b201f",
   "metadata": {},
   "outputs": [],
   "source": [
    "ti2023count"
   ]
  },
  {
   "cell_type": "code",
   "execution_count": null,
   "id": "a01f7bc5-b015-4dd7-aece-c303a240a5fa",
   "metadata": {},
   "outputs": [],
   "source": [
    "ti2024country = pd.read_csv(r'C:\\Users\\J2das\\Documents\\NSS\\PYTHON\\Projects\\NSS-Full-Time-Data-Analytics-14-Capstone-Dota2\\data\\ti2024country(cleaned).csv')"
   ]
  },
  {
   "cell_type": "code",
   "execution_count": null,
   "id": "b367282a-bc7f-4ef6-8ab0-9ff2887a94b3",
   "metadata": {},
   "outputs": [],
   "source": [
    "ti2024count = ti2024country[['Country or Region','Representation']]"
   ]
  },
  {
   "cell_type": "code",
   "execution_count": null,
   "id": "2cc6017c-8e72-4cd9-ae47-56916e617027",
   "metadata": {},
   "outputs": [],
   "source": [
    "ti2024count = ti2024count.rename(columns ={'Country or Region':'Country 2024','Representation':'2024'})"
   ]
  },
  {
   "cell_type": "code",
   "execution_count": null,
   "id": "75f4d0bc-cce4-4164-9ab2-130c4b325260",
   "metadata": {},
   "outputs": [],
   "source": [
    "test1 = pd.concat([ti2011count, ti2012count])"
   ]
  },
  {
   "cell_type": "code",
   "execution_count": null,
   "id": "5490e877-fe51-46e5-8e27-81d9bf2a4aed",
   "metadata": {},
   "outputs": [],
   "source": [
    "test1"
   ]
  },
  {
   "cell_type": "code",
   "execution_count": null,
   "id": "dd103390-8919-45f5-b6a2-bd22853a8068",
   "metadata": {},
   "outputs": [],
   "source": [
    "tiwinners = pd.read_csv(r'C:\\Users\\J2das\\Documents\\NSS\\PYTHON\\Projects\\NSS-Full-Time-Data-Analytics-14-Capstone-Dota2\\data\\tiwinnersandrunnerup(cleaned).csv')"
   ]
  },
  {
   "cell_type": "code",
   "execution_count": null,
   "id": "ac000acf-ad93-4aef-8ad7-7c9e667178a5",
   "metadata": {},
   "outputs": [],
   "source": [
    "tiwinners"
   ]
  },
  {
   "cell_type": "code",
   "execution_count": null,
   "id": "c31775b0-bd7d-4b20-8c45-ab0050246e16",
   "metadata": {},
   "outputs": [],
   "source": [
    "\n",
    "tiwinners.plot.bar(x='Year', y='Prize pool', color='black',edgecolor='red', rot=0, legend=False) \n",
    "sns.set_theme(font_scale=1.25) \n",
    "ylabels=tiwinners['Prize pool'] \n",
    "plt.plot(ylabels, marker = 'o', markerfacecolor='gold',color='black', markeredgecolor='black', label='Year') \n",
    "plt.ticklabel_format(axis='y',style='plain') \n",
    "plt.title(\"Total Prize Pool per Tournament\",fontsize=14,color='red')\n",
    "plt.xlabel(\"Tournament Year\", fontsize=14,color='red')\n",
    "plt.ylabel(\"Prize Money\", fontsize=14,color='red')\n",
    "plt.xticks(rotation=65)\n",
    "\n",
    "def addlabels(y):\n",
    "    for i in range(len(y)):\n",
    "        plt.text(i,y[i]//2,y[i],fontsize=10,color='red',rotation=75)   \n",
    "y=tiwinners['Prize pool']\n",
    "addlabels(y,)        \n",
    "plt.show()"
   ]
  },
  {
   "cell_type": "code",
   "execution_count": null,
   "id": "488932cc-1fc8-4cd3-8c3d-93259f4c7445",
   "metadata": {},
   "outputs": [],
   "source": [
    "colors=['black', 'red', '#50C878', '#7F00FF','#FFD700','#ED0A3F','#015482','#A4A676','#ae7dab','#D4AF37','#D4AF37','#9B111E','#BE3455','#9ACD32']\n",
    "tiwinners.plot.bar(x='Year', y='Prize pool', color=colors, edgecolor='black', rot=0, legend=False) \n",
    "sns.set_theme(font_scale=1.25)\n",
    "ylabels=tiwinners['Prize pool'] \n",
    "plt.plot(ylabels, marker = 'o', markerfacecolor='gold', color='black',markeredgecolor='black', label='Year',) \n",
    "plt.ticklabel_format(axis='y',style='plain') \n",
    "plt.title(\"Total Prize Pool per Tournament\",fontsize=14,color='red')\n",
    "plt.xlabel(\"Tournament Year\", fontsize=14,color='red')\n",
    "plt.ylabel(\"Prize Money\", fontsize=14,color='red')\n",
    "plt.xticks(rotation=65)\n",
    "ti2011 = mpatches.Patch(label='TI 2011: $1,600,000',color='black')\n",
    "ti2012 = mpatches.Patch(label='TI 2012: $1,600,000',color='red')\n",
    "ti2013 = mpatches.Patch(label='TI 2013: $2,874,380',color='#50C878')\n",
    "ti2014 = mpatches.Patch(label='TI 2014: $10,923,977',color='#7F00FF')\n",
    "ti2015 = mpatches.Patch(label='TI 2015: $18,429,613',color='#FFD700')\n",
    "ti2016 = mpatches.Patch(label='TI 2016: $20,770,460',color='#ED0A3F')\n",
    "ti2017 = mpatches.Patch(label='TI 2017: $24,787,916',color='#015482')\n",
    "ti2018 = mpatches.Patch(label='TI 2018: $25,532,177',color='#A4A676')\n",
    "ti2019 = mpatches.Patch(label='TI 2019: $34,330,068',color='#ae7dab')\n",
    "ti2020 = mpatches.Patch(label='TI 2020: Cancelled Due to Covid-19',color='white')\n",
    "ti2021 = mpatches.Patch(label='TI 2021: $40,018,195',color='#D4AF37')\n",
    "ti2022 = mpatches.Patch(label='TI 2022: $18,930,775',color='#9B111E')\n",
    "ti2023 = mpatches.Patch(label='TI 2023: $3,143,063',color='#BE3455')\n",
    "ti2024 = mpatches.Patch(label='TI 2024: $2,602,164',color='#9ACD32')\n",
    "\n",
    "plt.legend(handles=[ti2011, ti2012,ti2013,ti2014,ti2015,ti2016,ti2017,ti2018,ti2019,ti2020,ti2021,ti2022,ti2023,ti2024],loc='center left',bbox_to_anchor=(1, 0.5))\n",
    "plt.show()"
   ]
  },
  {
   "cell_type": "code",
   "execution_count": null,
   "id": "481e5cbc-ddcd-4eb6-b573-42555e5c96a3",
   "metadata": {},
   "outputs": [],
   "source": [
    "arenacount = tiwinners.value_counts('Venue')"
   ]
  },
  {
   "cell_type": "code",
   "execution_count": null,
   "id": "dcd5d1fc-ee13-4847-8dcf-c0ce1eddb2ba",
   "metadata": {},
   "outputs": [],
   "source": [
    "arenacount"
   ]
  },
  {
   "cell_type": "code",
   "execution_count": null,
   "id": "e30cdf02-17d9-4a97-8f21-b82804b85cd9",
   "metadata": {},
   "outputs": [],
   "source": [
    "arenacount.plot(kind = 'barh',color='black', edgecolor='red')\n",
    "plt.title('The International Venue Locations',color='red')\n",
    "plt.ylabel('Venue',color='red')\n",
    "plt.xlabel('Venue Appearances',color='red')\n",
    "plt.show();"
   ]
  },
  {
   "cell_type": "code",
   "execution_count": null,
   "id": "87c4853a-dec2-4f1f-aa55-4ce61da0c377",
   "metadata": {},
   "outputs": [],
   "source": [
    "tiwinners['Prize pool'].sum()"
   ]
  },
  {
   "cell_type": "code",
   "execution_count": null,
   "id": "0cd71dcb-5489-423a-9b84-2f0c1246f550",
   "metadata": {},
   "outputs": [],
   "source": [
    "tiwinners['Champion'].value_counts()"
   ]
  },
  {
   "cell_type": "code",
   "execution_count": null,
   "id": "6689a784-70a8-4a58-bccc-b344232d74c7",
   "metadata": {},
   "outputs": [],
   "source": [
    "tiwinners['Champion'].value_counts().plot(kind = 'barh',color='black', edgecolor='red')\n",
    "plt.ylabel('Total TI Wins',fontsize=16,color='red')\n",
    "plt.xlabel('Champion Teams',fontsize=16,color='red')\n",
    "plt.title('TI Winners',fontsize=18,color='red')\n",
    " \n",
    "plt.xticks(np.arange(0, 4, 1))\n",
    "plt.show()"
   ]
  },
  {
   "cell_type": "code",
   "execution_count": null,
   "id": "c748f00d-ed8e-447d-9229-2e686572ab1c",
   "metadata": {},
   "outputs": [],
   "source": [
    "tirunnerup = tiwinners['Runner-up'].value_counts()"
   ]
  },
  {
   "cell_type": "code",
   "execution_count": null,
   "id": "fbfc3820-58ba-4637-b74b-c1937516d138",
   "metadata": {},
   "outputs": [],
   "source": [
    "tirunnerup"
   ]
  },
  {
   "cell_type": "code",
   "execution_count": null,
   "id": "43773f61-0ce2-4172-917a-4517a968c307",
   "metadata": {},
   "outputs": [],
   "source": [
    "tirunnerup.plot(kind = 'barh',color='black',edgecolor='red')\n",
    "plt.title('TI Runner Up',color='red')\n",
    "plt.ylabel('Team',color='red')\n",
    "plt.xlabel('Failures for Victory',color='red')\n",
    "plt.xticks(np.arange(0, 4, 1));\n"
   ]
  },
  {
   "cell_type": "code",
   "execution_count": null,
   "id": "891b5be0-6eeb-44c5-a2f9-db4df0ce471c",
   "metadata": {},
   "outputs": [],
   "source": [
    "tiwinners['Teams'].sum()"
   ]
  },
  {
   "cell_type": "code",
   "execution_count": null,
   "id": "b02a5a8a-141b-4cc6-8d9a-ce5bc19f52ea",
   "metadata": {},
   "outputs": [],
   "source": [
    "tiwinners"
   ]
  },
  {
   "cell_type": "markdown",
   "id": "b1ba8e27-9c61-405f-8b03-57b78f51c7f4",
   "metadata": {},
   "source": [
    "**Aeon of Strife is a custom map for StarCraft, created by Gunner_4_ever in 2002. It led in part to the popular Defense of the Ancients map for Warcraft III, which was one of the first true MOBA games and as such the game on which Heroes of the Storm is based.**"
   ]
  },
  {
   "cell_type": "code",
   "execution_count": null,
   "id": "ccd8fdd5-091f-43c2-b59b-9647b10b1a59",
   "metadata": {},
   "outputs": [],
   "source": [
    "totalcountry = pd.read_csv(r'C:\\Users\\J2das\\Documents\\NSS\\PYTHON\\Projects\\NSS-Full-Time-Data-Analytics-14-Capstone-Dota2\\data\\totalbycountry.csv')"
   ]
  },
  {
   "cell_type": "code",
   "execution_count": null,
   "id": "9f24d1f5-0e4d-4b32-8139-d8ef71c5b9f8",
   "metadata": {},
   "outputs": [],
   "source": [
    "totalcountry = totalcountry.replace('-','0')"
   ]
  },
  {
   "cell_type": "code",
   "execution_count": null,
   "id": "8f92d7b0-45a1-4006-8ec5-88b8467dd7d6",
   "metadata": {},
   "outputs": [],
   "source": [
    "nationcount = totalcountry[['Nation/Region','Total Ap.']]"
   ]
  },
  {
   "cell_type": "code",
   "execution_count": null,
   "id": "908d5c87-628c-4926-8031-05e077017058",
   "metadata": {},
   "outputs": [],
   "source": [
    "totalcountry"
   ]
  },
  {
   "cell_type": "code",
   "execution_count": null,
   "id": "3450c4c1-9a62-4bdf-9add-d1e0cd143ef0",
   "metadata": {},
   "outputs": [],
   "source": [
    "playercountbynation = nationcount.rename(columns = {'Nation/Region':'Country','Total Ap.':'Total Players'})"
   ]
  },
  {
   "cell_type": "code",
   "execution_count": null,
   "id": "c739bdcc-9454-4cdd-9cda-215988a352b3",
   "metadata": {},
   "outputs": [],
   "source": []
  },
  {
   "cell_type": "code",
   "execution_count": null,
   "id": "02cc597f-575d-482a-9955-6a3c398d4767",
   "metadata": {},
   "outputs": [],
   "source": [
    "fig, ax = plt.subplots(figsize=(26, 18))\n",
    "plt.rcParams['font.weight'] = 'bold'\n",
    "ax = sns.barplot(x='Country', y='Total Players', data=playercountbynation.head(10), color= 'black',edgecolor = 'red')\n",
    "sns.set_style(\"whitegrid\")\n",
    "sns.set_theme(font_scale=1.75)\n",
    "plt.xlabel('Country',fontsize=26,color='red')\n",
    "plt.ylabel('Player Representation',fontsize=26,color='red')\n",
    "plt.title('Top 10 Countries With International Participation',fontsize=26,color='red')\n",
    "\n",
    "ax.bar_label(ax.containers[0],fontsize=24,color='red')\n",
    "\n",
    "plt.show()"
   ]
  },
  {
   "cell_type": "code",
   "execution_count": null,
   "id": "41fa319e-35d7-4fce-a32e-14a52f93f16d",
   "metadata": {},
   "outputs": [],
   "source": [
    "playercountbynation['Total Players'].sum()"
   ]
  },
  {
   "cell_type": "code",
   "execution_count": null,
   "id": "9e86954f-3667-47c5-979b-f56b5d772e3d",
   "metadata": {},
   "outputs": [],
   "source": [
    "playercountbynation['Country'].value_counts().sum()"
   ]
  },
  {
   "cell_type": "code",
   "execution_count": null,
   "id": "9c75f42e-efbd-4336-ab6c-cef1480a53d5",
   "metadata": {},
   "outputs": [],
   "source": []
  }
 ],
 "metadata": {
  "kernelspec": {
   "display_name": "Python 3 (ipykernel)",
   "language": "python",
   "name": "python3"
  },
  "language_info": {
   "codemirror_mode": {
    "name": "ipython",
    "version": 3
   },
   "file_extension": ".py",
   "mimetype": "text/x-python",
   "name": "python",
   "nbconvert_exporter": "python",
   "pygments_lexer": "ipython3",
   "version": "3.12.4"
  }
 },
 "nbformat": 4,
 "nbformat_minor": 5
}
