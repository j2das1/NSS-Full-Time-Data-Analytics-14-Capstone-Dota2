{
 "cells": [
  {
   "cell_type": "code",
   "execution_count": null,
   "id": "a0612e52-43b4-434c-b857-fe81e5ec08ad",
   "metadata": {},
   "outputs": [],
   "source": [
    "import pandas as pd"
   ]
  },
  {
   "cell_type": "code",
   "execution_count": null,
   "id": "f42d7778-8513-48a4-9eac-93cba1ed65d2",
   "metadata": {},
   "outputs": [],
   "source": [
    "import numpy as np"
   ]
  },
  {
   "cell_type": "code",
   "execution_count": null,
   "id": "d8273677-f5b5-457d-94d9-7c9e1ae58b3a",
   "metadata": {},
   "outputs": [],
   "source": [
    "import matplotlib.pyplot as plt\n",
    "from matplotlib.lines import Line2D\n",
    "import matplotlib.patches as mpatches\n",
    "import matplotlib.ticker as ticker\n",
    "from matplotlib.ticker import StrMethodFormatter\n",
    "import sklearn"
   ]
  },
  {
   "cell_type": "code",
   "execution_count": null,
   "id": "309d2830-171b-4917-84cd-d8a6298971ee",
   "metadata": {},
   "outputs": [],
   "source": [
    "import seaborn as sns"
   ]
  },
  {
   "cell_type": "code",
   "execution_count": null,
   "id": "f293681f-6f6a-4b20-9b50-bbaf73f82f09",
   "metadata": {},
   "outputs": [],
   "source": [
    "import requests"
   ]
  },
  {
   "cell_type": "code",
   "execution_count": null,
   "id": "a2154904-694b-474c-bc97-47d76bba5b0b",
   "metadata": {},
   "outputs": [],
   "source": [
    "ti2011country = pd.read_csv(r'C:\\Users\\J2das\\Documents\\NSS\\PYTHON\\Projects\\NSS-Full-Time-Data-Analytics-14-Capstone-Dota2\\data\\ti2011country(cleaned).csv')"
   ]
  },
  {
   "cell_type": "code",
   "execution_count": null,
   "id": "b4f6be04-49aa-4a15-826a-8210256362e8",
   "metadata": {},
   "outputs": [],
   "source": [
    "ti2011count = ti2011country[['Country or Region','Representation']]"
   ]
  },
  {
   "cell_type": "code",
   "execution_count": null,
   "id": "688b4e25-b93f-44ba-ba3d-8db85b0934bf",
   "metadata": {},
   "outputs": [],
   "source": [
    "ti2011count = ti2011count.rename(columns ={'Country or Region':'Country 2011','Representation':'2011'})"
   ]
  },
  {
   "cell_type": "code",
   "execution_count": null,
   "id": "eb653eb5-9b21-4f48-9797-c46f3b5905f5",
   "metadata": {},
   "outputs": [],
   "source": [
    "ti2011count"
   ]
  },
  {
   "cell_type": "code",
   "execution_count": null,
   "id": "b8e8904a-71fc-40dd-b739-2cb5b9bb53f7",
   "metadata": {},
   "outputs": [],
   "source": [
    "ti2011count.plot(kind='bar', x='Country 2011',y='2011',color='#cdbca5', edgecolor='black',figsize=(18,10))\n",
    "sns.set_theme(style=\"white\", palette=None)\n",
    "def addlabels(y):\n",
    "    for i in range(len(y)):\n",
    "        plt.text(i,y[i],y[i],fontsize=20,color='red',rotation=0, ha='center')   \n",
    "y=ti2011count['2011']\n",
    "addlabels(y)\n",
    "plt.title(\"The International 2011 Country Representation\",fontsize=28,color='#a73a25')\n",
    "plt.xlabel(\"Country\", fontsize=24,color='#a73a25')\n",
    "plt.ylabel(\"Total Participants\", fontsize=24,color='#a73a25')\n",
    "plt.xticks(rotation=70,color='white',fontsize=20)\n",
    "plt.yticks(color='white',fontsize=20)\n",
    "plt.yticks(np.arange(0, 25,5))\n",
    "\n",
    "plt.show()"
   ]
  },
  {
   "cell_type": "code",
   "execution_count": null,
   "id": "965e2d32-0cd3-4d0d-a60e-dec7e19c4782",
   "metadata": {},
   "outputs": [],
   "source": [
    "ti2012country = pd.read_csv(r'C:\\Users\\J2das\\Documents\\NSS\\PYTHON\\Projects\\NSS-Full-Time-Data-Analytics-14-Capstone-Dota2\\data\\ti2012country(cleaned).csv')"
   ]
  },
  {
   "cell_type": "code",
   "execution_count": null,
   "id": "f35f7b3a-0cc9-4f8f-853c-30eaead91979",
   "metadata": {},
   "outputs": [],
   "source": [
    "ti2012count = ti2012country[['Country or Region','Representation']]"
   ]
  },
  {
   "cell_type": "code",
   "execution_count": null,
   "id": "51afd312-e6a6-4393-b0ef-1a895482482e",
   "metadata": {},
   "outputs": [],
   "source": [
    "ti2012count = ti2012count.rename(columns ={'Country or Region':'Country 2012','Representation':'2012'})"
   ]
  },
  {
   "cell_type": "code",
   "execution_count": null,
   "id": "4cb04ac9-caff-4d97-a480-f4e6bbdeb00e",
   "metadata": {},
   "outputs": [],
   "source": [
    "ti2012count"
   ]
  },
  {
   "cell_type": "code",
   "execution_count": null,
   "id": "a67187b0-1e90-4531-b5f3-4dd2cef4785d",
   "metadata": {},
   "outputs": [],
   "source": [
    "ti2012count.plot(kind='bar', x='Country 2012',y='2012',color='#cdbca5', edgecolor='black',figsize=(18,10))\n",
    "sns.set_theme(style=\"white\", palette=None)\n",
    "def addlabels(y):\n",
    "    for i in range(len(y)):\n",
    "        plt.text(i,y[i],y[i],fontsize=20,color='#a73a25',rotation=0, ha='center')   \n",
    "y=ti2012count['2012']\n",
    "addlabels(y)\n",
    "plt.title(\"The International 2012 Country Representation\",fontsize=28,color='#a73a25')\n",
    "plt.xlabel(\"Country\", fontsize=24,color='#a73a25')\n",
    "plt.ylabel(\"Total Participants\", fontsize=24,color='#a73a25')\n",
    "plt.xticks(rotation=70,color='white',fontsize=20)\n",
    "plt.yticks(color='white',fontsize=20)\n",
    "plt.yticks(np.arange(0, 30,5))\n",
    "\n",
    "plt.show()"
   ]
  },
  {
   "cell_type": "code",
   "execution_count": null,
   "id": "59c38ca7-96fe-42d1-8c2e-eba7831d7ff5",
   "metadata": {},
   "outputs": [],
   "source": [
    "ti2013country = pd.read_csv(r'C:\\Users\\J2das\\Documents\\NSS\\PYTHON\\Projects\\NSS-Full-Time-Data-Analytics-14-Capstone-Dota2\\data\\ti2013country(cleaned).csv')"
   ]
  },
  {
   "cell_type": "code",
   "execution_count": null,
   "id": "36447557-354a-42f3-804c-d4278e04857a",
   "metadata": {},
   "outputs": [],
   "source": [
    "ti2013count = ti2013country[['Country or Region','Representation']]"
   ]
  },
  {
   "cell_type": "code",
   "execution_count": null,
   "id": "3add2fe5-b37f-4cec-bf30-f40b40efc04b",
   "metadata": {},
   "outputs": [],
   "source": [
    "ti2013count = ti2013count.rename(columns ={'Country or Region':'Country 2013','Representation':'2013'})"
   ]
  },
  {
   "cell_type": "code",
   "execution_count": null,
   "id": "611ead14-4f38-4a1c-8de4-dedaafaf7e36",
   "metadata": {},
   "outputs": [],
   "source": [
    "ti2013count.plot(kind='bar', x='Country 2013',y='2013',color='#cdbca5', edgecolor='black',figsize=(18,10))\n",
    "sns.set_theme(style=\"white\", palette=None)\n",
    "def addlabels(y):\n",
    "    for i in range(len(y)):\n",
    "        plt.text(i,y[i],y[i],fontsize=20,color='red',rotation=0, ha='center')   \n",
    "y=ti2013count['2013']\n",
    "addlabels(y)\n",
    "plt.title(\"The International 2013 Country Representation\",fontsize=28,color='#a73a25')\n",
    "plt.xlabel(\"Country\", fontsize=24,color='#a73a25')\n",
    "plt.ylabel(\"Total Participants\", fontsize=24,color='#a73a25')\n",
    "plt.xticks(rotation=70,color='white',fontsize=20)\n",
    "plt.yticks(color='white',fontsize=20)\n",
    "plt.yticks(np.arange(0, 30,5))\n",
    "\n",
    "plt.show()"
   ]
  },
  {
   "cell_type": "code",
   "execution_count": null,
   "id": "a55650c6-d723-49e7-af2d-00273773e6fc",
   "metadata": {},
   "outputs": [],
   "source": [
    "ti2014country = pd.read_csv(r'C:\\Users\\J2das\\Documents\\NSS\\PYTHON\\Projects\\NSS-Full-Time-Data-Analytics-14-Capstone-Dota2\\data\\ti2014country(cleaned).csv')"
   ]
  },
  {
   "cell_type": "code",
   "execution_count": null,
   "id": "7f4e8353-a942-4647-9fa1-f61e41c808ea",
   "metadata": {},
   "outputs": [],
   "source": [
    "ti2014count = ti2014country[['Country or Region','Representation']]"
   ]
  },
  {
   "cell_type": "code",
   "execution_count": null,
   "id": "cdb7048c-8252-4c81-a9de-88d861b3ca89",
   "metadata": {},
   "outputs": [],
   "source": [
    "ti2014count = ti2014count.rename(columns ={'Country or Region':'Country 2014','Representation':'2014'})"
   ]
  },
  {
   "cell_type": "code",
   "execution_count": null,
   "id": "5c25efa0-0dc3-4f76-9271-38b94a8a2c07",
   "metadata": {},
   "outputs": [],
   "source": [
    "ti2014count"
   ]
  },
  {
   "cell_type": "code",
   "execution_count": null,
   "id": "6f4a9446-b932-4995-852b-afc03d6dabc3",
   "metadata": {},
   "outputs": [],
   "source": [
    "ti2014count.plot(kind='bar', x='Country 2014',y='2014',color='#cdbca5', edgecolor='black',figsize=(18,10))\n",
    "sns.set_theme(style=\"white\", palette=None)\n",
    "def addlabels(y):\n",
    "    for i in range(len(y)):\n",
    "        plt.text(i,y[i],y[i],fontsize=20,color='red',rotation=0, ha='center')   \n",
    "y=ti2014count['2014']\n",
    "addlabels(y)\n",
    "plt.title(\"The International 2014 Country Representation\",fontsize=28,color='#a73a25')\n",
    "plt.xlabel(\"Country\", fontsize=24,color='#a73a25')\n",
    "plt.ylabel(\"Total Participants\", fontsize=24,color='#a73a25')\n",
    "plt.xticks(rotation=70,color='white',fontsize=20)\n",
    "plt.yticks(color='white',fontsize=20)\n",
    "plt.yticks(np.arange(0, 30,5))\n",
    "\n",
    "plt.show()"
   ]
  },
  {
   "cell_type": "code",
   "execution_count": null,
   "id": "4f7024ce-fdcb-46d0-8975-2929db0799cb",
   "metadata": {},
   "outputs": [],
   "source": [
    "ti2015country = pd.read_csv(r'C:\\Users\\J2das\\Documents\\NSS\\PYTHON\\Projects\\NSS-Full-Time-Data-Analytics-14-Capstone-Dota2\\data\\ti2015country(cleaned).csv')"
   ]
  },
  {
   "cell_type": "code",
   "execution_count": null,
   "id": "3f9fec44-5da1-4a55-9d38-0d95c40de4d4",
   "metadata": {},
   "outputs": [],
   "source": [
    "ti2015count = ti2015country[['Country or Region','Representation']]"
   ]
  },
  {
   "cell_type": "code",
   "execution_count": null,
   "id": "3fb81f95-6147-4e71-8442-1a4a23e52246",
   "metadata": {},
   "outputs": [],
   "source": [
    "ti2015count = ti2015count.rename(columns ={'Country or Region':'Country 2015','Representation':'2015'})"
   ]
  },
  {
   "cell_type": "code",
   "execution_count": null,
   "id": "2814b54d-f6f0-4889-bb63-c0dc98f9d454",
   "metadata": {},
   "outputs": [],
   "source": [
    "ti2015count"
   ]
  },
  {
   "cell_type": "code",
   "execution_count": null,
   "id": "4b1a8977-b50f-4e12-919c-011cff2b526a",
   "metadata": {},
   "outputs": [],
   "source": [
    "ti2015count.plot(kind='bar', x='Country 2015',y='2015',color='#cdbca5', edgecolor='black',figsize=(18,10))\n",
    "sns.set_theme(style=\"white\", palette=None)\n",
    "def addlabels(y):\n",
    "    for i in range(len(y)):\n",
    "        plt.text(i,y[i],y[i],fontsize=20,color='red',rotation=0, ha='center')   \n",
    "y=ti2015count['2015']\n",
    "addlabels(y)\n",
    "plt.title(\"The International 2015 Country Representation\",fontsize=28,color='#a73a25')\n",
    "plt.xlabel(\"Country\", fontsize=24,color='#a73a25')\n",
    "plt.ylabel(\"Total Participants\", fontsize=24,color='#a73a25')\n",
    "plt.xticks(rotation=70,color='white',fontsize=20)\n",
    "plt.yticks(color='white',fontsize=20)\n",
    "plt.yticks(np.arange(0, 30,5))\n",
    "\n",
    "plt.show()"
   ]
  },
  {
   "cell_type": "code",
   "execution_count": null,
   "id": "870f87b4-17f5-4d3c-9a9b-74485aeec905",
   "metadata": {},
   "outputs": [],
   "source": [
    "ti2016country = pd.read_csv(r'C:\\Users\\J2das\\Documents\\NSS\\PYTHON\\Projects\\NSS-Full-Time-Data-Analytics-14-Capstone-Dota2\\data\\ti2016country(cleaned).csv')"
   ]
  },
  {
   "cell_type": "code",
   "execution_count": null,
   "id": "b41744ab-c4fc-49cf-b8b4-86c2a9352f02",
   "metadata": {},
   "outputs": [],
   "source": [
    "ti2016count = ti2016country[['Country or Region','Representation']]"
   ]
  },
  {
   "cell_type": "code",
   "execution_count": null,
   "id": "dc534979-d7b7-467f-bf48-8aa55994bceb",
   "metadata": {},
   "outputs": [],
   "source": [
    "ti2016count = ti2016count.rename(columns ={'Country or Region':'Country 2016','Representation':'2016'})"
   ]
  },
  {
   "cell_type": "code",
   "execution_count": null,
   "id": "a62676eb-93b9-43be-9d89-ce8d0d293115",
   "metadata": {},
   "outputs": [],
   "source": [
    "ti2016count"
   ]
  },
  {
   "cell_type": "code",
   "execution_count": null,
   "id": "f09ca78d-e191-4b3b-a2f0-9422257042b4",
   "metadata": {},
   "outputs": [],
   "source": [
    "ti2016count.plot(kind='bar', x='Country 2016',y='2016',color='#cdbca5', edgecolor='black',figsize=(18,10))\n",
    "sns.set_theme(style=\"white\", palette=None)\n",
    "def addlabels(y):\n",
    "    for i in range(len(y)):\n",
    "        plt.text(i,y[i],y[i],fontsize=20,color='red',rotation=0, ha='center')   \n",
    "y=ti2016count['2016']\n",
    "addlabels(y)\n",
    "plt.title(\"The International 2016 Country Representation\",fontsize=28,color='#a73a25')\n",
    "plt.xlabel(\"Country\", fontsize=24,color='#a73a25')\n",
    "plt.ylabel(\"Total Participants\", fontsize=24,color='#a73a25')\n",
    "plt.xticks(rotation=70,color='white',fontsize=20)\n",
    "plt.yticks(color='white',fontsize=20)\n",
    "plt.yticks(np.arange(0, 25, 5))\n",
    "\n",
    "plt.show()"
   ]
  },
  {
   "cell_type": "code",
   "execution_count": null,
   "id": "1ac6e432-d9bf-4809-86a0-63fafefa602b",
   "metadata": {},
   "outputs": [],
   "source": [
    "ti2017country = pd.read_csv(r'C:\\Users\\J2das\\Documents\\NSS\\PYTHON\\Projects\\NSS-Full-Time-Data-Analytics-14-Capstone-Dota2\\data\\ti2017country(cleaned).csv')"
   ]
  },
  {
   "cell_type": "code",
   "execution_count": null,
   "id": "b8d09de8-4f1f-4dbe-8045-0081d50c23e7",
   "metadata": {},
   "outputs": [],
   "source": [
    "ti2017count = ti2017country[['Country or Region','Representation']]"
   ]
  },
  {
   "cell_type": "code",
   "execution_count": null,
   "id": "b5ee39d8-1dcb-460e-8746-ae1255deb903",
   "metadata": {},
   "outputs": [],
   "source": [
    "ti2017count = ti2017count.rename(columns ={'Country or Region':'Country 2017','Representation':'2017'})"
   ]
  },
  {
   "cell_type": "code",
   "execution_count": null,
   "id": "baf12640-0847-4c69-bc6f-4d47145b7d62",
   "metadata": {},
   "outputs": [],
   "source": [
    "ti2017count"
   ]
  },
  {
   "cell_type": "code",
   "execution_count": null,
   "id": "552621de-e363-4f5d-8cfa-57d399caf64a",
   "metadata": {},
   "outputs": [],
   "source": [
    "ti2017count.plot(kind='bar', x='Country 2017',y='2017',color='#cdbca5', edgecolor='black',figsize=(18,10))\n",
    "sns.set_theme(style=\"white\", palette=None)\n",
    "def addlabels(y):\n",
    "    for i in range(len(y)):\n",
    "        plt.text(i,y[i],y[i],fontsize=20,color='red',rotation=0, ha='center')   \n",
    "y=ti2017count['2017']\n",
    "addlabels(y)\n",
    "plt.title(\"The International 2017 Country Representation\",fontsize=28,color='#a73a25')\n",
    "plt.xlabel(\"Country\", fontsize=24,color='#a73a25')\n",
    "plt.ylabel(\"Total Participants\", fontsize=24,color='#a73a25')\n",
    "plt.xticks(rotation=70,color='white',fontsize=20)\n",
    "plt.yticks(color='white',fontsize=20)\n",
    "plt.yticks(np.arange(0, 25, 5))\n",
    "\n",
    "plt.show()"
   ]
  },
  {
   "cell_type": "code",
   "execution_count": null,
   "id": "6e1ee414-9459-4421-b4d7-5fa15505f29c",
   "metadata": {},
   "outputs": [],
   "source": [
    "ti2018country = pd.read_csv(r'C:\\Users\\J2das\\Documents\\NSS\\PYTHON\\Projects\\NSS-Full-Time-Data-Analytics-14-Capstone-Dota2\\data\\ti2018country(cleaned).csv')"
   ]
  },
  {
   "cell_type": "code",
   "execution_count": null,
   "id": "75f14f28-5b6a-4463-8eda-36b62f39e73a",
   "metadata": {},
   "outputs": [],
   "source": [
    "ti2018count = ti2018country[['Country or Region','Representation']]"
   ]
  },
  {
   "cell_type": "code",
   "execution_count": null,
   "id": "c451662e-a695-4a27-95e1-298deb8d0db6",
   "metadata": {},
   "outputs": [],
   "source": [
    "ti2018count = ti2018count.rename(columns ={'Country or Region':'Country 2018','Representation':'2018'})"
   ]
  },
  {
   "cell_type": "code",
   "execution_count": null,
   "id": "a2a21b58-f6e4-4e8e-96d0-c1bb5809bdc7",
   "metadata": {},
   "outputs": [],
   "source": [
    "ti2018count.plot(kind='bar', x='Country 2018',y='2018',color='#cdbca5', edgecolor='black',figsize=(18,10))\n",
    "sns.set_theme(style=\"white\", palette=None)\n",
    "def addlabels(y):\n",
    "    for i in range(len(y)):\n",
    "        plt.text(i,y[i],y[i],fontsize=20,color='red',rotation=0, ha='center')   \n",
    "y=ti2018count['2018']\n",
    "addlabels(y)\n",
    "plt.title(\"The International 2018 Country Representation\",fontsize=28,color='#a73a25')\n",
    "plt.xlabel(\"Country\", fontsize=24,color='#a73a25')\n",
    "plt.ylabel(\"Total Participants\", fontsize=24,color='#a73a25')\n",
    "plt.xticks(rotation=70,color='white',fontsize=20)\n",
    "plt.yticks(color='white',fontsize=20)\n",
    "plt.yticks(np.arange(0, 30,5))\n",
    "\n",
    "plt.show()"
   ]
  },
  {
   "cell_type": "code",
   "execution_count": null,
   "id": "c8916805-1923-4596-a8d3-b458ad8729cc",
   "metadata": {},
   "outputs": [],
   "source": [
    "ti2019country = pd.read_csv(r'C:\\Users\\J2das\\Documents\\NSS\\PYTHON\\Projects\\NSS-Full-Time-Data-Analytics-14-Capstone-Dota2\\data\\ti2019country(cleaned).csv')"
   ]
  },
  {
   "cell_type": "code",
   "execution_count": null,
   "id": "9cfcfbc7-6945-4289-af7a-af73df8862d0",
   "metadata": {},
   "outputs": [],
   "source": [
    "ti2019count = ti2019country[['Country or Region','Representation']]"
   ]
  },
  {
   "cell_type": "code",
   "execution_count": null,
   "id": "341c5e62-c4e8-47f0-b43d-e93a7fe71307",
   "metadata": {},
   "outputs": [],
   "source": [
    "ti2019count = ti2019count.rename(columns ={'Country or Region':'Country 2019','Representation':'2019'})"
   ]
  },
  {
   "cell_type": "code",
   "execution_count": null,
   "id": "c55abaec-90fb-46b5-8387-81311a4da198",
   "metadata": {},
   "outputs": [],
   "source": [
    "ti2019count"
   ]
  },
  {
   "cell_type": "code",
   "execution_count": null,
   "id": "b3c7cbab-1e1c-442f-8533-cc2a62bfdba8",
   "metadata": {},
   "outputs": [],
   "source": [
    "ti2019count.plot(kind='bar', x='Country 2019',y='2019',color='#cdbca5', edgecolor='black',figsize=(18,10))\n",
    "sns.set_theme(style=\"white\", palette=None)\n",
    "def addlabels(y):\n",
    "    for i in range(len(y)):\n",
    "        plt.text(i,y[i],y[i],fontsize=20,color='red',rotation=0, ha='center')   \n",
    "y=ti2019count['2019']\n",
    "addlabels(y)\n",
    "plt.title(\"The International 2019 Country Representation\",fontsize=28,color='#a73a25')\n",
    "plt.xlabel(\"Country\", fontsize=24,color='#a73a25')\n",
    "plt.ylabel(\"Total Participants\", fontsize=24,color='#a73a25')\n",
    "plt.xticks(rotation=70,color='white',fontsize=20)\n",
    "plt.yticks(color='white',fontsize=20)\n",
    "plt.yticks(np.arange(0, 25,5))\n",
    "\n",
    "plt.show()"
   ]
  },
  {
   "cell_type": "code",
   "execution_count": null,
   "id": "63d686c8-669b-462c-88d6-bff02dfb2d80",
   "metadata": {},
   "outputs": [],
   "source": [
    "ti2021country = pd.read_csv(r'C:\\Users\\J2das\\Documents\\NSS\\PYTHON\\Projects\\NSS-Full-Time-Data-Analytics-14-Capstone-Dota2\\data\\ti2021country(cleaned).csv')"
   ]
  },
  {
   "cell_type": "code",
   "execution_count": null,
   "id": "4b8eb9ef-10b7-4061-b54b-1a3c979fc4d1",
   "metadata": {},
   "outputs": [],
   "source": [
    "ti2021count = ti2021country[['Country or Region','Representation']]"
   ]
  },
  {
   "cell_type": "code",
   "execution_count": null,
   "id": "6c4d9552-7328-46cb-9bbc-6bb7a6b48e70",
   "metadata": {},
   "outputs": [],
   "source": [
    "ti2021count = ti2021count.rename(columns ={'Country or Region':'Country 2021','Representation':'2021'})"
   ]
  },
  {
   "cell_type": "code",
   "execution_count": null,
   "id": "961586c1-10c8-4e77-9bb0-605e134d8b40",
   "metadata": {},
   "outputs": [],
   "source": [
    "ti2021count"
   ]
  },
  {
   "cell_type": "code",
   "execution_count": null,
   "id": "f2eff289-dc71-48dd-809f-e39ea6cc80d7",
   "metadata": {},
   "outputs": [],
   "source": [
    "ti2021count.plot(kind='bar', x='Country 2021',y='2021',color='#cdbca5', edgecolor='black',figsize=(18,10))\n",
    "sns.set_theme(style=\"white\", palette=None)\n",
    "def addlabels(y):\n",
    "    for i in range(len(y)):\n",
    "        plt.text(i,y[i],y[i],fontsize=20,color='red',rotation=0, ha='center')   \n",
    "y=ti2021count['2021']\n",
    "addlabels(y)\n",
    "plt.title(\"The International 2021 Country Representation\",fontsize=28,color='#a73a25')\n",
    "plt.xlabel(\"Country\", fontsize=24,color='#a73a25')\n",
    "plt.ylabel(\"Total Participants\", fontsize=24,color='#a73a25')\n",
    "plt.xticks(rotation=70,color='white',fontsize=20)\n",
    "plt.yticks(color='white',fontsize=20)\n",
    "plt.yticks(np.arange(0, 25, 5))\n",
    "\n",
    "plt.show()"
   ]
  },
  {
   "cell_type": "code",
   "execution_count": null,
   "id": "14d2f30b-ee3a-49e5-a1ec-c40041448f96",
   "metadata": {},
   "outputs": [],
   "source": [
    "ti2022country = pd.read_csv(r'C:\\Users\\J2das\\Documents\\NSS\\PYTHON\\Projects\\NSS-Full-Time-Data-Analytics-14-Capstone-Dota2\\data\\ti2022country(cleaned).csv')"
   ]
  },
  {
   "cell_type": "code",
   "execution_count": null,
   "id": "70245a10-3cb6-42f3-838e-e2c9f2c7516f",
   "metadata": {},
   "outputs": [],
   "source": [
    "ti2022count = ti2022country[['Country or Region','Representation']]"
   ]
  },
  {
   "cell_type": "code",
   "execution_count": null,
   "id": "d337550c-fe23-44f2-b57b-5c7cd508e15b",
   "metadata": {},
   "outputs": [],
   "source": [
    "ti2022count = ti2022count.rename(columns ={'Country or Region':'Country 2022','Representation':'2022'})"
   ]
  },
  {
   "cell_type": "code",
   "execution_count": null,
   "id": "04ef75dc-e946-4cd2-98ef-d0e550cb2516",
   "metadata": {},
   "outputs": [],
   "source": [
    "ti2022count"
   ]
  },
  {
   "cell_type": "code",
   "execution_count": null,
   "id": "3b1b508e-1e15-4deb-9600-fa5187c6467d",
   "metadata": {},
   "outputs": [],
   "source": [
    "ti2022count.plot(kind='bar', x='Country 2022',y='2022',color='#cdbca5', edgecolor='black',figsize=(18,10))\n",
    "sns.set_theme(style=\"white\", palette=None)\n",
    "def addlabels(y):\n",
    "    for i in range(len(y)):\n",
    "        plt.text(i,y[i],y[i],fontsize=20,color='red',rotation=0, ha='center')   \n",
    "y=ti2022count['2022']\n",
    "addlabels(y)\n",
    "plt.title(\"The International 2022 Country Representation\",fontsize=28,color='#a73a25')\n",
    "plt.xlabel(\"Country\", fontsize=24,color='#a73a25')\n",
    "plt.ylabel(\"Total Participants\", fontsize=24,color='#a73a25')\n",
    "plt.xticks(rotation=70,color='white',fontsize=20)\n",
    "plt.yticks(color='white',fontsize=20)\n",
    "plt.yticks(np.arange(0, 15, 5))\n",
    "\n",
    "plt.show()"
   ]
  },
  {
   "cell_type": "code",
   "execution_count": null,
   "id": "15e7c6fc-bb90-4be9-a37b-e03cd9222414",
   "metadata": {},
   "outputs": [],
   "source": [
    "ti2023country = pd.read_csv(r'C:\\Users\\J2das\\Documents\\NSS\\PYTHON\\Projects\\NSS-Full-Time-Data-Analytics-14-Capstone-Dota2\\data\\ti2023country(cleaned).csv')"
   ]
  },
  {
   "cell_type": "code",
   "execution_count": null,
   "id": "2357de77-6a85-41b8-8f4b-c240afb34813",
   "metadata": {},
   "outputs": [],
   "source": [
    "ti2023count = ti2023country[['Country or Region','Representation']]"
   ]
  },
  {
   "cell_type": "code",
   "execution_count": null,
   "id": "599025f1-3777-4a41-b425-97b1a1c821b0",
   "metadata": {},
   "outputs": [],
   "source": [
    "ti2023count = ti2023count.rename(columns ={'Country or Region':'Country 2023','Representation':'2023'})"
   ]
  },
  {
   "cell_type": "code",
   "execution_count": null,
   "id": "d978131a-d4d8-4a96-b5b2-1364ad5b201f",
   "metadata": {},
   "outputs": [],
   "source": [
    "ti2023count"
   ]
  },
  {
   "cell_type": "code",
   "execution_count": null,
   "id": "d10752f4-b70f-474b-ad02-1c887dd169f2",
   "metadata": {},
   "outputs": [],
   "source": [
    "ti2023count.plot(kind='bar', x='Country 2023',y='2023',color='#cdbca5', edgecolor='black',figsize=(18,10))\n",
    "sns.set_theme(style=\"white\", palette=None)\n",
    "def addlabels(y):\n",
    "    for i in range(len(y)):\n",
    "        plt.text(i,y[i],y[i],fontsize=20,color='red',rotation=0, ha='center')   \n",
    "y=ti2023count['2023']\n",
    "addlabels(y)\n",
    "plt.title(\"The International 2023 Country Representation\",fontsize=28,color='#a73a25')\n",
    "plt.xlabel(\"Country\", fontsize=24,color='#a73a25')\n",
    "plt.ylabel(\"Total Participants\", fontsize=24,color='#a73a25')\n",
    "plt.xticks(rotation=70,color='white',fontsize=20)\n",
    "plt.yticks(color='white',fontsize=20)\n",
    "plt.yticks(np.arange(0, 25,5))\n",
    "\n",
    "plt.show()"
   ]
  },
  {
   "cell_type": "code",
   "execution_count": null,
   "id": "a01f7bc5-b015-4dd7-aece-c303a240a5fa",
   "metadata": {},
   "outputs": [],
   "source": [
    "ti2024country = pd.read_csv(r'C:\\Users\\J2das\\Documents\\NSS\\PYTHON\\Projects\\NSS-Full-Time-Data-Analytics-14-Capstone-Dota2\\data\\ti2024country(cleaned).csv')"
   ]
  },
  {
   "cell_type": "code",
   "execution_count": null,
   "id": "b367282a-bc7f-4ef6-8ab0-9ff2887a94b3",
   "metadata": {},
   "outputs": [],
   "source": [
    "ti2024count = ti2024country[['Country or Region','Representation']]"
   ]
  },
  {
   "cell_type": "code",
   "execution_count": null,
   "id": "2cc6017c-8e72-4cd9-ae47-56916e617027",
   "metadata": {},
   "outputs": [],
   "source": [
    "ti2024count = ti2024count.rename(columns ={'Country or Region':'Country 2024','Representation':'2024'})"
   ]
  },
  {
   "cell_type": "code",
   "execution_count": null,
   "id": "c02c8eda-8e6c-4928-831e-4818afc44c4e",
   "metadata": {},
   "outputs": [],
   "source": [
    "ti2024count"
   ]
  },
  {
   "cell_type": "code",
   "execution_count": null,
   "id": "d6fcd759-6d08-4e70-8236-ddc9e8462b8e",
   "metadata": {},
   "outputs": [],
   "source": [
    "ti2024count.plot(kind='bar', x='Country 2024',y='2024',color='#cdbca5', edgecolor='black',figsize=(18,10))\n",
    "sns.set_theme(style=\"white\", palette=None)\n",
    "def addlabels(y):\n",
    "    for i in range(len(y)):\n",
    "        plt.text(i,y[i],y[i],fontsize=20,color='red',rotation=0, ha='center')   \n",
    "y=ti2024count['2024']\n",
    "addlabels(y)\n",
    "plt.title(\"The International 2024 Country Representation\",fontsize=28,color='#a73a25')\n",
    "plt.xlabel(\"Country\", fontsize=24,color='#a73a25')\n",
    "plt.ylabel(\"Total Participants\", fontsize=24,color='#a73a25')\n",
    "plt.xticks(rotation=70,color='white',fontsize=20)\n",
    "plt.yticks(color='white',fontsize=20)\n",
    "plt.yticks(np.arange(0, 20, 5))\n",
    "\n",
    "plt.show()"
   ]
  },
  {
   "cell_type": "code",
   "execution_count": null,
   "id": "75f4d0bc-cce4-4164-9ab2-130c4b325260",
   "metadata": {},
   "outputs": [],
   "source": [
    "test1 = pd.concat([ti2011count, ti2012count])"
   ]
  },
  {
   "cell_type": "code",
   "execution_count": null,
   "id": "5490e877-fe51-46e5-8e27-81d9bf2a4aed",
   "metadata": {},
   "outputs": [],
   "source": [
    "test1"
   ]
  },
  {
   "cell_type": "code",
   "execution_count": null,
   "id": "dd103390-8919-45f5-b6a2-bd22853a8068",
   "metadata": {},
   "outputs": [],
   "source": [
    "tiwinners = pd.read_csv(r'C:\\Users\\J2das\\Documents\\NSS\\PYTHON\\Projects\\NSS-Full-Time-Data-Analytics-14-Capstone-Dota2\\data\\tiwinnersandrunnerup(cleaned).csv')"
   ]
  },
  {
   "cell_type": "code",
   "execution_count": null,
   "id": "ac000acf-ad93-4aef-8ad7-7c9e667178a5",
   "metadata": {},
   "outputs": [],
   "source": [
    "tiwinners"
   ]
  },
  {
   "cell_type": "code",
   "execution_count": null,
   "id": "488932cc-1fc8-4cd3-8c3d-93259f4c7445",
   "metadata": {},
   "outputs": [],
   "source": [
    "colors=['#cdbca5', 'red', '#50C878', '#7F00FF','#FFD700','#ED0A3F','#015482','#A4A676','#ae7dab','#D4AF37','#9B111E','#BE3455','#9ACD32']\n",
    "fig, ax = plt.subplots(figsize=(18,14))\n",
    "ax.plot('Year','Prize pool', data=tiwinners, color= 'white')\n",
    "formatter = ticker.StrMethodFormatter('${x:,.0f}')\n",
    "ylabels=tiwinners['Prize pool'] \n",
    "x=tiwinners['Year']\n",
    "y=tiwinners['Prize pool']\n",
    "for i in range(len(x)):\n",
    "    ax.plot(x[i], y[i], marker='o', markersize=20, color=colors[i])\n",
    "    \n",
    "plt.ticklabel_format(axis='y',style='plain') \n",
    "plt.title(\"Prize Pool Totals Each Year\",fontsize=28,color='#a73a25')\n",
    "plt.xlabel(\"Tournament Year\", fontsize=26,color='#a73a25')\n",
    "plt.ylabel(\"Prize Money\", fontsize=26,color='#a73a25')\n",
    "plt.xticks(rotation=0)\n",
    "\n",
    "ti2011 = mpatches.Patch(label='TI 2011',color='#cdbca5')\n",
    "ti2012 = mpatches.Patch(label='TI 2012',color='red')\n",
    "ti2013 = mpatches.Patch(label='TI 2013',color='#50C878')\n",
    "ti2014 = mpatches.Patch(label='TI 2014',color='#7F00FF')\n",
    "ti2015 = mpatches.Patch(label='TI 2015',color='#FFD700')\n",
    "ti2016 = mpatches.Patch(label='TI 2016',color='#ED0A3F')\n",
    "ti2017 = mpatches.Patch(label='TI 2017',color='#015482')\n",
    "ti2018 = mpatches.Patch(label='TI 2018',color='#A4A676')\n",
    "ti2019 = mpatches.Patch(label='TI 2019',color='#ae7dab')\n",
    "ti2021 = mpatches.Patch(label='TI 2021',color='#D4AF37')\n",
    "ti2022 = mpatches.Patch(label='TI 2022',color='#9B111E')\n",
    "ti2023 = mpatches.Patch(label='TI 2023',color='#BE3455')\n",
    "ti2024 = mpatches.Patch(label='TI 2024',color='#9ACD32')\n",
    "ax.yaxis.set_major_formatter(formatter)\n",
    "\n",
    "plt.yticks(color='white',fontsize=24)\n",
    "plt.xticks(tiwinners['Year'],color='white',fontsize=22)\n",
    "plt.legend(handles=[ti2011, ti2012,ti2013,ti2014,ti2015,ti2016,ti2017,ti2018,ti2019,ti2021,ti2022,ti2023,ti2024],loc='center left',bbox_to_anchor=(1, 0.5),fontsize=20,framealpha=1)\n",
    "plt.savefig('Prize Pool Per Year Final', transparent=True, bbox_inches='tight')\n",
    "plt.show()"
   ]
  },
  {
   "cell_type": "code",
   "execution_count": null,
   "id": "481e5cbc-ddcd-4eb6-b573-42555e5c96a3",
   "metadata": {},
   "outputs": [],
   "source": [
    "arenacount = tiwinners.value_counts('Venue')"
   ]
  },
  {
   "cell_type": "code",
   "execution_count": null,
   "id": "dcd5d1fc-ee13-4847-8dcf-c0ce1eddb2ba",
   "metadata": {},
   "outputs": [],
   "source": [
    "tiwinners.sort_values(by='Venue',ascending=False).value_counts('Venue')"
   ]
  },
  {
   "cell_type": "code",
   "execution_count": null,
   "id": "e30cdf02-17d9-4a97-8f21-b82804b85cd9",
   "metadata": {},
   "outputs": [],
   "source": [
    "arenacount.plot(kind = 'barh',color='#cdbca5', edgecolor='black')\n",
    "plt.title('The International Venue Locations',color='#a73a25',fontsize=20)\n",
    "sns.set_theme(style='white',palette=None)\n",
    "plt.xlabel('Venue Appearances',color='#a73a25',fontsize=16)\n",
    "plt.ylabel('Venue Name',color='#a73a25',fontsize=16)\n",
    "plt.yticks(color='white',fontsize=16)\n",
    "plt.xticks([1,2,3,4],color='white',fontsize=16)\n",
    "plt.savefig('Venue Locations Graph final', transparent=True, bbox_inches='tight')\n",
    "plt.show();"
   ]
  },
  {
   "cell_type": "code",
   "execution_count": null,
   "id": "abf3d1cc-4a44-48d3-8bde-41eb3126c1c8",
   "metadata": {},
   "outputs": [],
   "source": [
    "arenacount"
   ]
  },
  {
   "cell_type": "code",
   "execution_count": null,
   "id": "87c4853a-dec2-4f1f-aa55-4ce61da0c377",
   "metadata": {},
   "outputs": [],
   "source": [
    "tiwinners['Prize pool'].sum()"
   ]
  },
  {
   "cell_type": "code",
   "execution_count": null,
   "id": "0cd71dcb-5489-423a-9b84-2f0c1246f550",
   "metadata": {},
   "outputs": [],
   "source": [
    "tiwinners['Champion'].value_counts()"
   ]
  },
  {
   "cell_type": "code",
   "execution_count": null,
   "id": "32c40df1-f4d6-4ff5-bb4b-bd088555470d",
   "metadata": {},
   "outputs": [],
   "source": [
    "tiwinners"
   ]
  },
  {
   "cell_type": "code",
   "execution_count": null,
   "id": "6689a784-70a8-4a58-bccc-b344232d74c7",
   "metadata": {},
   "outputs": [],
   "source": [
    "tiwinners['Champion'].value_counts().astype('int').plot(kind = 'barh',color='#cdbca5', edgecolor='black',figsize=(16,10))\n",
    "plt.ylabel('Team Name',fontsize=24,color='#a73a25')\n",
    "sns.set_theme(style='white',palette=None)\n",
    "plt.xlabel('Total International Wins',fontsize=20,color='#a73a25')\n",
    "plt.title('The International Winners',fontsize=24,color='#a73a25')\n",
    "plt.yticks(color='white',fontsize=18)\n",
    "plt.xticks([0,1,2,3],color='white',fontsize=18)\n",
    "plt.savefig('International Winners Graph final', transparent=True, bbox_inches='tight')\n",
    "plt.show()"
   ]
  },
  {
   "cell_type": "code",
   "execution_count": null,
   "id": "c748f00d-ed8e-447d-9229-2e686572ab1c",
   "metadata": {},
   "outputs": [],
   "source": [
    "tirunnerup = tiwinners['Runner-up'].value_counts()"
   ]
  },
  {
   "cell_type": "code",
   "execution_count": null,
   "id": "fbfc3820-58ba-4637-b74b-c1937516d138",
   "metadata": {},
   "outputs": [],
   "source": [
    "tirunnerup"
   ]
  },
  {
   "cell_type": "code",
   "execution_count": null,
   "id": "43773f61-0ce2-4172-917a-4517a968c307",
   "metadata": {},
   "outputs": [],
   "source": [
    "tirunnerup.plot(kind = 'barh',color='#cdbca5', edgecolor='black',figsize=(16,10))\n",
    "sns.set_theme(style='white',palette=None)\n",
    "plt.ylabel('Team Name',fontsize=24,color='#a73a25')\n",
    "plt.xlabel('Total Runner Up Finishes',fontsize=22,color='#a73a25')\n",
    "plt.title('The International Runner Ups',fontsize=26,color='#a73a25')\n",
    "plt.yticks(color='white',fontsize=18)\n",
    "plt.xticks([0,1,2,3],color='white',fontsize=18)\n",
    "plt.savefig('International Runner Up Graph final', transparent=True, bbox_inches='tight')\n",
    "plt.show()\n"
   ]
  },
  {
   "cell_type": "code",
   "execution_count": null,
   "id": "891b5be0-6eeb-44c5-a2f9-db4df0ce471c",
   "metadata": {},
   "outputs": [],
   "source": [
    "tiwinners['Teams'].sum()"
   ]
  },
  {
   "cell_type": "code",
   "execution_count": null,
   "id": "b02a5a8a-141b-4cc6-8d9a-ce5bc19f52ea",
   "metadata": {},
   "outputs": [],
   "source": [
    "tiwinners"
   ]
  },
  {
   "cell_type": "markdown",
   "id": "b1ba8e27-9c61-405f-8b03-57b78f51c7f4",
   "metadata": {},
   "source": [
    "**Aeon of Strife is a custom map for StarCraft, created by Gunner_4_ever in 2002. It led in part to the popular Defense of the Ancients map for Warcraft III, which was one of the first true MOBA games and as such the game on which Heroes of the Storm is based.**"
   ]
  },
  {
   "cell_type": "code",
   "execution_count": null,
   "id": "ccd8fdd5-091f-43c2-b59b-9647b10b1a59",
   "metadata": {},
   "outputs": [],
   "source": [
    "totalcountry = pd.read_csv(r'C:\\Users\\J2das\\Documents\\NSS\\PYTHON\\Projects\\NSS-Full-Time-Data-Analytics-14-Capstone-Dota2\\data\\totalbycountry.csv')"
   ]
  },
  {
   "cell_type": "code",
   "execution_count": null,
   "id": "9f24d1f5-0e4d-4b32-8139-d8ef71c5b9f8",
   "metadata": {},
   "outputs": [],
   "source": [
    "totalcountry = totalcountry.replace('-','0')"
   ]
  },
  {
   "cell_type": "code",
   "execution_count": null,
   "id": "8f92d7b0-45a1-4006-8ec5-88b8467dd7d6",
   "metadata": {},
   "outputs": [],
   "source": [
    "nationcount = totalcountry[['Nation/Region','Total Ap.']]"
   ]
  },
  {
   "cell_type": "code",
   "execution_count": null,
   "id": "908d5c87-628c-4926-8031-05e077017058",
   "metadata": {},
   "outputs": [],
   "source": [
    "totalcountry"
   ]
  },
  {
   "cell_type": "code",
   "execution_count": null,
   "id": "3450c4c1-9a62-4bdf-9add-d1e0cd143ef0",
   "metadata": {},
   "outputs": [],
   "source": [
    "playercountbynation = nationcount.rename(columns = {'Nation/Region':'Country','Total Ap.':'Total Players'})"
   ]
  },
  {
   "cell_type": "code",
   "execution_count": null,
   "id": "c739bdcc-9454-4cdd-9cda-215988a352b3",
   "metadata": {},
   "outputs": [],
   "source": []
  },
  {
   "cell_type": "code",
   "execution_count": null,
   "id": "02cc597f-575d-482a-9955-6a3c398d4767",
   "metadata": {},
   "outputs": [],
   "source": [
    "ti2012count.plot(kind='bar', x='Country 2012',y='2012',color='#cdbca5', edgecolor='black',figsize=(18,10))\n",
    "sns.set_theme(style=\"white\", palette=None)\n",
    "def addlabels(y):\n",
    "    for i in range(len(y)):\n",
    "        plt.text(i,y[i],y[i],fontsize=20,color='red',rotation=0, ha='center')   \n",
    "y=ti2012count['2012']\n",
    "addlabels(y)\n",
    "plt.title(\"The International 2012 Country Representation\",fontsize=28,color='#a73a25')\n",
    "plt.xlabel(\"Country\", fontsize=24,color='#a73a25')\n",
    "plt.ylabel(\"Total Participants\", fontsize=24,color='#a73a25')\n",
    "plt.xticks(rotation=70,color='white',fontsize=20)\n",
    "plt.yticks(color='white',fontsize=20)\n",
    "plt.yticks(np.arange(0, 30,5))\n",
    "\n",
    "plt.show()"
   ]
  },
  {
   "cell_type": "code",
   "execution_count": null,
   "id": "41fa319e-35d7-4fce-a32e-14a52f93f16d",
   "metadata": {},
   "outputs": [],
   "source": [
    "playercountbynation['Total Players'].sum()"
   ]
  },
  {
   "cell_type": "code",
   "execution_count": null,
   "id": "9e86954f-3667-47c5-979b-f56b5d772e3d",
   "metadata": {},
   "outputs": [],
   "source": [
    "playercountbynation['Country'].value_counts().sum()"
   ]
  },
  {
   "cell_type": "code",
   "execution_count": null,
   "id": "df4dd5d4-d0d6-48c3-925d-6269933b794d",
   "metadata": {},
   "outputs": [],
   "source": [
    "playercountbynation"
   ]
  },
  {
   "cell_type": "code",
   "execution_count": null,
   "id": "bf3efe67-6fc8-4981-8565-7e3d8ba238c2",
   "metadata": {},
   "outputs": [],
   "source": [
    "playercountbynation.head(15).plot(kind='barh', x='Country',y='Total Players',color='#cdbca5', edgecolor='black',figsize=(18,10))\n",
    "sns.set_theme(style=\"white\", palette=None)\n",
    "plt.title(\"The International Top 15 Participating Countries\",fontsize=30,color='#a73a25')\n",
    "plt.xlabel(\"Country\", fontsize=28,color='#a73a25')\n",
    "plt.ylabel(\"Total Participants\", fontsize=28,color='#a73a25')\n",
    "\n",
    "plt.yticks(color='white',fontsize=24)\n",
    "plt.xticks(color='white',fontsize=24)\n",
    "plt.savefig('TI TOP 15 count Country Count Graph final', transparent='True', bbox_inches='tight')\n",
    "plt.show()"
   ]
  },
  {
   "cell_type": "code",
   "execution_count": null,
   "id": "e5882f58-10bf-4063-bdf5-221e095aba25",
   "metadata": {},
   "outputs": [],
   "source": []
  },
  {
   "cell_type": "code",
   "execution_count": null,
   "id": "f0b0fdf7-f63e-4824-a3f1-ff041f3954e5",
   "metadata": {},
   "outputs": [],
   "source": [
    "perteamwinning = pd.read_csv(r'C:\\Users\\J2das\\Documents\\NSS\\PYTHON\\Projects\\NSS-Full-Time-Data-Analytics-14-Capstone-Dota2\\data\\perteammoney.csv')"
   ]
  },
  {
   "cell_type": "code",
   "execution_count": null,
   "id": "81cb6d5f-42aa-4a36-b73e-f58b207bb4fa",
   "metadata": {},
   "outputs": [],
   "source": [
    "perteamwinning = perteamwinning.sort_values(by = 'Total Winnings',ascending=False).reset_index().drop(columns = 'index')"
   ]
  },
  {
   "cell_type": "code",
   "execution_count": null,
   "id": "490e7f45-fd73-4c09-9cca-ea0fe65ead8d",
   "metadata": {},
   "outputs": [],
   "source": [
    "perteamrunnerupmoney = pd.read_csv(r'C:\\Users\\J2das\\Documents\\NSS\\PYTHON\\Projects\\NSS-Full-Time-Data-Analytics-14-Capstone-Dota2\\data\\perteamrunnerupmoney.csv')"
   ]
  },
  {
   "cell_type": "code",
   "execution_count": null,
   "id": "fde77ade-4d15-4137-98a3-11ff35f6b0d8",
   "metadata": {},
   "outputs": [],
   "source": [
    "runnerup = perteamrunnerupmoney.sort_values(by = 'Total Winnings',ascending=False).reset_index().drop(columns = 'index')"
   ]
  },
  {
   "cell_type": "code",
   "execution_count": null,
   "id": "86da07ab-c2ca-4dd9-b299-debf52f00131",
   "metadata": {},
   "outputs": [],
   "source": [
    "perteamwinning"
   ]
  },
  {
   "cell_type": "code",
   "execution_count": null,
   "id": "b3dfe48a-63fb-4f9f-8aa9-7249346eba27",
   "metadata": {},
   "outputs": [],
   "source": [
    "runnerup"
   ]
  },
  {
   "cell_type": "code",
   "execution_count": null,
   "id": "f8c5e418-971d-4d6c-af73-aff98351b880",
   "metadata": {},
   "outputs": [],
   "source": [
    "fig, ax = plt.subplots(figsize=(18, 14))\n",
    "ax.bar('Team', 'Total Winnings', data=runnerup, color='#cdbca5', edgecolor='black')\n",
    "formatter = ticker.StrMethodFormatter('${x:,.0f}')\n",
    "plt.title('Total Runner Up Team Winnings',fontsize=28,color='#a73a25')\n",
    "plt.xlabel('Runner Up Team', fontsize=26,color='#a73a25')\n",
    "plt.ylabel('Prize Money', fontsize=26,color='#a73a25')\n",
    "plt.xticks(rotation=80,color='white',fontsize=24)\n",
    "plt.yticks(color='white',fontsize=24)\n",
    "ax.yaxis.set_major_formatter(formatter)\n",
    "plt.savefig('TI Runner up total winnings final', transparent='True', bbox_inches='tight')\n",
    "plt.show();"
   ]
  },
  {
   "cell_type": "code",
   "execution_count": null,
   "id": "13e0831a-9c24-436d-a7c4-5d424a8c803a",
   "metadata": {},
   "outputs": [],
   "source": [
    "fig, ax = plt.subplots(figsize=(18,14))\n",
    "ax.bar('Team', 'Total Winnings', data=perteamwinning, color='#cdbca5', edgecolor='black')\n",
    "formatter = ticker.StrMethodFormatter('${x:,.0f}')\n",
    "plt.title('Total Champion Team Winnings',fontsize=28,color='#a73a25')\n",
    "plt.xlabel('Champion Team', fontsize=24,color='#a73a25')\n",
    "plt.ylabel('Prize Money', fontsize=24,color='#a73a25')\n",
    "plt.xticks(rotation=80,color='white',fontsize=24)\n",
    "plt.yticks(color='white',fontsize=24)\n",
    "ax.yaxis.set_major_formatter(formatter)\n",
    "plt.savefig('TI champion total winnings final', transparent='True', bbox_inches='tight')\n",
    "plt.show()"
   ]
  },
  {
   "cell_type": "code",
   "execution_count": null,
   "id": "f16ec20e-ad5e-4c95-83a2-f8ed91a07ef1",
   "metadata": {},
   "outputs": [],
   "source": [
    "levelsandrewards = pd.read_csv(r'C:\\Users\\J2das\\Documents\\NSS\\PYTHON\\Projects\\NSS-Full-Time-Data-Analytics-14-Capstone-Dota2\\data\\lvlandrewards.csv')"
   ]
  },
  {
   "cell_type": "code",
   "execution_count": null,
   "id": "e4435027-c273-475b-8cce-7a8e4c2df09a",
   "metadata": {},
   "outputs": [],
   "source": [
    "levelsandrewards = levelsandrewards.rename(columns = {'Major Item 1':'Major Item'})"
   ]
  },
  {
   "cell_type": "code",
   "execution_count": null,
   "id": "6378e7cb-df15-4857-826f-883266dc8821",
   "metadata": {},
   "outputs": [],
   "source": [
    "levelsmajor = levelsandrewards[['Year','Levels Earned', 'Major Item', 'Aegis Level']]"
   ]
  },
  {
   "cell_type": "code",
   "execution_count": null,
   "id": "996b1cae-d476-4b3c-beb2-c3a9f3c950d7",
   "metadata": {},
   "outputs": [],
   "source": [
    "levelsmajor = levelsmajor.rename(columns= {'Aegis Level': 'Aegis Earned'})"
   ]
  },
  {
   "cell_type": "code",
   "execution_count": null,
   "id": "889b4cae-9648-40a9-912a-b303ebe60547",
   "metadata": {},
   "outputs": [],
   "source": [
    "colors=['#cdbca5','#a73a25','white']\n",
    "levelsmajor.plot.bar(x='Year',figsize=(20,12),color=colors,edgecolor='black')\n",
    "plt.title('Major Reward Threshold vs Levels Earned',fontsize=22,color='#a73a25')\n",
    "plt.ylabel('Levels',fontsize=22,color='#a73a25')\n",
    "plt.xlabel('Year',fontsize=22,color='#a73a25')\n",
    "plt.xticks(rotation=0,fontsize=14,color='white')\n",
    "plt.yticks([0,100,200,300,400,500,600,700,800,900,1000],fontsize=16,color='white')\n",
    "plt.legend(fontsize=16,loc='upper left')\n",
    "plt.savefig('Major rewards threshold', transparent='True', bbox_inches='tight')\n",
    "plt.show()\n"
   ]
  },
  {
   "cell_type": "code",
   "execution_count": null,
   "id": "276d44ad-9100-4511-93cd-8caec2b19164",
   "metadata": {},
   "outputs": [],
   "source": [
    "levelsearnedvsrewards = levelsandrewards[['Levels Earned','Major Item']]"
   ]
  },
  {
   "cell_type": "code",
   "execution_count": null,
   "id": "b63a7308-f7be-4209-807c-e0be51b9fa0c",
   "metadata": {},
   "outputs": [],
   "source": [
    "levelsandrewards.corr()"
   ]
  },
  {
   "cell_type": "code",
   "execution_count": null,
   "id": "bbdf2265-f194-44c1-b95e-1d59f1f3da31",
   "metadata": {},
   "outputs": [],
   "source": [
    "corr = levelsandrewards['Prize Pool'].corr(levelsandrewards['Major Item'])\n",
    "\n",
    "plt.bar(['Prize Pool', 'Major Item'], [levelsandrewards['Prize Pool'].mean(), levelsandrewards['Major Item'].mean()])\n",
    "\n",
    "plt.text(0.5, 3, f'Correlation: {corr:.2f}',ha='center')\n",
    "\n",
    "plt.show()"
   ]
  },
  {
   "cell_type": "code",
   "execution_count": null,
   "id": "da3a1d50-8dcd-4d9a-bba6-5912d1f7c8cb",
   "metadata": {},
   "outputs": [],
   "source": [
    "data = levelsandrewards\n",
    "\n",
    "# Calculate correlation matrix\n",
    "corr = data.corr()\n",
    "\n",
    "# Plot heatmap\n",
    "sns.heatmap(corr, annot=True)\n",
    "\n",
    "plt.show()"
   ]
  },
  {
   "cell_type": "code",
   "execution_count": null,
   "id": "ee281a3e-7ec5-48aa-b57e-14420b467ff9",
   "metadata": {},
   "outputs": [],
   "source": [
    "valveearnings = levelsandrewards[['Year','Prize Pool','Valve Earnings']]"
   ]
  },
  {
   "cell_type": "code",
   "execution_count": null,
   "id": "250281e1-c8f0-4063-8c1c-230d5e110f60",
   "metadata": {},
   "outputs": [],
   "source": [
    "valveearnings"
   ]
  },
  {
   "cell_type": "code",
   "execution_count": null,
   "id": "5653af16-0f69-4b52-a437-023af2f9c2c7",
   "metadata": {},
   "outputs": [],
   "source": [
    "fig, ax = plt.subplots(figsize=(18,14))\n",
    "ax.plot('Year', 'Valve Earnings', data=valveearnings,marker='.',markersize=18,color='#cdbca5')\n",
    "formatter = ticker.StrMethodFormatter('${x:,.0f}')\n",
    "ax.yaxis.set_major_formatter(formatter)\n",
    "plt.xticks(valveearnings['Year'],fontsize=22,color='white')\n",
    "plt.yticks(fontsize=18,color='white')\n",
    "plt.title('Valve Earnings (Battle Pass Earnings)',fontsize=26,color='#a73a25')\n",
    "plt.xlabel('Year',fontsize=24,color='#a73a25')\n",
    "plt.ylabel('Earnings',fontsize=24,color='#a73a25')\n",
    "plt.savefig('Valve Battle Pass Earnings', transparent='True', bbox_inches='tight')\n",
    "plt.show()"
   ]
  },
  {
   "cell_type": "code",
   "execution_count": null,
   "id": "25b8081c-f92b-44d1-bdda-54cb8e025791",
   "metadata": {},
   "outputs": [],
   "source": [
    "levelsandrewards.corr()"
   ]
  },
  {
   "cell_type": "code",
   "execution_count": null,
   "id": "b60be199-5425-4211-8c81-6cbd2799f9bb",
   "metadata": {},
   "outputs": [],
   "source": [
    "prizepoolmajoritem = levelsandrewards[['Levels Earned','Major Item','Prize Pool','Valve Earnings']]"
   ]
  },
  {
   "cell_type": "code",
   "execution_count": null,
   "id": "63c7e9f2-3746-4672-8db8-96646a575288",
   "metadata": {},
   "outputs": [],
   "source": [
    "major = pd.Series(levelsandrewards['Major Item'])\n",
    "money = pd.Series(levelsandrewards['Prize Pool'])\n",
    "year= pd.Series(levelsandrewards['Year'])\n",
    "correlation = major.corr(money)\n",
    "correlation \n",
    "correlation2 = money.corr(year)\n",
    "correlation2\n"
   ]
  },
  {
   "cell_type": "code",
   "execution_count": null,
   "id": "54bc60b1-df21-45f7-891f-96e9c867ea96",
   "metadata": {},
   "outputs": [],
   "source": [
    "fig, ax = plt.subplots(figsize=(16,12))\n",
    "\n",
    "ax.scatter('Major Item', 'Prize Pool', data=levelsandrewards,color='#cdbca5')\n",
    "formatter = ticker.StrMethodFormatter('${x:,.0f}')\n",
    "ax.yaxis.set_major_formatter(formatter)\n",
    "plt.plot(np.unique(major), np.poly1d(np.polyfit(major, money, 1))\n",
    "         (np.unique(major)), color='#a73a25')\n",
    "plt.title('Relationship Between Prize Pool and Major Item Acquisition Level',fontsize=22,color='#a73a25')\n",
    "plt.xlabel('Major Item Acquisition Level',fontsize=20,color='#a73a25')\n",
    "plt.ylabel('The International Prize Pool',fontsize=20,color='#a73a25')\n",
    "plt.xticks(fontsize=16,color='white')\n",
    "plt.yticks(fontsize=16,color='white')\n",
    "plt.savefig('Prize Pool Major Item Graph', transparent='True', bbox_inches='tight')\n",
    "plt.show()"
   ]
  },
  {
   "cell_type": "code",
   "execution_count": null,
   "id": "828ca398-fced-48d2-a91e-599a112bb222",
   "metadata": {},
   "outputs": [],
   "source": [
    "correlation2"
   ]
  },
  {
   "cell_type": "code",
   "execution_count": null,
   "id": "d3d06c66-5104-429b-8416-a40c00a61b2b",
   "metadata": {},
   "outputs": [],
   "source": [
    "corr_matrix = levelsandrewards.corr()\n",
    "ax = sns.heatmap(corr_matrix, annot=True, cmap='Reds',linewidth=0.5)\n",
    "plt.title('Visualizing Relationships Between The International Variables',fontsize='20',color='#a73a25')\n",
    "plt.xticks(fontsize=16,color='white')\n",
    "plt.yticks(fontsize=16,color='white')\n",
    "cbar1 = ax.collections[0].colorbar\n",
    "cbar1.ax.tick_params(labelsize=16, colors='white')\n",
    "plt.savefig('Correlation Heatmap', transparent='True', bbox_inches='tight')\n",
    "plt.show()"
   ]
  },
  {
   "cell_type": "code",
   "execution_count": null,
   "id": "2d07078e-9e48-421d-8937-80229aaaf648",
   "metadata": {},
   "outputs": [],
   "source": [
    "levelsandrewards"
   ]
  },
  {
   "cell_type": "code",
   "execution_count": null,
   "id": "a85bdad1-c5a1-4a55-b60b-a8e2537ea11b",
   "metadata": {},
   "outputs": [],
   "source": [
    "levelsandrewards['Valve Earnings'].sum()"
   ]
  },
  {
   "cell_type": "code",
   "execution_count": null,
   "id": "7dcec151-f167-488e-86e0-9b7aa01e685a",
   "metadata": {},
   "outputs": [],
   "source": [
    "viewership = pd.read_csv(r'C:\\Users\\J2das\\Documents\\NSS\\PYTHON\\Projects\\NSS-Full-Time-Data-Analytics-14-Capstone-Dota2\\data\\viewership.csv')"
   ]
  },
  {
   "cell_type": "code",
   "execution_count": null,
   "id": "61f5095d-bf7d-43bc-8821-77ec3d854380",
   "metadata": {},
   "outputs": [],
   "source": [
    "views = viewership.rename(columns={'Unnamed: 1': 'Average Viewers', 'Unnamed: 4': 'Peak Viewers','Unnamed: 5':'Average Streams', 'Unnamed: 8':'Peak Streams', 'Unnamed: 9':'Hours Watched'})"
   ]
  },
  {
   "cell_type": "code",
   "execution_count": null,
   "id": "34d99195-7a05-4dba-b304-4a1f932eb54a",
   "metadata": {},
   "outputs": [],
   "source": [
    "views = views.drop(index=0)"
   ]
  },
  {
   "cell_type": "code",
   "execution_count": null,
   "id": "c858c839-3a00-43bc-b39f-029c0da9d218",
   "metadata": {},
   "outputs": [],
   "source": [
    "views = views.rename(columns={'Gain.1':'Gains'})"
   ]
  },
  {
   "cell_type": "code",
   "execution_count": null,
   "id": "004d71d7-a103-4cfa-98f8-89eff1c671c9",
   "metadata": {},
   "outputs": [],
   "source": [
    "views.isnull().sum()"
   ]
  },
  {
   "cell_type": "code",
   "execution_count": null,
   "id": "a0843f01-205d-46d9-a424-295747fe216f",
   "metadata": {},
   "outputs": [],
   "source": [
    "views['Month'] = pd.to_datetime(views['Month'])"
   ]
  },
  {
   "cell_type": "code",
   "execution_count": null,
   "id": "eeb01cb5-0f32-4cc2-a66c-5102bf690e5a",
   "metadata": {},
   "outputs": [],
   "source": [
    "views"
   ]
  },
  {
   "cell_type": "code",
   "execution_count": null,
   "id": "af215a49-3708-4883-9769-5526ac8fb7e9",
   "metadata": {},
   "outputs": [],
   "source": [
    "views['Average Viewers']= views['Average Viewers'].astype('int64')"
   ]
  },
  {
   "cell_type": "code",
   "execution_count": null,
   "id": "d3a79f51-2778-48fa-a5da-3904763e6f95",
   "metadata": {},
   "outputs": [],
   "source": [
    "views['Gain']= views['Gain'].astype('int64')\n",
    "views['Peak Viewers']= views['Peak Viewers'].astype('int64')\n",
    "views['Average Streams']= views['Average Streams'].astype('int64')\n",
    "views['Gains']= views['Gains'].astype('int64')\n",
    "views['Peak Streams']= views['Peak Streams'].astype('int64')\n"
   ]
  },
  {
   "cell_type": "code",
   "execution_count": null,
   "id": "f073f2a8-12f4-46c4-bcce-b986e0a5b833",
   "metadata": {},
   "outputs": [],
   "source": [
    "views['Hours Watched In Millions'] = views['Hours Watched']"
   ]
  },
  {
   "cell_type": "code",
   "execution_count": null,
   "id": "59f4cca5-e63d-4983-ade5-dee91b5ef215",
   "metadata": {},
   "outputs": [],
   "source": [
    "views['Hours Watched In Millions'] = views['Hours Watched In Millions'].astype('float')"
   ]
  },
  {
   "cell_type": "code",
   "execution_count": null,
   "id": "0459680c-25ba-4078-a66a-cf480fe75c6b",
   "metadata": {},
   "outputs": [],
   "source": [
    "views = views.drop(columns={'Hours Watched'})"
   ]
  },
  {
   "cell_type": "code",
   "execution_count": null,
   "id": "79972b36-25c9-45b2-b10a-a486331c3c20",
   "metadata": {},
   "outputs": [],
   "source": [
    "averageviewspermonth = views[['Month','Average Viewers']]"
   ]
  },
  {
   "cell_type": "code",
   "execution_count": null,
   "id": "7a766347-6c03-4e3c-b5be-936286250e8d",
   "metadata": {},
   "outputs": [],
   "source": [
    "fig, ax = plt.subplots(figsize=(14,10))\n",
    "ax.plot('Month','Average Viewers',data=averageviewspermonth, color= 'black')\n",
    "plt.ylabel('Average Viewership')\n",
    "plt.xlabel('Monthly Viewership')\n",
    "plt.title('Average Monthly Dota 2 Viewership')\n",
    "plt.show()"
   ]
  },
  {
   "cell_type": "code",
   "execution_count": null,
   "id": "3980a2d3-92e1-4cd6-9ae6-512ffe811021",
   "metadata": {},
   "outputs": [],
   "source": []
  }
 ],
 "metadata": {
  "kernelspec": {
   "display_name": "Python 3 (ipykernel)",
   "language": "python",
   "name": "python3"
  },
  "language_info": {
   "codemirror_mode": {
    "name": "ipython",
    "version": 3
   },
   "file_extension": ".py",
   "mimetype": "text/x-python",
   "name": "python",
   "nbconvert_exporter": "python",
   "pygments_lexer": "ipython3",
   "version": "3.12.4"
  }
 },
 "nbformat": 4,
 "nbformat_minor": 5
}
